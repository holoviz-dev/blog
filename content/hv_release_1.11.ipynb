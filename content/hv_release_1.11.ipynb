{
 "cells": [
  {
   "cell_type": "markdown",
   "metadata": {},
   "source": [
    "We are very pleased to announce the release of [HoloViews](http://holoviews.org) 1.11.0!\n",
    "\n",
    "This release contains a large number of features and improvements. Some highlights include:\n",
    "\n",
    "**Support for general style mapping**:\n",
    "    \n",
    "- Allow mapping Element dimensions to plot styles using arbitrary transforms\n",
    "\n",
    "**Simplified option setting without magics**:\n",
    "    \n",
    "- The ``.opts`` method now accepts the simpler flat options format\n",
    "- The ``opts`` utility provides tab-completion for options\n",
    "\n",
    "**Simplified API**:\n",
    "    \n",
    "- Simpler ``xlim``/``ylim`` options to override axis ranges\n",
    "- Simpler ``xformatter``/``yformatter`` options to define tick formatters\n",
    "- Simpler ``xlabel``/``ylabel`` options to set axis labels\n",
    "- Top level ``save`` and ``render`` functions\n",
    "\n",
    "**Improvements for plot padding**:\n",
    "\n",
    "- Added a ``padding`` option which adds a fractional padding to the axes\n",
    "\n",
    "**Support for polygons with holes**:\n",
    "\n",
    "- Filled contour operation now outputs polygons with holes\n",
    "\n",
    "**Allow defining pure JS links between plots**:\n",
    "\n",
    "- So called ``Links`` allow defining links in JS, allowing for interactivity without a server\n",
    "\n",
    "**Improved plotly backend**:\n",
    "\n",
    "- Improved composite plots\n",
    "- Additional supported elements\n",
    "\n",
    "**Overhauled documentation**:\n",
    "\n",
    "- We have decided to adopt Google style docstrings and have started consistently updating existing docstrings\n",
    "\n",
    "Plus many other bug fixes, enhancements and documentation improvements. For full details, see the [Release Notes](https://github.com/ioam/holoviews/releases/tag/v1.10.0).\n",
    "\n",
    "<hr>\n",
    "\n",
    "If you are using [Anaconda](https://www.anaconda.com/downloads), HoloViews can most easily be installed by executing the command ``conda install -c pyviz holoviews`` . Otherwise, use ``pip install holoviews``.\n",
    "\n",
    "<hr>"
   ]
  },
  {
   "cell_type": "code",
   "execution_count": null,
   "metadata": {},
   "outputs": [],
   "source": [
    "#ignore\n",
    "import numpy as np\n",
    "import holoviews as hv\n",
    "\n",
    "hv.extension('bokeh')"
   ]
  },
  {
   "cell_type": "markdown",
   "metadata": {},
   "source": [
    "## Style mapping\n",
    "\n",
    "One of the major strengths of HoloViews has always been the ease with which an existing dataset be it an array, DataFrame or xarray object can we wrapped and visualized. However frequently the values in a dataset do not map straightforwardly onto a visual representation and various options proliferated that allowed controlling these mappings, e.g. to scale the size of a set of points three different options were involved (``size_index``, ``scaling_factor`` and ``scaling_method``). These ad-hoc implementations have now been replaced by a general API for declaring arbitrary mappings between your data and the visual attributes of your plot, which can be expressed using the new ``dim`` object:"
   ]
  },
  {
   "cell_type": "code",
   "execution_count": 52,
   "metadata": {},
   "outputs": [],
   "source": [
    "#ignore\n",
    "from holoviews import dim, opts\n",
    "\n",
    "opts.defaults(opts.Points(padding=0.1, size=8, line_color='black'))\n",
    "\n",
    "points = hv.Points(np.random.rand(400, 4))\n",
    "\n",
    "bins   = [0, .25, 0.5, .75, 1]\n",
    "labels = ['circle', 'triangle', 'diamond', 'square']\n",
    "\n",
    "layout = hv.Layout([\n",
    "    points.relabel('Alpha' ).opts(alpha =dim('x').norm()),\n",
    "    points.relabel('Angle' ).opts(angle =dim('x').norm()*360, marker='dash', size=10),\n",
    "    points.relabel('Color' ).opts(color =dim('x')),\n",
    "    points.relabel('Marker').opts(marker=dim('x').bin(bins, labels)),\n",
    "    points.relabel('Size'  ).opts(size  =dim('x')*10)\n",
    "])\n",
    "\n",
    "style_mapping = layout.opts(opts.Points(width=200, height=200, xaxis=None, yaxis=None)).cols(5)\n",
    "\n",
    "mime = hv.renderer('bokeh').components(style_mapping)\n",
    "with open('images/style_mapping.js', 'w') as f:\n",
    "    f.write(mime[0]['application/javascript'])"
   ]
  },
  {
   "cell_type": "markdown",
   "metadata": {},
   "source": [
    "<div id='7863' style='display: table; margin: 0 auto;'>\n",
    "    <div class=\"bk-root\" id=\"ff6a9bc9-be01-493a-ad3d-c6c44d493419\"></div>\n",
    "</div>\n",
    "\n",
    "<script async src=\"./images/style_mapping.js\"></script>\n",
    "\n",
    "## Simplified API\n",
    "\n",
    "Over the past few years we have gathered a lot of feedback from users and while most appreciate the huge flexibility and power HoloViews provides many users would get confused about some basic plotting operations. In this release we have tried to simplify the API for some of these more common operations."
   ]
  },
  {
   "cell_type": "markdown",
   "metadata": {},
   "source": [
    "#### Simplified options\n",
    "\n",
    "Ever since the first release of HoloViews we have heavily relied on the IPython magics to specify options. They provided a convenient, tab-completable and concise syntax for customizing plots in the notebook. At the same time however the custom syntax was often a bit jarring to new users and often made it difficult to move code between a notebook and a script. We therefore set out to replace the magics with something equally as convenient but relying only on pure Python syntax."
   ]
  },
  {
   "cell_type": "markdown",
   "metadata": {},
   "source": [
    "#### Simplified plot options\n",
    "\n",
    "Another common thing catching out new users has been the difficulty of expressing plot ranges, formatters, and axis labels using a completely declarative approach by defining these on the Dimension objects. Therefore we decided to finally add ``xlabel``/``ylabel``, ``xlim``/``ylim`` and ``xformatter``/``yformatter`` providing a more familiar API to fall back to during exploratory work, while still supporting the ``Dimension`` based declarative approach we recommend."
   ]
  },
  {
   "cell_type": "markdown",
   "metadata": {},
   "source": [
    "#### Plot padding\n",
    "\n",
    "One of the major difficulties when using HoloViews was setting sufficient padding for a plot so data that was near the edge of a plot would not be cut off. Instead of manually setting axis ranges it is now possible to use the ``padding`` option to specify the fraction of the plot devoted that should be padded, either for both axes, for each axis individually or even for the upper and lower bound of each axis."
   ]
  },
  {
   "cell_type": "markdown",
   "metadata": {},
   "source": [
    "#### Save and render functions\n",
    "\n",
    "Another common question we were asked is how to save holoviews objects to files or convert them to bokeh, matplotlib or plotly objects. To make this easy we have added new top-level ``hv.save`` and ``hv.render`` functions."
   ]
  },
  {
   "cell_type": "markdown",
   "metadata": {},
   "source": [
    "## Polygons with holes"
   ]
  },
  {
   "cell_type": "code",
   "execution_count": 49,
   "metadata": {},
   "outputs": [],
   "source": [
    "def f(x, y):\n",
    "    return np.sin(x) ** 10 + np.cos(10 + y * x) * np.cos(x)\n",
    "\n",
    "x = np.linspace(0, 5, 50)\n",
    "y = np.linspace(0, 5, 40)\n",
    "\n",
    "X, Y = np.meshgrid(x, y)\n",
    "Z = f(X, Y)\n",
    "\n",
    "contourf = hv.operation.contours(hv.Image(Z), filled=True).opts(\n",
    "    colorbar=True, line_alpha=0, height=400, width=500, color_levels=10, tools=['hover'], cmap='RdGy')\n",
    "\n",
    "mime = hv.renderer('bokeh').components(contourf)\n",
    "with open('images/contourf.js', 'w') as f:\n",
    "    f.write(mime[0]['application/javascript'])"
   ]
  },
  {
   "cell_type": "markdown",
   "metadata": {},
   "source": [
    "<div id='7427' style='display: table; margin: 0 auto;'>\n",
    "    <div class=\"bk-root\" id=\"2265b7ce-93d7-44b5-9cb4-28f9e3e4b273\"></div>\n",
    "</div>\n",
    "\n",
    "<script async src=\"./images/contourf.js\"></script>\n",
    "\n",
    "## JS Links"
   ]
  },
  {
   "cell_type": "markdown",
   "metadata": {},
   "source": [
    "## Plotly backend improvements"
   ]
  },
  {
   "cell_type": "markdown",
   "metadata": {},
   "source": [
    "## Improved docstrings\n",
    "\n",
    "HoloViews builds on the [param](http://param.pyviz.org/) library, which provides a clean way to parameterize classes and add type checking, validation and inline docstrings. However in many cases the methods on the parameterized classes were under-documented. In this release we have begun the longer term project of converting function and method docstrings to Google style, providing descriptions of each argument and return value."
   ]
  },
  {
   "cell_type": "markdown",
   "metadata": {},
   "source": [
    "# Deprecations"
   ]
  },
  {
   "cell_type": "markdown",
   "metadata": {},
   "source": [
    "# Onwards"
   ]
  }
 ],
 "metadata": {
  "kernelspec": {
   "display_name": "Python 3 (ipykernel)",
   "language": "python",
   "name": "python3"
  },
  "language_info": {
   "codemirror_mode": {
    "name": "ipython",
    "version": 3
   },
   "file_extension": ".py",
   "mimetype": "text/x-python",
   "name": "python",
   "nbconvert_exporter": "python",
   "pygments_lexer": "ipython3",
   "version": "3.10.12"
  }
 },
 "nbformat": 4,
 "nbformat_minor": 4
}
