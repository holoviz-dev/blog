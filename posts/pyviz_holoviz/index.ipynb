{
 "cells": [
  {
   "cell_type": "markdown",
   "metadata": {},
   "source": [
    "---\n",
    "title: \"PyViz.org and HoloViz.org\"\n",
    "date: \"2019-07-02\"\n",
    "description: \"Announcing HoloViz splitting off from PyViz\"\n",
    "author: \"James A. Bednar\"\n",
    "categories: [announcement]\n",
    "image: \"images/pyviz_holoviz.png\"\n",
    "aliases:\n",
    "  - ../../pyviz-holoviz.html\n",
    "---"
   ]
  },
  {
   "cell_type": "markdown",
   "metadata": {},
   "source": [
    "<img src=\"https://pyviz.org/_static/logo.png\" width=20%>\n",
    "<img src=\"https://holoviz.org/_static/holoviz-logo-unstacked.svg\" width=40%>\n",
    "\n",
    "<h1>PyViz.org and HoloViz.org</h1>\n",
    "\n",
    "[PyViz](https://pyviz.org) is a project originally started by Anaconda, Inc. and now including contributions from a very wide range of external contributors. The project brought together the authors of [Datashader](http://datashader.org), [HoloViews](https://holoviews.org), [GeoViews](http://geoviews.org), [Param](https://param.pyviz.org), and [Colorcet](https://colorcet.pyviz.org), with the goal of helping people make sense of the confusing [Python data visualization landscape](https://www.anaconda.com/python-data-visualization-2018-why-so-many-libraries/). As part of this project, we have added several additional libraries, including [Panel](https://panel.pyviz.org) and [hvPlot](https://hvplot.pyviz.org).\n",
    "\n",
    "However, in practice there has been confusion between our work to help make viz more accessible for all Python users and our advocacy for our own particular libraries, approaches, and viewpoints.\n",
    "\n",
    "To help everyone keep things straight, we have split these two goals and approaches into two separate organizations:\n",
    "[PyViz](https://github.com/pyviz) and [HoloViz](https://github.com/holoviz).\n",
    "\n",
    "Like [PyData.org](https://pydata.org) (after which it was named), [PyViz.org](https://pyviz.org) is an open, non-partisan site owned by [NumFocus](https://numfocus.org). PyViz is dedicated to sharing information about Python tools, without making claims or judgments about which tool is better.  Anyone can contribute factual information to [PyViz.org](https://pyviz.org), in the hopes of educating everyone about what tools and capabilities are available in Python. Plus, any Python visualization tool can request a `.pyviz.org` domain name, which will redirect to their web site. [Anaconda, Inc.](https://anaconda.com) currently pays for the server and administers PyViz.org, but as laid out in [pyviz/website#2](https://github.com/pyviz/website/issues/2), future governance is open to anyone ready to promote Python data visualization in a balanced way.\n",
    "\n",
    "Meanwhile, [HoloViz.org](https://holoviz.org) is an opinionated guide to the tools we created and how to use them to solve problems in data science. These tools were built around and on top of the many science and engineering tools already available in Python, focusing on adding higher-level interfaces that directly address problems faced by end users. HoloViz tools support flexibly visualizing data of any dimensionality in any combination, putting together dashboards quickly and conveniently, rendering billions of data points as easily as hundreds, maintaining visual representations separately from domain models, and effectively utilizing the full dynamic range available for visual perception.\n",
    "\n",
    "We hope that separating our efforts in this way will help the community be able to use and support [PyViz.org](https://pyviz.org) as a general resource for all things viz in Python, while still letting us present a strong case for our own approaches to viz on [HoloViz.org](https://holoviz.org). \n",
    "\n",
    "Now that this is all set up, we'd love feedback! If you spot any errors, omissions, or just improvements that can be made at PyViz.org, please open an issue or PR at https://github.com/pyviz/website. In particular, coverage of 3D/SciVis approaches and native-GUI tools is relatively light so far, and we'd welcome some updates from people experienced in those areas. Together we can cover a lot more ground than any one group alone can, and can help new Python users find just the right tool for their needs!\n",
    "\n",
    "-- The HoloViz Team\n",
    "\n",
    "(James A. Bednar, Philipp Rudiger, Jean-Luc Stevens, Julia Signell, Chris Ball, and Jon Mease)"
   ]
  }
 ],
 "metadata": {
  "kernelspec": {
   "display_name": "Python 3 (ipykernel)",
   "language": "python",
   "name": "python3"
  },
  "language_info": {
   "codemirror_mode": {
    "name": "ipython",
    "version": 3
   },
   "file_extension": ".py",
   "mimetype": "text/x-python",
   "name": "python",
   "nbconvert_exporter": "python",
   "pygments_lexer": "ipython3",
   "version": "3.10.12"
  }
 },
 "nbformat": 4,
 "nbformat_minor": 4
}
