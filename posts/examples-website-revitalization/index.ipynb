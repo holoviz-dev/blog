{
 "cells": [
  {
   "cell_type": "markdown",
   "id": "1669e852-3e4c-4819-a9ee-bfedd2ab62ed",
   "metadata": {},
   "source": [
    "---\n",
    "title: \"Examples Website Revitalization\"\n",
    "date: \"2024-08-28\"\n",
    "description: \"Announcement for the updated examples gallery website!\"\n",
    "author:\n",
    "  - Junshen Tao\n",
    "  - Isaiah Akorita\n",
    "categories: \"announcement\"\n",
    "image: \"images/thumbnail.png\"\n",
    "---"
   ]
  },
  {
   "cell_type": "markdown",
   "id": "ffdb50e6-c0c3-46e7-8086-0e0ca134562b",
   "metadata": {},
   "source": [
    "The HoloViz [Examples website](https://examples.holoviz.org/) shows real-world workflows where HoloViz tools simplify and improve the exploration of data. However, the website had not been well maintained as it used legacy APIs and contained many issues that hindered the user experience. HoloViz was awarded a development grant from NumFOCUS to modernize and enhance these workflows. The goal was to improve the website by adopting existing APIs, streamlining the contributor guide, and adopting best practices in modern HoloViz applications.\n",
    "\n",
    "The foremost impact of this proposal was the revitalization of the examples website, transforming it into an even more robust and intuitive learning resource. This was completed with the help of two new contributors whose fresh perspectives helped identify issues and improve the onboarding process for other contributors. "
   ]
  },
  {
   "cell_type": "markdown",
   "id": "5c79fcfc",
   "metadata": {
    "vscode": {
     "languageId": "plaintext"
    }
   },
   "source": [
    "## Narrative Context and Flow"
   ]
  },
  {
   "cell_type": "markdown",
   "id": "b989082c",
   "metadata": {},
   "source": [
    "This improvement effort included enhancing the textual descriptions within each example, making them clearer and more informative for users.\n",
    "\n",
    "For instance, in the NYC Taxi workflow, a Panel app was created to combine all the widgets made throughout the example, thereby enhancing user experience and understanding of the tools being used.\n",
    "\n",
    "![](./images/panel_app_nyc_taxi.png)"
   ]
  },
  {
   "cell_type": "markdown",
   "id": "6ba7831a",
   "metadata": {},
   "source": [
    "## Modernization"
   ]
  },
  {
   "cell_type": "markdown",
   "id": "3b23458f",
   "metadata": {
    "vscode": {
     "languageId": "plaintext"
    }
   },
   "source": [
    "We have modernized a total of 14 examples and we will be highlighting [Attractors](https://examples.holoviz.org/gallery/attractors/index.html) and [NYC Taxi](https://examples.holoviz.org/gallery/nyc_taxi/index.html) as they both had significant updates.\n",
    "\n",
    "First, we updated the package versions in use. For instance, we updated Python to at least version 3.11 and updated key HoloViz and associated packages. \n"
   ]
  },
  {
   "cell_type": "markdown",
   "id": "998010bc",
   "metadata": {
    "vscode": {
     "languageId": "plaintext"
    }
   },
   "source": [
    "## Plot API Updates"
   ]
  },
  {
   "cell_type": "markdown",
   "id": "1cb09917",
   "metadata": {
    "vscode": {
     "languageId": "plaintext"
    }
   },
   "source": [
    "The plot API updates addressed multiple aspects, including the preference to use **hvPlot over HoloViews**, as well as the preference to use the **rasterize over datashade** function.\n",
    "\n",
    "### [hvPlot over HoloViews](https://holoviz.org/background.html#the-holoviz-ecosystem)\n",
    "\n",
    "hvPlot adopts an API familiar to Pandas users, compared to the steeper learning curve of HoloViews."
   ]
  },
  {
   "cell_type": "markdown",
   "id": "a7080e2e",
   "metadata": {},
   "source": [
    "For instance, in the NYC Taxi workflow, we created a scatter plot to see the relationship between distance and fare cost. The multi-line Holoviews’ approach was updated with an intuitive single-line hvPlot implementation.\n",
    "\n",
    "![](./images/hvplot_nyc_taxi.png)\n",
    "\n",
    "Previous code:\n",
    "```python\n",
    "scatter = hv.Scatter(samples, 'trip_distance', 'fare_amount'),\n",
    "labelled = scatter.redim.label(trip_distance=\"Distance, miles\", fare_amount=\"Fare, $\") \n",
    "labelled.redim.range(trip_distance=(0, 20), fare_amount=(0,40)).opts(size=5)\n",
    "```\n",
    "\n",
    "New code:\n",
    "```python\n",
    "samples.hvplot.scatter('trip_distance', 'fare_amount', xlabel='Distance, miles',\n",
    "    ylabel='Fare, $', xlim=(0,15), ylim=(0,40), s=5)\n",
    "```"
   ]
  },
  {
   "cell_type": "markdown",
   "id": "1d6f0f91-a447-45ec-8ef9-222c3cbb0281",
   "metadata": {
    "vscode": {
     "languageId": "plaintext"
    }
   },
   "source": [
    "In the Attractors workflow, we created a paths plot to visualize how the particle jumps from one region of space to another. Like the example above, hvPlot improved code readability by integrating all plot options into a single line."
   ]
  },
  {
   "cell_type": "markdown",
   "id": "75e6df0d",
   "metadata": {
    "vscode": {
     "languageId": "plaintext"
    }
   },
   "source": [
    "![](./images/hvplot_attractors.png)\n",
    "\n",
    "Previous code: \n",
    "```python\n",
    "pth = hv.Path([trajectory(Clifford, *(args(\"Clifford\")[5][1:]))]),\n",
    "dynspread(rasterize(pth).opts(cnorm='eq_hist', width=400,height=400))\n",
    "```\n",
    "\n",
    "New code:\n",
    "```python\n",
    "df.hvplot.paths('x', 'y', rasterize=True, dynspread=True, \n",
    "    cnorm='eq_hist',width=400, height=400, colorbar=False)\n",
    "```"
   ]
  },
  {
   "cell_type": "markdown",
   "id": "f4801407",
   "metadata": {
    "vscode": {
     "languageId": "plaintext"
    }
   },
   "source": [
    "### [Rasterize to Datashade](https://holoviz.org/background.html#the-holoviz-ecosystem)\n",
    "When plotting datasets with numerous categories, rasterize improves memory usage over datashade by automatically binning data into fixed 2D arrays with each zoom or pan.\n",
    "\n",
    "\n"
   ]
  },
  {
   "cell_type": "markdown",
   "id": "b522714a",
   "metadata": {
    "vscode": {
     "languageId": "plaintext"
    }
   },
   "source": [
    "![](./images/rasterize_nyc_taxi.png)\n",
    "\n",
    "Previous code\n",
    "```python\n",
    "import holoviews.operation.datashader as hd\n",
    "custom_shaded = hd.shade(hd.rasterize(custom_points).apply(transform), cmap=cc.fire)\n",
    "```\n",
    "\n",
    "New code\n",
    "```python\n",
    "import holoviews.operation.datashader as hd\n",
    "custom_rasterized = hd.rasterize(custom_points).apply(transform)\n",
    "    .opts(cmap='fire', cnorm='eq_hist', tools=['hover'])\n",
    "```"
   ]
  },
  {
   "cell_type": "markdown",
   "id": "7736f8ec",
   "metadata": {
    "vscode": {
     "languageId": "plaintext"
    }
   },
   "source": [
    "From the NYC Taxi workflow, we’ve created a custom transformation function to only highlight hotspots that are in the 90th percentile by count. When zoomed in, only the data available at that zoom level is revealed, which avoids issues of overplotting by dynamically rescaling the colors used. "
   ]
  },
  {
   "cell_type": "markdown",
   "id": "b970275b",
   "metadata": {
    "vscode": {
     "languageId": "plaintext"
    }
   },
   "source": [
    "## Interactivity of API updates"
   ]
  },
  {
   "cell_type": "markdown",
   "id": "91f0ee6b",
   "metadata": {},
   "source": [
    "### [Prefer pn.bind()](https://panel.holoviz.org/tutorials/basic/pn_bind.html)\n",
    "\n",
    "`pn.bind()` has replaced `pn.interact()` due to the latter being a depreciating API that is no longer well-maintained."
   ]
  },
  {
   "cell_type": "markdown",
   "id": "e053eb16",
   "metadata": {
    "vscode": {
     "languageId": "plaintext"
    }
   },
   "source": [
    "![](./images/bind_attractors.png)\n",
    "\n",
    "Previous code:\n",
    "```python\n",
    "pn.interact(clifford_plot, n=(1,20000000), colormap=ps)\n",
    "```\n",
    "\n",
    "New code: \n",
    "```python\n",
    "widgets = {\n",
    "    'a': pn.widgets.FloatSlider(value=1.9, end=2.0, step=0.1, name='a'),\n",
    "    'b': pn.widgets.FloatSlider(value=1.9, end=2.0, step=0.1, name='b'),\n",
    "    'c': pn.widgets.FloatSlider(value=1.9, end=2.0, step=0.1, name='c'),\n",
    "    'd': pn.widgets.FloatSlider(value=0.8, end=1.0, step=0.1, name='d'),\n",
    "    'n': pn.widgets.IntSlider(value=10000000, start=1000, end=20000000, step=100, name='n'),\n",
    "    'colormap': pn.widgets.Select(value=ps['bmw'], options=ps, name='colormap'),\n",
    "}\n",
    "\n",
    "bound_clifford_plot = pn.bind(clifford_plot, **widgets)\n",
    "pn.Column(*widgets.values(), bound_clifford_plot)\n",
    "```"
   ]
  },
  {
   "cell_type": "markdown",
   "id": "3c7aa9e9",
   "metadata": {
    "vscode": {
     "languageId": "plaintext"
    }
   },
   "source": [
    "In the Attractors workflow, we are visualizing different shapes by creating interactive components by linking widgets to a function. `pn.bind()` allows us to define our widgets more explicitly compared to `pn.interact()`."
   ]
  },
  {
   "cell_type": "markdown",
   "id": "e09f10e9",
   "metadata": {
    "vscode": {
     "languageId": "plaintext"
    }
   },
   "source": [
    "## Conclusion"
   ]
  },
  {
   "cell_type": "markdown",
   "id": "8e2cb916",
   "metadata": {
    "vscode": {
     "languageId": "plaintext"
    }
   },
   "source": [
    "Attractors and NYC Taxi are two of 14 examples that have seen significant enhancements in both code and text readability. In addition, [a new example](https://examples.holoviz.org/gallery/world_cup/world_cup.html) covering the 2018 world cup was developed to highlight the applicability of HoloViz tools in sports analysis.\n",
    "\n",
    "In addition to modernizing these examples, the gallery website underwent significant upgrades, various bugs within the HoloViz suite were addressed, and the contributing guide was enhanced to better support future contributors.\n",
    "\n",
    "By improving examples to be more engaging and accessible, we aim to provide a robust platform for future scientists and professionals that will have benefits beyond the HoloViz project itself.\n"
   ]
  },
  {
   "cell_type": "markdown",
   "id": "838d2c04-2060-404c-a044-b02c611b780a",
   "metadata": {},
   "source": [
    "## [Jason’s](https://github.com/jtao1) reflections\n",
    "\n",
    "Contributing to the revitalization of the examples website was an enlightening experience for me. Beyond learning about HoloViz tools, I gained a deeper understanding of open source contributions, including the workflow intricacies. This includes creating pull requests when making new changes or opening a new issue to document bugs found in the examples. Neither of which I’ve used when developing my own projects. Setting up the environment was also a tricky process as I had to do it in WSL. This exposure to WSL has helped me when working with other projects that are required to be using Linux. \n",
    "\n",
    "Overall, I am thankful to have been given this experience as a contributor as I’ve acquired a fundamental understanding of the tools that could be used."
   ]
  },
  {
   "cell_type": "markdown",
   "id": "068ad2d6-9e15-4c7d-959a-5f27ab438506",
   "metadata": {
    "editable": true,
    "slideshow": {
     "slide_type": ""
    },
    "tags": []
   },
   "source": [
    "## [Isaiah’s](https://github.com/Azaya89) reflections\n",
    "\n",
    "Working on this project has not only been an enjoyable experience but also an incredibly educational one. The journey began with a steep learning curve, but overcoming those initial challenges has made the entire process more rewarding.\n",
    "\n",
    "### Key Learnings\n",
    "\n",
    "#### Panel and HoloViz Libraries\n",
    "The Panel and HoloViz libraries were at the core of our project. Panel, being a high-level app and dashboarding solution for Python, allowed us to create interactive visualizations effortlessly. HoloViz, with its suite of tools designed to work seamlessly together, made data visualization tasks more intuitive and efficient. These tools have significantly enhanced my ability to create compelling and interactive data visualizations.\n",
    "\n",
    "#### Datashader\n",
    "Modernizing examples using the Datashader library was one of the highlights of the project. Datashader excels at creating meaningful visualizations from large datasets, a critical capability in the age of big data. My extensive use of Datashader has turned it into a reliable tool that I now feel confident using for future projects.\n",
    "\n",
    "#### Anaconda-Project\n",
    "Another crucial aspect of the project was mastering anaconda-project. It facilitated managing project dependencies and environments, ensuring that the project was reproducible at various levels. This experience underscored the [importance of reproducibility in data science](https://www.anaconda.com/blog/8-levels-of-reproducibility), which is vital for collaboration and long-term project sustainability.\n",
    "\n",
    "### Overcoming Challenges\n",
    "The initial phase was riddled with challenges, particularly in setting up the project locally and navigating the submission process for Pull Requests. The support from the project leaders was invaluable. Their guidance helped streamline our workflow, making subsequent tasks more manageable and efficient. This collaborative effort not only improved my technical skills but also reinforced the importance of teamwork and effective communication.\n",
    "\n",
    "### Future Prospects\n",
    "This project has been a significant milestone in my career. Working with the HoloViz team has not only broadened my technical expertise but also inspired me to continue exploring and utilizing these tools. I am excited to integrate HoloViz and its associated libraries into my future personal and professional data science endeavors.\n",
    "\n",
    "This project has been an enriching experience, providing both challenges and opportunities for growth. The skills and knowledge gained will undoubtedly influence my future work, and I am grateful for the chance to contribute to such a dynamic and innovative project."
   ]
  }
 ],
 "metadata": {
  "kernelspec": {
   "display_name": "Python 3 (ipykernel)",
   "language": "python",
   "name": "python3"
  },
  "language_info": {
   "codemirror_mode": {
    "name": "ipython",
    "version": 3
   },
   "file_extension": ".py",
   "mimetype": "text/x-python",
   "name": "python",
   "nbconvert_exporter": "python",
   "pygments_lexer": "ipython3",
   "version": "3.11.8"
  },
  "widgets": {
   "application/vnd.jupyter.widget-state+json": {
    "state": {},
    "version_major": 2,
    "version_minor": 0
   }
  }
 },
 "nbformat": 4,
 "nbformat_minor": 5
}
