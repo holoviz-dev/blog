{
 "cells": [
  {
   "cell_type": "markdown",
   "metadata": {},
   "source": [
    "---\n",
    "title: \"Panel 1.4.0 Release\"\n",
    "date: \"2024-03-28\"\n",
    "description: \"Release announcement for Panel 1.4\"\n",
    "author: \"Philipp Rudiger\"\n",
    "categories: [release, panel]\n",
    "image: \"images/collage_1.4.png\"\n",
    "aliases:\n",
    "  - ../../panel_1.4.html\n",
    "---"
   ]
  },
  {
   "cell_type": "code",
   "execution_count": 1,
   "metadata": {},
   "outputs": [
    {
     "data": {
      "application/javascript": "(function(root) {\n  function now() {\n    return new Date();\n  }\n\n  var force = true;\n  var py_version = '3.4.0'.replace('rc', '-rc.').replace('.dev', '-dev.');\n  var reloading = false;\n  var Bokeh = root.Bokeh;\n\n  if (typeof (root._bokeh_timeout) === \"undefined\" || force) {\n    root._bokeh_timeout = Date.now() + 5000;\n    root._bokeh_failed_load = false;\n  }\n\n  function run_callbacks() {\n    try {\n      root._bokeh_onload_callbacks.forEach(function(callback) {\n        if (callback != null)\n          callback();\n      });\n    } finally {\n      delete root._bokeh_onload_callbacks;\n    }\n    console.debug(\"Bokeh: all callbacks have finished\");\n  }\n\n  function load_libs(css_urls, js_urls, js_modules, js_exports, callback) {\n    if (css_urls == null) css_urls = [];\n    if (js_urls == null) js_urls = [];\n    if (js_modules == null) js_modules = [];\n    if (js_exports == null) js_exports = {};\n\n    root._bokeh_onload_callbacks.push(callback);\n\n    if (root._bokeh_is_loading > 0) {\n      console.debug(\"Bokeh: BokehJS is being loaded, scheduling callback at\", now());\n      return null;\n    }\n    if (js_urls.length === 0 && js_modules.length === 0 && Object.keys(js_exports).length === 0) {\n      run_callbacks();\n      return null;\n    }\n    if (!reloading) {\n      console.debug(\"Bokeh: BokehJS not loaded, scheduling load and callback at\", now());\n    }\n\n    function on_load() {\n      root._bokeh_is_loading--;\n      if (root._bokeh_is_loading === 0) {\n        console.debug(\"Bokeh: all BokehJS libraries/stylesheets loaded\");\n        run_callbacks()\n      }\n    }\n    window._bokeh_on_load = on_load\n\n    function on_error() {\n      console.error(\"failed to load \" + url);\n    }\n\n    var skip = [];\n    if (window.requirejs) {\n      window.requirejs.config({'packages': {}, 'paths': {}, 'shim': {}});\n      root._bokeh_is_loading = css_urls.length + 0;\n    } else {\n      root._bokeh_is_loading = css_urls.length + js_urls.length + js_modules.length + Object.keys(js_exports).length;\n    }\n\n    var existing_stylesheets = []\n    var links = document.getElementsByTagName('link')\n    for (var i = 0; i < links.length; i++) {\n      var link = links[i]\n      if (link.href != null) {\n\texisting_stylesheets.push(link.href)\n      }\n    }\n    for (var i = 0; i < css_urls.length; i++) {\n      var url = css_urls[i];\n      if (existing_stylesheets.indexOf(url) !== -1) {\n\ton_load()\n\tcontinue;\n      }\n      const element = document.createElement(\"link\");\n      element.onload = on_load;\n      element.onerror = on_error;\n      element.rel = \"stylesheet\";\n      element.type = \"text/css\";\n      element.href = url;\n      console.debug(\"Bokeh: injecting link tag for BokehJS stylesheet: \", url);\n      document.body.appendChild(element);\n    }    var existing_scripts = []\n    var scripts = document.getElementsByTagName('script')\n    for (var i = 0; i < scripts.length; i++) {\n      var script = scripts[i]\n      if (script.src != null) {\n\texisting_scripts.push(script.src)\n      }\n    }\n    for (var i = 0; i < js_urls.length; i++) {\n      var url = js_urls[i];\n      if (skip.indexOf(url) !== -1 || existing_scripts.indexOf(url) !== -1) {\n\tif (!window.requirejs) {\n\t  on_load();\n\t}\n\tcontinue;\n      }\n      var element = document.createElement('script');\n      element.onload = on_load;\n      element.onerror = on_error;\n      element.async = false;\n      element.src = url;\n      console.debug(\"Bokeh: injecting script tag for BokehJS library: \", url);\n      document.head.appendChild(element);\n    }\n    for (var i = 0; i < js_modules.length; i++) {\n      var url = js_modules[i];\n      if (skip.indexOf(url) !== -1 || existing_scripts.indexOf(url) !== -1) {\n\tif (!window.requirejs) {\n\t  on_load();\n\t}\n\tcontinue;\n      }\n      var element = document.createElement('script');\n      element.onload = on_load;\n      element.onerror = on_error;\n      element.async = false;\n      element.src = url;\n      element.type = \"module\";\n      console.debug(\"Bokeh: injecting script tag for BokehJS library: \", url);\n      document.head.appendChild(element);\n    }\n    for (const name in js_exports) {\n      var url = js_exports[name];\n      if (skip.indexOf(url) >= 0 || root[name] != null) {\n\tif (!window.requirejs) {\n\t  on_load();\n\t}\n\tcontinue;\n      }\n      var element = document.createElement('script');\n      element.onerror = on_error;\n      element.async = false;\n      element.type = \"module\";\n      console.debug(\"Bokeh: injecting script tag for BokehJS library: \", url);\n      element.textContent = `\n      import ${name} from \"${url}\"\n      window.${name} = ${name}\n      window._bokeh_on_load()\n      `\n      document.head.appendChild(element);\n    }\n    if (!js_urls.length && !js_modules.length) {\n      on_load()\n    }\n  };\n\n  function inject_raw_css(css) {\n    const element = document.createElement(\"style\");\n    element.appendChild(document.createTextNode(css));\n    document.body.appendChild(element);\n  }\n\n  var js_urls = [\"https://cdn.bokeh.org/bokeh/release/bokeh-3.4.0.min.js\", \"https://cdn.bokeh.org/bokeh/release/bokeh-gl-3.4.0.min.js\", \"https://cdn.bokeh.org/bokeh/release/bokeh-widgets-3.4.0.min.js\", \"https://cdn.bokeh.org/bokeh/release/bokeh-tables-3.4.0.min.js\", \"https://cdn.holoviz.org/panel/1.4.0/dist/bundled/material-components-web@7.0.0/dist/material-components-web.min.js\", \"https://cdn.holoviz.org/panel/1.4.0/dist/panel.min.js\"];\n  var js_modules = [];\n  var js_exports = {};\n  var css_urls = [\"https://fonts.googleapis.com/css?family=Roboto:300,400,500\", \"https://fonts.googleapis.com/css?family=Material+Icons&display=block\"];\n  var inline_js = [    function(Bokeh) {\n      Bokeh.set_log_level(\"info\");\n    },\nfunction(Bokeh) {} // ensure no trailing comma for IE\n  ];\n\n  function run_inline_js() {\n    if ((root.Bokeh !== undefined) || (force === true)) {\n      for (var i = 0; i < inline_js.length; i++) {\n\ttry {\n          inline_js[i].call(root, root.Bokeh);\n\t} catch(e) {\n\t  if (!reloading) {\n\t    throw e;\n\t  }\n\t}\n      }\n      // Cache old bokeh versions\n      if (Bokeh != undefined && !reloading) {\n\tvar NewBokeh = root.Bokeh;\n\tif (Bokeh.versions === undefined) {\n\t  Bokeh.versions = new Map();\n\t}\n\tif (NewBokeh.version !== Bokeh.version) {\n\t  Bokeh.versions.set(NewBokeh.version, NewBokeh)\n\t}\n\troot.Bokeh = Bokeh;\n      }} else if (Date.now() < root._bokeh_timeout) {\n      setTimeout(run_inline_js, 100);\n    } else if (!root._bokeh_failed_load) {\n      console.log(\"Bokeh: BokehJS failed to load within specified timeout.\");\n      root._bokeh_failed_load = true;\n    }\n    root._bokeh_is_initializing = false\n  }\n\n  function load_or_wait() {\n    // Implement a backoff loop that tries to ensure we do not load multiple\n    // versions of Bokeh and its dependencies at the same time.\n    // In recent versions we use the root._bokeh_is_initializing flag\n    // to determine whether there is an ongoing attempt to initialize\n    // bokeh, however for backward compatibility we also try to ensure\n    // that we do not start loading a newer (Panel>=1.0 and Bokeh>3) version\n    // before older versions are fully initialized.\n    if (root._bokeh_is_initializing && Date.now() > root._bokeh_timeout) {\n      root._bokeh_is_initializing = false;\n      root._bokeh_onload_callbacks = undefined;\n      console.log(\"Bokeh: BokehJS was loaded multiple times but one version failed to initialize.\");\n      load_or_wait();\n    } else if (root._bokeh_is_initializing || (typeof root._bokeh_is_initializing === \"undefined\" && root._bokeh_onload_callbacks !== undefined)) {\n      setTimeout(load_or_wait, 100);\n    } else {\n      root._bokeh_is_initializing = true\n      root._bokeh_onload_callbacks = []\n      var bokeh_loaded = Bokeh != null && (Bokeh.version === py_version || (Bokeh.versions !== undefined && Bokeh.versions.has(py_version)));\n      if (!reloading && !bokeh_loaded) {\n\troot.Bokeh = undefined;\n      }\n      load_libs(css_urls, js_urls, js_modules, js_exports, function() {\n\tconsole.debug(\"Bokeh: BokehJS plotting callback run at\", now());\n\trun_inline_js();\n      });\n    }\n  }\n  // Give older versions of the autoload script a head-start to ensure\n  // they initialize before we start loading newer version.\n  setTimeout(load_or_wait, 100)\n}(window));",
      "application/vnd.holoviews_load.v0+json": ""
     },
     "metadata": {},
     "output_type": "display_data"
    },
    {
     "data": {
      "application/javascript": "\nif ((window.PyViz === undefined) || (window.PyViz instanceof HTMLElement)) {\n  window.PyViz = {comms: {}, comm_status:{}, kernels:{}, receivers: {}, plot_index: []}\n}\n\n\n    function JupyterCommManager() {\n    }\n\n    JupyterCommManager.prototype.register_target = function(plot_id, comm_id, msg_handler) {\n      if (window.comm_manager || ((window.Jupyter !== undefined) && (Jupyter.notebook.kernel != null))) {\n        var comm_manager = window.comm_manager || Jupyter.notebook.kernel.comm_manager;\n        comm_manager.register_target(comm_id, function(comm) {\n          comm.on_msg(msg_handler);\n        });\n      } else if ((plot_id in window.PyViz.kernels) && (window.PyViz.kernels[plot_id])) {\n        window.PyViz.kernels[plot_id].registerCommTarget(comm_id, function(comm) {\n          comm.onMsg = msg_handler;\n        });\n      } else if (typeof google != 'undefined' && google.colab.kernel != null) {\n        google.colab.kernel.comms.registerTarget(comm_id, (comm) => {\n          var messages = comm.messages[Symbol.asyncIterator]();\n          function processIteratorResult(result) {\n            var message = result.value;\n            console.log(message)\n            var content = {data: message.data, comm_id};\n            var buffers = []\n            for (var buffer of message.buffers || []) {\n              buffers.push(new DataView(buffer))\n            }\n            var metadata = message.metadata || {};\n            var msg = {content, buffers, metadata}\n            msg_handler(msg);\n            return messages.next().then(processIteratorResult);\n          }\n          return messages.next().then(processIteratorResult);\n        })\n      }\n    }\n\n    JupyterCommManager.prototype.get_client_comm = function(plot_id, comm_id, msg_handler) {\n      if (comm_id in window.PyViz.comms) {\n        return window.PyViz.comms[comm_id];\n      } else if (window.comm_manager || ((window.Jupyter !== undefined) && (Jupyter.notebook.kernel != null))) {\n        var comm_manager = window.comm_manager || Jupyter.notebook.kernel.comm_manager;\n        var comm = comm_manager.new_comm(comm_id, {}, {}, {}, comm_id);\n        if (msg_handler) {\n          comm.on_msg(msg_handler);\n        }\n      } else if ((plot_id in window.PyViz.kernels) && (window.PyViz.kernels[plot_id])) {\n        var comm = window.PyViz.kernels[plot_id].connectToComm(comm_id);\n        comm.open();\n        if (msg_handler) {\n          comm.onMsg = msg_handler;\n        }\n      } else if (typeof google != 'undefined' && google.colab.kernel != null) {\n        var comm_promise = google.colab.kernel.comms.open(comm_id)\n        comm_promise.then((comm) => {\n          window.PyViz.comms[comm_id] = comm;\n          if (msg_handler) {\n            var messages = comm.messages[Symbol.asyncIterator]();\n            function processIteratorResult(result) {\n              var message = result.value;\n              var content = {data: message.data};\n              var metadata = message.metadata || {comm_id};\n              var msg = {content, metadata}\n              msg_handler(msg);\n              return messages.next().then(processIteratorResult);\n            }\n            return messages.next().then(processIteratorResult);\n          }\n        }) \n        var sendClosure = (data, metadata, buffers, disposeOnDone) => {\n          return comm_promise.then((comm) => {\n            comm.send(data, metadata, buffers, disposeOnDone);\n          });\n        };\n        var comm = {\n          send: sendClosure\n        };\n      }\n      window.PyViz.comms[comm_id] = comm;\n      return comm;\n    }\n    window.PyViz.comm_manager = new JupyterCommManager();\n    \n\n\nvar JS_MIME_TYPE = 'application/javascript';\nvar HTML_MIME_TYPE = 'text/html';\nvar EXEC_MIME_TYPE = 'application/vnd.holoviews_exec.v0+json';\nvar CLASS_NAME = 'output';\n\n/**\n * Render data to the DOM node\n */\nfunction render(props, node) {\n  var div = document.createElement(\"div\");\n  var script = document.createElement(\"script\");\n  node.appendChild(div);\n  node.appendChild(script);\n}\n\n/**\n * Handle when a new output is added\n */\nfunction handle_add_output(event, handle) {\n  var output_area = handle.output_area;\n  var output = handle.output;\n  if ((output.data == undefined) || (!output.data.hasOwnProperty(EXEC_MIME_TYPE))) {\n    return\n  }\n  var id = output.metadata[EXEC_MIME_TYPE][\"id\"];\n  var toinsert = output_area.element.find(\".\" + CLASS_NAME.split(' ')[0]);\n  if (id !== undefined) {\n    var nchildren = toinsert.length;\n    var html_node = toinsert[nchildren-1].children[0];\n    html_node.innerHTML = output.data[HTML_MIME_TYPE];\n    var scripts = [];\n    var nodelist = html_node.querySelectorAll(\"script\");\n    for (var i in nodelist) {\n      if (nodelist.hasOwnProperty(i)) {\n        scripts.push(nodelist[i])\n      }\n    }\n\n    scripts.forEach( function (oldScript) {\n      var newScript = document.createElement(\"script\");\n      var attrs = [];\n      var nodemap = oldScript.attributes;\n      for (var j in nodemap) {\n        if (nodemap.hasOwnProperty(j)) {\n          attrs.push(nodemap[j])\n        }\n      }\n      attrs.forEach(function(attr) { newScript.setAttribute(attr.name, attr.value) });\n      newScript.appendChild(document.createTextNode(oldScript.innerHTML));\n      oldScript.parentNode.replaceChild(newScript, oldScript);\n    });\n    if (JS_MIME_TYPE in output.data) {\n      toinsert[nchildren-1].children[1].textContent = output.data[JS_MIME_TYPE];\n    }\n    output_area._hv_plot_id = id;\n    if ((window.Bokeh !== undefined) && (id in Bokeh.index)) {\n      window.PyViz.plot_index[id] = Bokeh.index[id];\n    } else {\n      window.PyViz.plot_index[id] = null;\n    }\n  } else if (output.metadata[EXEC_MIME_TYPE][\"server_id\"] !== undefined) {\n    var bk_div = document.createElement(\"div\");\n    bk_div.innerHTML = output.data[HTML_MIME_TYPE];\n    var script_attrs = bk_div.children[0].attributes;\n    for (var i = 0; i < script_attrs.length; i++) {\n      toinsert[toinsert.length - 1].childNodes[1].setAttribute(script_attrs[i].name, script_attrs[i].value);\n    }\n    // store reference to server id on output_area\n    output_area._bokeh_server_id = output.metadata[EXEC_MIME_TYPE][\"server_id\"];\n  }\n}\n\n/**\n * Handle when an output is cleared or removed\n */\nfunction handle_clear_output(event, handle) {\n  var id = handle.cell.output_area._hv_plot_id;\n  var server_id = handle.cell.output_area._bokeh_server_id;\n  if (((id === undefined) || !(id in PyViz.plot_index)) && (server_id !== undefined)) { return; }\n  var comm = window.PyViz.comm_manager.get_client_comm(\"hv-extension-comm\", \"hv-extension-comm\", function () {});\n  if (server_id !== null) {\n    comm.send({event_type: 'server_delete', 'id': server_id});\n    return;\n  } else if (comm !== null) {\n    comm.send({event_type: 'delete', 'id': id});\n  }\n  delete PyViz.plot_index[id];\n  if ((window.Bokeh !== undefined) & (id in window.Bokeh.index)) {\n    var doc = window.Bokeh.index[id].model.document\n    doc.clear();\n    const i = window.Bokeh.documents.indexOf(doc);\n    if (i > -1) {\n      window.Bokeh.documents.splice(i, 1);\n    }\n  }\n}\n\n/**\n * Handle kernel restart event\n */\nfunction handle_kernel_cleanup(event, handle) {\n  delete PyViz.comms[\"hv-extension-comm\"];\n  window.PyViz.plot_index = {}\n}\n\n/**\n * Handle update_display_data messages\n */\nfunction handle_update_output(event, handle) {\n  handle_clear_output(event, {cell: {output_area: handle.output_area}})\n  handle_add_output(event, handle)\n}\n\nfunction register_renderer(events, OutputArea) {\n  function append_mime(data, metadata, element) {\n    // create a DOM node to render to\n    var toinsert = this.create_output_subarea(\n    metadata,\n    CLASS_NAME,\n    EXEC_MIME_TYPE\n    );\n    this.keyboard_manager.register_events(toinsert);\n    // Render to node\n    var props = {data: data, metadata: metadata[EXEC_MIME_TYPE]};\n    render(props, toinsert[0]);\n    element.append(toinsert);\n    return toinsert\n  }\n\n  events.on('output_added.OutputArea', handle_add_output);\n  events.on('output_updated.OutputArea', handle_update_output);\n  events.on('clear_output.CodeCell', handle_clear_output);\n  events.on('delete.Cell', handle_clear_output);\n  events.on('kernel_ready.Kernel', handle_kernel_cleanup);\n\n  OutputArea.prototype.register_mime_type(EXEC_MIME_TYPE, append_mime, {\n    safe: true,\n    index: 0\n  });\n}\n\nif (window.Jupyter !== undefined) {\n  try {\n    var events = require('base/js/events');\n    var OutputArea = require('notebook/js/outputarea').OutputArea;\n    if (OutputArea.prototype.mime_types().indexOf(EXEC_MIME_TYPE) == -1) {\n      register_renderer(events, OutputArea);\n    }\n  } catch(err) {\n  }\n}\n",
      "application/vnd.holoviews_load.v0+json": ""
     },
     "metadata": {},
     "output_type": "display_data"
    },
    {
     "data": {
      "text/html": [
       "<style>*[data-root-id],\n",
       "*[data-root-id] > * {\n",
       "  box-sizing: border-box;\n",
       "  font-family: var(--jp-ui-font-family);\n",
       "  font-size: var(--jp-ui-font-size1);\n",
       "  color: var(--vscode-editor-foreground, var(--jp-ui-font-color1));\n",
       "}\n",
       "\n",
       "/* Override VSCode background color */\n",
       ".cell-output-ipywidget-background:has(\n",
       "    > .cell-output-ipywidget-background > .lm-Widget > *[data-root-id]\n",
       "  ),\n",
       ".cell-output-ipywidget-background:has(> .lm-Widget > *[data-root-id]) {\n",
       "  background-color: transparent !important;\n",
       "}\n",
       "</style>"
      ]
     },
     "metadata": {},
     "output_type": "display_data"
    },
    {
     "data": {
      "application/javascript": "(function(root) {\n  function now() {\n    return new Date();\n  }\n\n  var force = true;\n  var py_version = '3.4.0'.replace('rc', '-rc.').replace('.dev', '-dev.');\n  var reloading = true;\n  var Bokeh = root.Bokeh;\n\n  if (typeof (root._bokeh_timeout) === \"undefined\" || force) {\n    root._bokeh_timeout = Date.now() + 5000;\n    root._bokeh_failed_load = false;\n  }\n\n  function run_callbacks() {\n    try {\n      root._bokeh_onload_callbacks.forEach(function(callback) {\n        if (callback != null)\n          callback();\n      });\n    } finally {\n      delete root._bokeh_onload_callbacks;\n    }\n    console.debug(\"Bokeh: all callbacks have finished\");\n  }\n\n  function load_libs(css_urls, js_urls, js_modules, js_exports, callback) {\n    if (css_urls == null) css_urls = [];\n    if (js_urls == null) js_urls = [];\n    if (js_modules == null) js_modules = [];\n    if (js_exports == null) js_exports = {};\n\n    root._bokeh_onload_callbacks.push(callback);\n\n    if (root._bokeh_is_loading > 0) {\n      console.debug(\"Bokeh: BokehJS is being loaded, scheduling callback at\", now());\n      return null;\n    }\n    if (js_urls.length === 0 && js_modules.length === 0 && Object.keys(js_exports).length === 0) {\n      run_callbacks();\n      return null;\n    }\n    if (!reloading) {\n      console.debug(\"Bokeh: BokehJS not loaded, scheduling load and callback at\", now());\n    }\n\n    function on_load() {\n      root._bokeh_is_loading--;\n      if (root._bokeh_is_loading === 0) {\n        console.debug(\"Bokeh: all BokehJS libraries/stylesheets loaded\");\n        run_callbacks()\n      }\n    }\n    window._bokeh_on_load = on_load\n\n    function on_error() {\n      console.error(\"failed to load \" + url);\n    }\n\n    var skip = [];\n    if (window.requirejs) {\n      window.requirejs.config({'packages': {}, 'paths': {}, 'shim': {}});\n      root._bokeh_is_loading = css_urls.length + 0;\n    } else {\n      root._bokeh_is_loading = css_urls.length + js_urls.length + js_modules.length + Object.keys(js_exports).length;\n    }\n\n    var existing_stylesheets = []\n    var links = document.getElementsByTagName('link')\n    for (var i = 0; i < links.length; i++) {\n      var link = links[i]\n      if (link.href != null) {\n\texisting_stylesheets.push(link.href)\n      }\n    }\n    for (var i = 0; i < css_urls.length; i++) {\n      var url = css_urls[i];\n      if (existing_stylesheets.indexOf(url) !== -1) {\n\ton_load()\n\tcontinue;\n      }\n      const element = document.createElement(\"link\");\n      element.onload = on_load;\n      element.onerror = on_error;\n      element.rel = \"stylesheet\";\n      element.type = \"text/css\";\n      element.href = url;\n      console.debug(\"Bokeh: injecting link tag for BokehJS stylesheet: \", url);\n      document.body.appendChild(element);\n    }    var existing_scripts = []\n    var scripts = document.getElementsByTagName('script')\n    for (var i = 0; i < scripts.length; i++) {\n      var script = scripts[i]\n      if (script.src != null) {\n\texisting_scripts.push(script.src)\n      }\n    }\n    for (var i = 0; i < js_urls.length; i++) {\n      var url = js_urls[i];\n      if (skip.indexOf(url) !== -1 || existing_scripts.indexOf(url) !== -1) {\n\tif (!window.requirejs) {\n\t  on_load();\n\t}\n\tcontinue;\n      }\n      var element = document.createElement('script');\n      element.onload = on_load;\n      element.onerror = on_error;\n      element.async = false;\n      element.src = url;\n      console.debug(\"Bokeh: injecting script tag for BokehJS library: \", url);\n      document.head.appendChild(element);\n    }\n    for (var i = 0; i < js_modules.length; i++) {\n      var url = js_modules[i];\n      if (skip.indexOf(url) !== -1 || existing_scripts.indexOf(url) !== -1) {\n\tif (!window.requirejs) {\n\t  on_load();\n\t}\n\tcontinue;\n      }\n      var element = document.createElement('script');\n      element.onload = on_load;\n      element.onerror = on_error;\n      element.async = false;\n      element.src = url;\n      element.type = \"module\";\n      console.debug(\"Bokeh: injecting script tag for BokehJS library: \", url);\n      document.head.appendChild(element);\n    }\n    for (const name in js_exports) {\n      var url = js_exports[name];\n      if (skip.indexOf(url) >= 0 || root[name] != null) {\n\tif (!window.requirejs) {\n\t  on_load();\n\t}\n\tcontinue;\n      }\n      var element = document.createElement('script');\n      element.onerror = on_error;\n      element.async = false;\n      element.type = \"module\";\n      console.debug(\"Bokeh: injecting script tag for BokehJS library: \", url);\n      element.textContent = `\n      import ${name} from \"${url}\"\n      window.${name} = ${name}\n      window._bokeh_on_load()\n      `\n      document.head.appendChild(element);\n    }\n    if (!js_urls.length && !js_modules.length) {\n      on_load()\n    }\n  };\n\n  function inject_raw_css(css) {\n    const element = document.createElement(\"style\");\n    element.appendChild(document.createTextNode(css));\n    document.body.appendChild(element);\n  }\n\n  var js_urls = [\"https://cdn.holoviz.org/panel/1.4.0/dist/bundled/material-components-web@7.0.0/dist/material-components-web.min.js\"];\n  var js_modules = [];\n  var js_exports = {};\n  var css_urls = [\"https://fonts.googleapis.com/css?family=Roboto:300,400,500\", \"https://fonts.googleapis.com/css?family=Material+Icons&display=block\"];\n  var inline_js = [    function(Bokeh) {\n      Bokeh.set_log_level(\"info\");\n    },\nfunction(Bokeh) {} // ensure no trailing comma for IE\n  ];\n\n  function run_inline_js() {\n    if ((root.Bokeh !== undefined) || (force === true)) {\n      for (var i = 0; i < inline_js.length; i++) {\n\ttry {\n          inline_js[i].call(root, root.Bokeh);\n\t} catch(e) {\n\t  if (!reloading) {\n\t    throw e;\n\t  }\n\t}\n      }\n      // Cache old bokeh versions\n      if (Bokeh != undefined && !reloading) {\n\tvar NewBokeh = root.Bokeh;\n\tif (Bokeh.versions === undefined) {\n\t  Bokeh.versions = new Map();\n\t}\n\tif (NewBokeh.version !== Bokeh.version) {\n\t  Bokeh.versions.set(NewBokeh.version, NewBokeh)\n\t}\n\troot.Bokeh = Bokeh;\n      }} else if (Date.now() < root._bokeh_timeout) {\n      setTimeout(run_inline_js, 100);\n    } else if (!root._bokeh_failed_load) {\n      console.log(\"Bokeh: BokehJS failed to load within specified timeout.\");\n      root._bokeh_failed_load = true;\n    }\n    root._bokeh_is_initializing = false\n  }\n\n  function load_or_wait() {\n    // Implement a backoff loop that tries to ensure we do not load multiple\n    // versions of Bokeh and its dependencies at the same time.\n    // In recent versions we use the root._bokeh_is_initializing flag\n    // to determine whether there is an ongoing attempt to initialize\n    // bokeh, however for backward compatibility we also try to ensure\n    // that we do not start loading a newer (Panel>=1.0 and Bokeh>3) version\n    // before older versions are fully initialized.\n    if (root._bokeh_is_initializing && Date.now() > root._bokeh_timeout) {\n      root._bokeh_is_initializing = false;\n      root._bokeh_onload_callbacks = undefined;\n      console.log(\"Bokeh: BokehJS was loaded multiple times but one version failed to initialize.\");\n      load_or_wait();\n    } else if (root._bokeh_is_initializing || (typeof root._bokeh_is_initializing === \"undefined\" && root._bokeh_onload_callbacks !== undefined)) {\n      setTimeout(load_or_wait, 100);\n    } else {\n      root._bokeh_is_initializing = true\n      root._bokeh_onload_callbacks = []\n      var bokeh_loaded = Bokeh != null && (Bokeh.version === py_version || (Bokeh.versions !== undefined && Bokeh.versions.has(py_version)));\n      if (!reloading && !bokeh_loaded) {\n\troot.Bokeh = undefined;\n      }\n      load_libs(css_urls, js_urls, js_modules, js_exports, function() {\n\tconsole.debug(\"Bokeh: BokehJS plotting callback run at\", now());\n\trun_inline_js();\n      });\n    }\n  }\n  // Give older versions of the autoload script a head-start to ensure\n  // they initialize before we start loading newer version.\n  setTimeout(load_or_wait, 100)\n}(window));",
      "application/vnd.holoviews_load.v0+json": ""
     },
     "metadata": {},
     "output_type": "display_data"
    },
    {
     "data": {
      "application/javascript": "\nif ((window.PyViz === undefined) || (window.PyViz instanceof HTMLElement)) {\n  window.PyViz = {comms: {}, comm_status:{}, kernels:{}, receivers: {}, plot_index: []}\n}\n\n\n    function JupyterCommManager() {\n    }\n\n    JupyterCommManager.prototype.register_target = function(plot_id, comm_id, msg_handler) {\n      if (window.comm_manager || ((window.Jupyter !== undefined) && (Jupyter.notebook.kernel != null))) {\n        var comm_manager = window.comm_manager || Jupyter.notebook.kernel.comm_manager;\n        comm_manager.register_target(comm_id, function(comm) {\n          comm.on_msg(msg_handler);\n        });\n      } else if ((plot_id in window.PyViz.kernels) && (window.PyViz.kernels[plot_id])) {\n        window.PyViz.kernels[plot_id].registerCommTarget(comm_id, function(comm) {\n          comm.onMsg = msg_handler;\n        });\n      } else if (typeof google != 'undefined' && google.colab.kernel != null) {\n        google.colab.kernel.comms.registerTarget(comm_id, (comm) => {\n          var messages = comm.messages[Symbol.asyncIterator]();\n          function processIteratorResult(result) {\n            var message = result.value;\n            console.log(message)\n            var content = {data: message.data, comm_id};\n            var buffers = []\n            for (var buffer of message.buffers || []) {\n              buffers.push(new DataView(buffer))\n            }\n            var metadata = message.metadata || {};\n            var msg = {content, buffers, metadata}\n            msg_handler(msg);\n            return messages.next().then(processIteratorResult);\n          }\n          return messages.next().then(processIteratorResult);\n        })\n      }\n    }\n\n    JupyterCommManager.prototype.get_client_comm = function(plot_id, comm_id, msg_handler) {\n      if (comm_id in window.PyViz.comms) {\n        return window.PyViz.comms[comm_id];\n      } else if (window.comm_manager || ((window.Jupyter !== undefined) && (Jupyter.notebook.kernel != null))) {\n        var comm_manager = window.comm_manager || Jupyter.notebook.kernel.comm_manager;\n        var comm = comm_manager.new_comm(comm_id, {}, {}, {}, comm_id);\n        if (msg_handler) {\n          comm.on_msg(msg_handler);\n        }\n      } else if ((plot_id in window.PyViz.kernels) && (window.PyViz.kernels[plot_id])) {\n        var comm = window.PyViz.kernels[plot_id].connectToComm(comm_id);\n        comm.open();\n        if (msg_handler) {\n          comm.onMsg = msg_handler;\n        }\n      } else if (typeof google != 'undefined' && google.colab.kernel != null) {\n        var comm_promise = google.colab.kernel.comms.open(comm_id)\n        comm_promise.then((comm) => {\n          window.PyViz.comms[comm_id] = comm;\n          if (msg_handler) {\n            var messages = comm.messages[Symbol.asyncIterator]();\n            function processIteratorResult(result) {\n              var message = result.value;\n              var content = {data: message.data};\n              var metadata = message.metadata || {comm_id};\n              var msg = {content, metadata}\n              msg_handler(msg);\n              return messages.next().then(processIteratorResult);\n            }\n            return messages.next().then(processIteratorResult);\n          }\n        }) \n        var sendClosure = (data, metadata, buffers, disposeOnDone) => {\n          return comm_promise.then((comm) => {\n            comm.send(data, metadata, buffers, disposeOnDone);\n          });\n        };\n        var comm = {\n          send: sendClosure\n        };\n      }\n      window.PyViz.comms[comm_id] = comm;\n      return comm;\n    }\n    window.PyViz.comm_manager = new JupyterCommManager();\n    \n\n\nvar JS_MIME_TYPE = 'application/javascript';\nvar HTML_MIME_TYPE = 'text/html';\nvar EXEC_MIME_TYPE = 'application/vnd.holoviews_exec.v0+json';\nvar CLASS_NAME = 'output';\n\n/**\n * Render data to the DOM node\n */\nfunction render(props, node) {\n  var div = document.createElement(\"div\");\n  var script = document.createElement(\"script\");\n  node.appendChild(div);\n  node.appendChild(script);\n}\n\n/**\n * Handle when a new output is added\n */\nfunction handle_add_output(event, handle) {\n  var output_area = handle.output_area;\n  var output = handle.output;\n  if ((output.data == undefined) || (!output.data.hasOwnProperty(EXEC_MIME_TYPE))) {\n    return\n  }\n  var id = output.metadata[EXEC_MIME_TYPE][\"id\"];\n  var toinsert = output_area.element.find(\".\" + CLASS_NAME.split(' ')[0]);\n  if (id !== undefined) {\n    var nchildren = toinsert.length;\n    var html_node = toinsert[nchildren-1].children[0];\n    html_node.innerHTML = output.data[HTML_MIME_TYPE];\n    var scripts = [];\n    var nodelist = html_node.querySelectorAll(\"script\");\n    for (var i in nodelist) {\n      if (nodelist.hasOwnProperty(i)) {\n        scripts.push(nodelist[i])\n      }\n    }\n\n    scripts.forEach( function (oldScript) {\n      var newScript = document.createElement(\"script\");\n      var attrs = [];\n      var nodemap = oldScript.attributes;\n      for (var j in nodemap) {\n        if (nodemap.hasOwnProperty(j)) {\n          attrs.push(nodemap[j])\n        }\n      }\n      attrs.forEach(function(attr) { newScript.setAttribute(attr.name, attr.value) });\n      newScript.appendChild(document.createTextNode(oldScript.innerHTML));\n      oldScript.parentNode.replaceChild(newScript, oldScript);\n    });\n    if (JS_MIME_TYPE in output.data) {\n      toinsert[nchildren-1].children[1].textContent = output.data[JS_MIME_TYPE];\n    }\n    output_area._hv_plot_id = id;\n    if ((window.Bokeh !== undefined) && (id in Bokeh.index)) {\n      window.PyViz.plot_index[id] = Bokeh.index[id];\n    } else {\n      window.PyViz.plot_index[id] = null;\n    }\n  } else if (output.metadata[EXEC_MIME_TYPE][\"server_id\"] !== undefined) {\n    var bk_div = document.createElement(\"div\");\n    bk_div.innerHTML = output.data[HTML_MIME_TYPE];\n    var script_attrs = bk_div.children[0].attributes;\n    for (var i = 0; i < script_attrs.length; i++) {\n      toinsert[toinsert.length - 1].childNodes[1].setAttribute(script_attrs[i].name, script_attrs[i].value);\n    }\n    // store reference to server id on output_area\n    output_area._bokeh_server_id = output.metadata[EXEC_MIME_TYPE][\"server_id\"];\n  }\n}\n\n/**\n * Handle when an output is cleared or removed\n */\nfunction handle_clear_output(event, handle) {\n  var id = handle.cell.output_area._hv_plot_id;\n  var server_id = handle.cell.output_area._bokeh_server_id;\n  if (((id === undefined) || !(id in PyViz.plot_index)) && (server_id !== undefined)) { return; }\n  var comm = window.PyViz.comm_manager.get_client_comm(\"hv-extension-comm\", \"hv-extension-comm\", function () {});\n  if (server_id !== null) {\n    comm.send({event_type: 'server_delete', 'id': server_id});\n    return;\n  } else if (comm !== null) {\n    comm.send({event_type: 'delete', 'id': id});\n  }\n  delete PyViz.plot_index[id];\n  if ((window.Bokeh !== undefined) & (id in window.Bokeh.index)) {\n    var doc = window.Bokeh.index[id].model.document\n    doc.clear();\n    const i = window.Bokeh.documents.indexOf(doc);\n    if (i > -1) {\n      window.Bokeh.documents.splice(i, 1);\n    }\n  }\n}\n\n/**\n * Handle kernel restart event\n */\nfunction handle_kernel_cleanup(event, handle) {\n  delete PyViz.comms[\"hv-extension-comm\"];\n  window.PyViz.plot_index = {}\n}\n\n/**\n * Handle update_display_data messages\n */\nfunction handle_update_output(event, handle) {\n  handle_clear_output(event, {cell: {output_area: handle.output_area}})\n  handle_add_output(event, handle)\n}\n\nfunction register_renderer(events, OutputArea) {\n  function append_mime(data, metadata, element) {\n    // create a DOM node to render to\n    var toinsert = this.create_output_subarea(\n    metadata,\n    CLASS_NAME,\n    EXEC_MIME_TYPE\n    );\n    this.keyboard_manager.register_events(toinsert);\n    // Render to node\n    var props = {data: data, metadata: metadata[EXEC_MIME_TYPE]};\n    render(props, toinsert[0]);\n    element.append(toinsert);\n    return toinsert\n  }\n\n  events.on('output_added.OutputArea', handle_add_output);\n  events.on('output_updated.OutputArea', handle_update_output);\n  events.on('clear_output.CodeCell', handle_clear_output);\n  events.on('delete.Cell', handle_clear_output);\n  events.on('kernel_ready.Kernel', handle_kernel_cleanup);\n\n  OutputArea.prototype.register_mime_type(EXEC_MIME_TYPE, append_mime, {\n    safe: true,\n    index: 0\n  });\n}\n\nif (window.Jupyter !== undefined) {\n  try {\n    var events = require('base/js/events');\n    var OutputArea = require('notebook/js/outputarea').OutputArea;\n    if (OutputArea.prototype.mime_types().indexOf(EXEC_MIME_TYPE) == -1) {\n      register_renderer(events, OutputArea);\n    }\n  } catch(err) {\n  }\n}\n",
      "application/vnd.holoviews_load.v0+json": ""
     },
     "metadata": {},
     "output_type": "display_data"
    },
    {
     "data": {
      "text/html": [
       "<style>*[data-root-id],\n",
       "*[data-root-id] > * {\n",
       "  box-sizing: border-box;\n",
       "  font-family: var(--jp-ui-font-family);\n",
       "  font-size: var(--jp-ui-font-size1);\n",
       "  color: var(--vscode-editor-foreground, var(--jp-ui-font-color1));\n",
       "}\n",
       "\n",
       "/* Override VSCode background color */\n",
       ".cell-output-ipywidget-background:has(\n",
       "    > .cell-output-ipywidget-background > .lm-Widget > *[data-root-id]\n",
       "  ),\n",
       ".cell-output-ipywidget-background:has(> .lm-Widget > *[data-root-id]) {\n",
       "  background-color: transparent !important;\n",
       "}\n",
       "</style>"
      ]
     },
     "metadata": {},
     "output_type": "display_data"
    },
    {
     "data": {
      "application/vnd.holoviews_exec.v0+json": "",
      "text/html": [
       "<div id='d4bfe8f7-b392-4368-84ab-1a190d3095a9'>\n",
       "  <div id=\"e5db9439-c21b-4593-8e54-0f47a8417a41\" data-root-id=\"d4bfe8f7-b392-4368-84ab-1a190d3095a9\" style=\"display: contents;\"></div>\n",
       "</div>\n",
       "<script type=\"application/javascript\">(function(root) {\n",
       "  var docs_json = {\"088ee546-2b9c-4ae0-9b45-2fd0efafe433\":{\"version\":\"3.4.0\",\"title\":\"Bokeh Application\",\"roots\":[{\"type\":\"object\",\"name\":\"panel.models.browser.BrowserInfo\",\"id\":\"d4bfe8f7-b392-4368-84ab-1a190d3095a9\"},{\"type\":\"object\",\"name\":\"panel.models.comm_manager.CommManager\",\"id\":\"c4c87cbc-c712-4f16-b5e9-15324d30e801\",\"attributes\":{\"plot_id\":\"d4bfe8f7-b392-4368-84ab-1a190d3095a9\",\"comm_id\":\"c14ee22afbeb40acb9755a3ae3e988ba\",\"client_comm_id\":\"3cdfaed08ae24fdd9043f3f63312305d\"}}],\"defs\":[{\"type\":\"model\",\"name\":\"ReactiveHTML1\"},{\"type\":\"model\",\"name\":\"FlexBox1\",\"properties\":[{\"name\":\"align_content\",\"kind\":\"Any\",\"default\":\"flex-start\"},{\"name\":\"align_items\",\"kind\":\"Any\",\"default\":\"flex-start\"},{\"name\":\"flex_direction\",\"kind\":\"Any\",\"default\":\"row\"},{\"name\":\"flex_wrap\",\"kind\":\"Any\",\"default\":\"wrap\"},{\"name\":\"justify_content\",\"kind\":\"Any\",\"default\":\"flex-start\"},{\"name\":\"gap\",\"kind\":\"Any\",\"default\":\"\"}]},{\"type\":\"model\",\"name\":\"FloatPanel1\",\"properties\":[{\"name\":\"config\",\"kind\":\"Any\",\"default\":{\"type\":\"map\"}},{\"name\":\"contained\",\"kind\":\"Any\",\"default\":true},{\"name\":\"position\",\"kind\":\"Any\",\"default\":\"right-top\"},{\"name\":\"offsetx\",\"kind\":\"Any\",\"default\":null},{\"name\":\"offsety\",\"kind\":\"Any\",\"default\":null},{\"name\":\"theme\",\"kind\":\"Any\",\"default\":\"primary\"},{\"name\":\"status\",\"kind\":\"Any\",\"default\":\"normalized\"}]},{\"type\":\"model\",\"name\":\"GridStack1\",\"properties\":[{\"name\":\"mode\",\"kind\":\"Any\",\"default\":\"warn\"},{\"name\":\"ncols\",\"kind\":\"Any\",\"default\":null},{\"name\":\"nrows\",\"kind\":\"Any\",\"default\":null},{\"name\":\"allow_resize\",\"kind\":\"Any\",\"default\":true},{\"name\":\"allow_drag\",\"kind\":\"Any\",\"default\":true},{\"name\":\"state\",\"kind\":\"Any\",\"default\":[]}]},{\"type\":\"model\",\"name\":\"drag1\",\"properties\":[{\"name\":\"slider_width\",\"kind\":\"Any\",\"default\":5},{\"name\":\"slider_color\",\"kind\":\"Any\",\"default\":\"black\"},{\"name\":\"value\",\"kind\":\"Any\",\"default\":50}]},{\"type\":\"model\",\"name\":\"click1\",\"properties\":[{\"name\":\"terminal_output\",\"kind\":\"Any\",\"default\":\"\"},{\"name\":\"debug_name\",\"kind\":\"Any\",\"default\":\"\"},{\"name\":\"clears\",\"kind\":\"Any\",\"default\":0}]},{\"type\":\"model\",\"name\":\"FastWrapper1\",\"properties\":[{\"name\":\"object\",\"kind\":\"Any\",\"default\":null},{\"name\":\"style\",\"kind\":\"Any\",\"default\":null}]},{\"type\":\"model\",\"name\":\"NotificationAreaBase1\",\"properties\":[{\"name\":\"js_events\",\"kind\":\"Any\",\"default\":{\"type\":\"map\"}},{\"name\":\"position\",\"kind\":\"Any\",\"default\":\"bottom-right\"},{\"name\":\"_clear\",\"kind\":\"Any\",\"default\":0}]},{\"type\":\"model\",\"name\":\"NotificationArea1\",\"properties\":[{\"name\":\"js_events\",\"kind\":\"Any\",\"default\":{\"type\":\"map\"}},{\"name\":\"notifications\",\"kind\":\"Any\",\"default\":[]},{\"name\":\"position\",\"kind\":\"Any\",\"default\":\"bottom-right\"},{\"name\":\"_clear\",\"kind\":\"Any\",\"default\":0},{\"name\":\"types\",\"kind\":\"Any\",\"default\":[{\"type\":\"map\",\"entries\":[[\"type\",\"warning\"],[\"background\",\"#ffc107\"],[\"icon\",{\"type\":\"map\",\"entries\":[[\"className\",\"fas fa-exclamation-triangle\"],[\"tagName\",\"i\"],[\"color\",\"white\"]]}]]},{\"type\":\"map\",\"entries\":[[\"type\",\"info\"],[\"background\",\"#007bff\"],[\"icon\",{\"type\":\"map\",\"entries\":[[\"className\",\"fas fa-info-circle\"],[\"tagName\",\"i\"],[\"color\",\"white\"]]}]]}]}]},{\"type\":\"model\",\"name\":\"Notification\",\"properties\":[{\"name\":\"background\",\"kind\":\"Any\",\"default\":null},{\"name\":\"duration\",\"kind\":\"Any\",\"default\":3000},{\"name\":\"icon\",\"kind\":\"Any\",\"default\":null},{\"name\":\"message\",\"kind\":\"Any\",\"default\":\"\"},{\"name\":\"notification_type\",\"kind\":\"Any\",\"default\":null},{\"name\":\"_destroyed\",\"kind\":\"Any\",\"default\":false}]},{\"type\":\"model\",\"name\":\"TemplateActions1\",\"properties\":[{\"name\":\"open_modal\",\"kind\":\"Any\",\"default\":0},{\"name\":\"close_modal\",\"kind\":\"Any\",\"default\":0}]},{\"type\":\"model\",\"name\":\"BootstrapTemplateActions1\",\"properties\":[{\"name\":\"open_modal\",\"kind\":\"Any\",\"default\":0},{\"name\":\"close_modal\",\"kind\":\"Any\",\"default\":0}]},{\"type\":\"model\",\"name\":\"TemplateEditor1\",\"properties\":[{\"name\":\"layout\",\"kind\":\"Any\",\"default\":[]}]},{\"type\":\"model\",\"name\":\"MaterialTemplateActions1\",\"properties\":[{\"name\":\"open_modal\",\"kind\":\"Any\",\"default\":0},{\"name\":\"close_modal\",\"kind\":\"Any\",\"default\":0}]},{\"type\":\"model\",\"name\":\"copy_to_clipboard1\",\"properties\":[{\"name\":\"fill\",\"kind\":\"Any\",\"default\":\"none\"},{\"name\":\"value\",\"kind\":\"Any\",\"default\":null}]}]}};\n",
       "  var render_items = [{\"docid\":\"088ee546-2b9c-4ae0-9b45-2fd0efafe433\",\"roots\":{\"d4bfe8f7-b392-4368-84ab-1a190d3095a9\":\"e5db9439-c21b-4593-8e54-0f47a8417a41\"},\"root_ids\":[\"d4bfe8f7-b392-4368-84ab-1a190d3095a9\"]}];\n",
       "  var docs = Object.values(docs_json)\n",
       "  if (!docs) {\n",
       "    return\n",
       "  }\n",
       "  const py_version = docs[0].version.replace('rc', '-rc.').replace('.dev', '-dev.')\n",
       "  function embed_document(root) {\n",
       "    var Bokeh = get_bokeh(root)\n",
       "    Bokeh.embed.embed_items_notebook(docs_json, render_items);\n",
       "    for (const render_item of render_items) {\n",
       "      for (const root_id of render_item.root_ids) {\n",
       "\tconst id_el = document.getElementById(root_id)\n",
       "\tif (id_el.children.length && (id_el.children[0].className === 'bk-root')) {\n",
       "\t  const root_el = id_el.children[0]\n",
       "\t  root_el.id = root_el.id + '-rendered'\n",
       "\t}\n",
       "      }\n",
       "    }\n",
       "  }\n",
       "  function get_bokeh(root) {\n",
       "    if (root.Bokeh === undefined) {\n",
       "      return null\n",
       "    } else if (root.Bokeh.version !== py_version) {\n",
       "      if (root.Bokeh.versions === undefined || !root.Bokeh.versions.has(py_version)) {\n",
       "\treturn null\n",
       "      }\n",
       "      return root.Bokeh.versions.get(py_version);\n",
       "    } else if (root.Bokeh.version === py_version) {\n",
       "      return root.Bokeh\n",
       "    }\n",
       "    return null\n",
       "  }\n",
       "  function is_loaded(root) {\n",
       "    var Bokeh = get_bokeh(root)\n",
       "    return (Bokeh != null && Bokeh.Panel !== undefined)\n",
       "  }\n",
       "  if (is_loaded(root)) {\n",
       "    embed_document(root);\n",
       "  } else {\n",
       "    var attempts = 0;\n",
       "    var timer = setInterval(function(root) {\n",
       "      if (is_loaded(root)) {\n",
       "        clearInterval(timer);\n",
       "        embed_document(root);\n",
       "      } else if (document.readyState == \"complete\") {\n",
       "        attempts++;\n",
       "        if (attempts > 200) {\n",
       "          clearInterval(timer);\n",
       "\t  var Bokeh = get_bokeh(root)\n",
       "\t  if (Bokeh == null || Bokeh.Panel == null) {\n",
       "            console.warn(\"Panel: ERROR: Unable to run Panel code because Bokeh or Panel library is missing\");\n",
       "\t  } else {\n",
       "\t    console.warn(\"Panel: WARNING: Attempting to render but not all required libraries could be resolved.\")\n",
       "\t    embed_document(root)\n",
       "\t  }\n",
       "        }\n",
       "      }\n",
       "    }, 25, root)\n",
       "  }\n",
       "})(window);</script>"
      ]
     },
     "metadata": {
      "application/vnd.holoviews_exec.v0+json": {
       "id": "d4bfe8f7-b392-4368-84ab-1a190d3095a9"
      }
     },
     "output_type": "display_data"
    }
   ],
   "source": [
    "#| echo: false\n",
    "import datetime as dt\n",
    "import random\n",
    "import time\n",
    "import numpy as np\n",
    "import pandas as pd\n",
    "import panel as pn\n",
    "import holoviews as hv\n",
    "\n",
    "pn.extension(inline=False, design='material')"
   ]
  },
  {
   "cell_type": "markdown",
   "metadata": {},
   "source": [
    "<img src=\"./images/collage_1.4.png\" width=\"100%\"></img>\n",
    "\n",
    "## What is Panel?\n",
    "\n",
    "Panel is an open-source Python library that lets you **easily build powerful tools, dashboards and complex applications entirely in Python**. It has a batteries-included philosophy, putting the PyData ecosystem, powerful data tables and much more at your fingertips. High-level reactive APIs and lower-level callback based APIs ensure you can quickly build exploratory applications, but you aren’t limited if you build complex, multi-page apps with rich interactivity. Panel is a member of the [HoloViz](https://holoviz.org) ecosystem, your gateway into a connected ecosystem of data exploration tools.\n",
    "\n",
    "## New release!\n",
    "\n",
    "We are very pleased to announce the 1.4.0 release of Panel! This release packs many exciting new features, specifically:\n",
    "\n",
    "\n",
    "Certainly! Here are the corrected links with markdown formatting:\n",
    "\n",
    "1. Add `EditableTemplate` to support dashboard builder UI in Jupyter ([#5802](https://github.com/holoviz/panel/pull/5802))\n",
    "2. Add `ChatAreaInput` as default text input widget for `ChatInterface` ([#6379](https://github.com/holoviz/panel/pull/6379))\n",
    "3. Add `NestedSelect` widget ([#5791](https://github.com/holoviz/panel/pull/5791), [#6011](https://github.com/holoviz/panel/pull/6011))\n",
    "4. Improve `--autoreload` by using watchfiles and selectively reloading packages ([#5894](https://github.com/holoviz/panel/pull/5894), [#6459](https://github.com/holoviz/panel/pull/6459))\n",
    "5. Add Panel tutorials ([#5525](https://github.com/holoviz/panel/pull/5525), [#6208](https://github.com/holoviz/panel/pull/6208), [#6212](https://github.com/holoviz/panel/pull/6212), [#6388](https://github.com/holoviz/panel/pull/6388), [#6425](https://github.com/holoviz/panel/pull/6425), [#6466](https://github.com/holoviz/panel/pull/6466), [#6491](https://github.com/holoviz/panel/pull/6491))\n",
    "6. Add `DateRangePicker` widget ([#6027](https://github.com/holoviz/panel/pull/6027))\n",
    "7. Add `Feed` layout and use it as a layout for `ChatFeed` ([#6031](https://github.com/holoviz/panel/pull/6031), [#6296](https://github.com/holoviz/panel/pull/6296))\n",
    "8. Add `WebP` pane ([#6035](https://github.com/holoviz/panel/pull/6035))\n",
    "9. Add `ButtonIcon` ([#6138](https://github.com/holoviz/panel/pull/6138))\n",
    "10. Add `Textual` pane ([#6181](https://github.com/holoviz/panel/pull/6181))\n",
    "\n",
    "We really appreciate all the work that went into this release and especially want to call out @MarcSkovMadsen's effort in putting together the new tutorial materials. There's more work to do but it's a huge step forward and we're excited to hear your feedback. We want to extend a special thanks to our amazing new crop of new contributors including @atisor73, @OSuwaidi, @suryako, @Davide-sd, @doraaki, @mayonnaisecolouredbenz7, @CTPassion, @j01024, @l3ender and @Coderambling. Next we want to recognize our returning contributors @vaniisgh, @cdeil, @limx0m, and @TheoMaturin, and finally the dedicated crew of core contributors which include @maximlt, @Hoxbro, @MarcSkovMadsen, @ahuang11, @mattpap and @philippjfr.\n",
    "\n",
    "<hr>\n",
    "\n",
    "If you are using [Anaconda](https://www.anaconda.com/downloads), you can get latest Panel with ``conda install panel`` , and using pip you can install it with ``pip install panel``.\n",
    "\n",
    "<hr>"
   ]
  },
  {
   "cell_type": "markdown",
   "metadata": {
    "jp-MarkdownHeadingCollapsed": true
   },
   "source": [
    "## Tutorials\n",
    "\n",
    "Last year we decided to embark on a project to completely re-architect our documentation leaning heavily on the [Diataxis framework](https://diataxis.fr/). In doing so we got rid of the long form user guides and migrated most of the material into How-to guides. Overall the feedback about this change was very positive as it became easier to find what you were looking for, but it also made it more difficult for new users to learn about Panel. \n",
    "\n",
    "The [**new tutorials**](https://panel.holoviz.org/tutorials/index.html) aim to address this gap by providing a guided set of lessons that aim to get you from a complete novice to an advanced user. The tutorial is split into [**Basic**](https://panel.holoviz.org/tutorials/basic/index.html), [**Intermediate**](https://panel.holoviz.org/tutorials/intermediate/index.html) and [**Advanced**](https://panel.holoviz.org/tutorials/advanced/index.html) sections and is structured as a series of lessons culminating in topic focused guides on building specific applications, e.g. a chat app, monitoring dashboard or a to-do app.\n",
    "\n",
    "<img src=\"./images/tutorial.png\" style=\"max-width: min(50%, 600px); margin-left: auto; margin-right: auto; display: block;\"></img>\n",
    "\n",
    "Designing meaningful and engaging lessons is a huge undertaking so we hope to gather your feedback to continue refining the material. We want to especially thank Marc Skov Madsen for putting such a tremendous amount of effort into these materials."
   ]
  },
  {
   "cell_type": "markdown",
   "metadata": {},
   "source": [
    "## Dashboard Builder UI\n",
    "\n",
    "The biggest new feature in this release is the addition of a dashboard builder UI that allows building a dashboard layout entirely using a drag and drop interface. Our aim has always been to empower users to quickly share their analyses and results with others and the dashboard builder UI allows building applications without even importing Panel at all. The UI is built on top of a new template component - the `EditableTemplate`. This template leverages [interact.js](https://interactjs.io/) and [Muuri](https://muuri.dev/) to provide a smooth user experience when laying out components on the page. Let us see it in action:"
   ]
  },
  {
   "cell_type": "markdown",
   "metadata": {},
   "source": [
    "<video src=\"./images/dashboard_builder.mp4\" style=\"max-width: min(80%, 1024px); margin-left: auto; margin-right: auto; display: block;\" controls>\n",
    "    <source src=\"./images/dashboard_builder.mp4\" type=\"video/mp4\">\n",
    "</video>"
   ]
  },
  {
   "cell_type": "markdown",
   "metadata": {},
   "source": [
    "As the video demonstrates the dashboard builder allows us to take a notebook with or without Panel components re-arrange, delete and move around cell outputs and markdown cells to build a dashboard."
   ]
  },
  {
   "cell_type": "markdown",
   "metadata": {},
   "source": [
    "## Autoreload\n",
    "\n",
    "In previous versions, Panel's autoreload feature was a handy tool for developers, allowing them to see changes in their applications in real time without the need for manual refreshes. In this release we have outsourced the detection of changes to the [watchfiles](https://watchfiles.helpmanual.io/), not only have we improved the speed of file detection changes, but we have also enhanced the reliability and responsiveness of the autoreload process. To get the benefits of this improved autoreload experience install watchfiles with `pip` or `conda`.\n",
    "\n",
    "As part of the improvements we have already improved the handling around of reloading of local modules and entire packages. The improved autoreload mechanism now offers more robust support for detecting changes within your project's modules and packages, ensuring that any update, no matter how small or where it occurs, will trigger a reload."
   ]
  },
  {
   "cell_type": "markdown",
   "metadata": {},
   "source": [
    "## Chat Improvements\n",
    "\n",
    "As the world of LLMs and chat bots built around them continues to advance we are working hard on building the simplest and most feature rich Chat interface with out-of-the-box support for multi-modal outputs and much more.\n",
    "\n",
    "The two main enhancements of the `ChatInterface` in this release were the addition of two new base components:\n",
    "\n",
    "### Feed\n",
    "\n",
    "The `Feed` layout added to Panel makes it possible to build a (near) infinitely scrollable layout making it possible for us to support chats with huge message histories containing 100s or 1000s of messages without having to render it all at once.\n",
    "\n",
    "<img src=\"./images/chatfeed.gif\" style=\"max-width: 50%; margin-left: auto; margin-right: auto; display: block;\"></img>\n",
    "\n",
    "### ChatAreaInput\n",
    "\n",
    "The old `TextInput` and `TextArea` used as the text entry widget for the `ChatInterface` were providing a sub-optimal user experience. Therefore we introduced the `ChatAreaInput` with behavior closer to what you're used to from familar chat interfaces like OpenAI including send on `<Enter>` and multi-line input using `<Shift>+<Enter>` key combinations. We aim to continue refining this component over time:"
   ]
  },
  {
   "cell_type": "code",
   "execution_count": 2,
   "metadata": {},
   "outputs": [
    {
     "data": {},
     "metadata": {},
     "output_type": "display_data"
    },
    {
     "data": {
      "application/vnd.holoviews_exec.v0+json": "",
      "text/html": [
       "<div id='cd5b52d2-e871-451f-8076-c7b5c8754ba5'>\n",
       "  <div id=\"e38ae3c2-251f-4258-830c-c0496ee6d635\" data-root-id=\"cd5b52d2-e871-451f-8076-c7b5c8754ba5\" style=\"display: contents;\"></div>\n",
       "</div>\n",
       "<script type=\"application/javascript\">(function(root) {\n",
       "  var docs_json = {\"3c6de709-125f-4d9c-82c4-37a946f1b771\":{\"version\":\"3.4.0\",\"title\":\"Bokeh Application\",\"roots\":[{\"type\":\"object\",\"name\":\"panel.models.chatarea_input.ChatAreaInput\",\"id\":\"cd5b52d2-e871-451f-8076-c7b5c8754ba5\",\"attributes\":{\"subscribed_events\":{\"type\":\"set\",\"entries\":[\"chat_message_event\"]},\"stylesheets\":[\"\\n:host(.pn-loading):before, .pn-loading:before {\\n  background-color: #c3c3c3;\\n  mask-size: auto calc(min(50%, 400px));\\n  -webkit-mask-size: auto calc(min(50%, 400px));\\n}\",{\"type\":\"object\",\"name\":\"ImportedStyleSheet\",\"id\":\"326bc8ce-45a9-4cfc-b220-e9a236a94f52\",\"attributes\":{\"url\":\"https://cdn.holoviz.org/panel/1.4.0/dist/css/loading.css\"}},{\"type\":\"object\",\"name\":\"ImportedStyleSheet\",\"id\":\"1236900b-9923-4936-8f32-ad7ad020fe8a\",\"attributes\":{\"url\":\"https://cdn.jsdelivr.net/npm/material-components-web@7.0.0/dist/material-components-web.min.css\"}},{\"type\":\"object\",\"name\":\"ImportedStyleSheet\",\"id\":\"57392b3a-aee2-47df-b5e3-0b10475c14a1\",\"attributes\":{\"url\":\"https://cdn.holoviz.org/panel/1.4.0/dist/bundled/theme/default.css\"}},{\"type\":\"object\",\"name\":\"ImportedStyleSheet\",\"id\":\"b60c118a-a20f-4418-a2ef-703f99230745\",\"attributes\":{\"url\":\"https://cdn.holoviz.org/panel/1.4.0/dist/bundled/theme/material_variables.css\"}},{\"type\":\"object\",\"name\":\"ImportedStyleSheet\",\"id\":\"78811c3b-cf3f-45c6-b98d-f7a5ad32cf96\",\"attributes\":{\"url\":\"https://cdn.holoviz.org/panel/1.4.0/dist/bundled/theme/material.css\"}}],\"width\":300,\"min_width\":300,\"margin\":[5,10],\"align\":\"start\",\"resizable\":\"height\",\"placeholder\":\"Start a chat...\",\"max_length\":5000,\"rows\":1,\"auto_grow\":true,\"max_rows\":10}},{\"type\":\"object\",\"name\":\"panel.models.comm_manager.CommManager\",\"id\":\"303be0af-d31e-4723-a27f-ed44303d7f8a\",\"attributes\":{\"plot_id\":\"cd5b52d2-e871-451f-8076-c7b5c8754ba5\",\"comm_id\":\"d2d16f854c7a490f8f6a2f56c7054693\",\"client_comm_id\":\"952bc8d2cea440ab9b43d0ee7aa5fc50\"}}],\"defs\":[{\"type\":\"model\",\"name\":\"ReactiveHTML1\"},{\"type\":\"model\",\"name\":\"FlexBox1\",\"properties\":[{\"name\":\"align_content\",\"kind\":\"Any\",\"default\":\"flex-start\"},{\"name\":\"align_items\",\"kind\":\"Any\",\"default\":\"flex-start\"},{\"name\":\"flex_direction\",\"kind\":\"Any\",\"default\":\"row\"},{\"name\":\"flex_wrap\",\"kind\":\"Any\",\"default\":\"wrap\"},{\"name\":\"justify_content\",\"kind\":\"Any\",\"default\":\"flex-start\"},{\"name\":\"gap\",\"kind\":\"Any\",\"default\":\"\"}]},{\"type\":\"model\",\"name\":\"FloatPanel1\",\"properties\":[{\"name\":\"config\",\"kind\":\"Any\",\"default\":{\"type\":\"map\"}},{\"name\":\"contained\",\"kind\":\"Any\",\"default\":true},{\"name\":\"position\",\"kind\":\"Any\",\"default\":\"right-top\"},{\"name\":\"offsetx\",\"kind\":\"Any\",\"default\":null},{\"name\":\"offsety\",\"kind\":\"Any\",\"default\":null},{\"name\":\"theme\",\"kind\":\"Any\",\"default\":\"primary\"},{\"name\":\"status\",\"kind\":\"Any\",\"default\":\"normalized\"}]},{\"type\":\"model\",\"name\":\"GridStack1\",\"properties\":[{\"name\":\"mode\",\"kind\":\"Any\",\"default\":\"warn\"},{\"name\":\"ncols\",\"kind\":\"Any\",\"default\":null},{\"name\":\"nrows\",\"kind\":\"Any\",\"default\":null},{\"name\":\"allow_resize\",\"kind\":\"Any\",\"default\":true},{\"name\":\"allow_drag\",\"kind\":\"Any\",\"default\":true},{\"name\":\"state\",\"kind\":\"Any\",\"default\":[]}]},{\"type\":\"model\",\"name\":\"drag1\",\"properties\":[{\"name\":\"slider_width\",\"kind\":\"Any\",\"default\":5},{\"name\":\"slider_color\",\"kind\":\"Any\",\"default\":\"black\"},{\"name\":\"value\",\"kind\":\"Any\",\"default\":50}]},{\"type\":\"model\",\"name\":\"click1\",\"properties\":[{\"name\":\"terminal_output\",\"kind\":\"Any\",\"default\":\"\"},{\"name\":\"debug_name\",\"kind\":\"Any\",\"default\":\"\"},{\"name\":\"clears\",\"kind\":\"Any\",\"default\":0}]},{\"type\":\"model\",\"name\":\"FastWrapper1\",\"properties\":[{\"name\":\"object\",\"kind\":\"Any\",\"default\":null},{\"name\":\"style\",\"kind\":\"Any\",\"default\":null}]},{\"type\":\"model\",\"name\":\"NotificationAreaBase1\",\"properties\":[{\"name\":\"js_events\",\"kind\":\"Any\",\"default\":{\"type\":\"map\"}},{\"name\":\"position\",\"kind\":\"Any\",\"default\":\"bottom-right\"},{\"name\":\"_clear\",\"kind\":\"Any\",\"default\":0}]},{\"type\":\"model\",\"name\":\"NotificationArea1\",\"properties\":[{\"name\":\"js_events\",\"kind\":\"Any\",\"default\":{\"type\":\"map\"}},{\"name\":\"notifications\",\"kind\":\"Any\",\"default\":[]},{\"name\":\"position\",\"kind\":\"Any\",\"default\":\"bottom-right\"},{\"name\":\"_clear\",\"kind\":\"Any\",\"default\":0},{\"name\":\"types\",\"kind\":\"Any\",\"default\":[{\"type\":\"map\",\"entries\":[[\"type\",\"warning\"],[\"background\",\"#ffc107\"],[\"icon\",{\"type\":\"map\",\"entries\":[[\"className\",\"fas fa-exclamation-triangle\"],[\"tagName\",\"i\"],[\"color\",\"white\"]]}]]},{\"type\":\"map\",\"entries\":[[\"type\",\"info\"],[\"background\",\"#007bff\"],[\"icon\",{\"type\":\"map\",\"entries\":[[\"className\",\"fas fa-info-circle\"],[\"tagName\",\"i\"],[\"color\",\"white\"]]}]]}]}]},{\"type\":\"model\",\"name\":\"Notification\",\"properties\":[{\"name\":\"background\",\"kind\":\"Any\",\"default\":null},{\"name\":\"duration\",\"kind\":\"Any\",\"default\":3000},{\"name\":\"icon\",\"kind\":\"Any\",\"default\":null},{\"name\":\"message\",\"kind\":\"Any\",\"default\":\"\"},{\"name\":\"notification_type\",\"kind\":\"Any\",\"default\":null},{\"name\":\"_destroyed\",\"kind\":\"Any\",\"default\":false}]},{\"type\":\"model\",\"name\":\"TemplateActions1\",\"properties\":[{\"name\":\"open_modal\",\"kind\":\"Any\",\"default\":0},{\"name\":\"close_modal\",\"kind\":\"Any\",\"default\":0}]},{\"type\":\"model\",\"name\":\"BootstrapTemplateActions1\",\"properties\":[{\"name\":\"open_modal\",\"kind\":\"Any\",\"default\":0},{\"name\":\"close_modal\",\"kind\":\"Any\",\"default\":0}]},{\"type\":\"model\",\"name\":\"TemplateEditor1\",\"properties\":[{\"name\":\"layout\",\"kind\":\"Any\",\"default\":[]}]},{\"type\":\"model\",\"name\":\"MaterialTemplateActions1\",\"properties\":[{\"name\":\"open_modal\",\"kind\":\"Any\",\"default\":0},{\"name\":\"close_modal\",\"kind\":\"Any\",\"default\":0}]},{\"type\":\"model\",\"name\":\"copy_to_clipboard1\",\"properties\":[{\"name\":\"fill\",\"kind\":\"Any\",\"default\":\"none\"},{\"name\":\"value\",\"kind\":\"Any\",\"default\":null}]}]}};\n",
       "  var render_items = [{\"docid\":\"3c6de709-125f-4d9c-82c4-37a946f1b771\",\"roots\":{\"cd5b52d2-e871-451f-8076-c7b5c8754ba5\":\"e38ae3c2-251f-4258-830c-c0496ee6d635\"},\"root_ids\":[\"cd5b52d2-e871-451f-8076-c7b5c8754ba5\"]}];\n",
       "  var docs = Object.values(docs_json)\n",
       "  if (!docs) {\n",
       "    return\n",
       "  }\n",
       "  const py_version = docs[0].version.replace('rc', '-rc.').replace('.dev', '-dev.')\n",
       "  function embed_document(root) {\n",
       "    var Bokeh = get_bokeh(root)\n",
       "    Bokeh.embed.embed_items_notebook(docs_json, render_items);\n",
       "    for (const render_item of render_items) {\n",
       "      for (const root_id of render_item.root_ids) {\n",
       "\tconst id_el = document.getElementById(root_id)\n",
       "\tif (id_el.children.length && (id_el.children[0].className === 'bk-root')) {\n",
       "\t  const root_el = id_el.children[0]\n",
       "\t  root_el.id = root_el.id + '-rendered'\n",
       "\t}\n",
       "      }\n",
       "    }\n",
       "  }\n",
       "  function get_bokeh(root) {\n",
       "    if (root.Bokeh === undefined) {\n",
       "      return null\n",
       "    } else if (root.Bokeh.version !== py_version) {\n",
       "      if (root.Bokeh.versions === undefined || !root.Bokeh.versions.has(py_version)) {\n",
       "\treturn null\n",
       "      }\n",
       "      return root.Bokeh.versions.get(py_version);\n",
       "    } else if (root.Bokeh.version === py_version) {\n",
       "      return root.Bokeh\n",
       "    }\n",
       "    return null\n",
       "  }\n",
       "  function is_loaded(root) {\n",
       "    var Bokeh = get_bokeh(root)\n",
       "    return (Bokeh != null && Bokeh.Panel !== undefined)\n",
       "  }\n",
       "  if (is_loaded(root)) {\n",
       "    embed_document(root);\n",
       "  } else {\n",
       "    var attempts = 0;\n",
       "    var timer = setInterval(function(root) {\n",
       "      if (is_loaded(root)) {\n",
       "        clearInterval(timer);\n",
       "        embed_document(root);\n",
       "      } else if (document.readyState == \"complete\") {\n",
       "        attempts++;\n",
       "        if (attempts > 200) {\n",
       "          clearInterval(timer);\n",
       "\t  var Bokeh = get_bokeh(root)\n",
       "\t  if (Bokeh == null || Bokeh.Panel == null) {\n",
       "            console.warn(\"Panel: ERROR: Unable to run Panel code because Bokeh or Panel library is missing\");\n",
       "\t  } else {\n",
       "\t    console.warn(\"Panel: WARNING: Attempting to render but not all required libraries could be resolved.\")\n",
       "\t    embed_document(root)\n",
       "\t  }\n",
       "        }\n",
       "      }\n",
       "    }, 25, root)\n",
       "  }\n",
       "})(window);</script>"
      ],
      "text/plain": [
       "ChatAreaInput(design=<class 'panel.theme.materi..., placeholder='Start a chat...')"
      ]
     },
     "execution_count": 2,
     "metadata": {
      "application/vnd.holoviews_exec.v0+json": {
       "id": "cd5b52d2-e871-451f-8076-c7b5c8754ba5"
      }
     },
     "output_type": "execute_result"
    }
   ],
   "source": [
    "pn.chat.ChatAreaInput(placeholder='Start a chat...')"
   ]
  },
  {
   "cell_type": "markdown",
   "metadata": {},
   "source": [
    "### Other enhancements\n",
    "\n",
    "There are a whole host of other improvements for the chat components in this release:\n",
    "\n",
    "- Every part of a `ChatMessage` can now be styled\n",
    "- Addition of more default avatars\n",
    "- The ability to add custom objects to the header and footer of a `ChatMessage`"
   ]
  },
  {
   "cell_type": "code",
   "execution_count": 3,
   "metadata": {},
   "outputs": [],
   "source": [
    "#| echo: false\n",
    "stylesheet = \"\"\"\n",
    ".message {\n",
    "    background-color: tan;\n",
    "    font-size: 24px;\n",
    "    font-family: \"Courier New\";\n",
    "}\n",
    ".avatar {\n",
    "    background-color: red;\n",
    "    border-radius: 5%;\n",
    "}\n",
    ".header {\n",
    "    background-color: green;\n",
    "}\n",
    ".footer {\n",
    "    background-color: blue;\n",
    "}\n",
    ".name {\n",
    "    background-color: orange;\n",
    "}\n",
    ".timestamp {\n",
    "    background-color: purple;\n",
    "}\n",
    ".activity-dot {\n",
    "    background-color: black;\n",
    "}\n",
    ".reaction-icons {\n",
    "    background-color: white;\n",
    "}\n",
    ".copy-icon {\n",
    "    background-color: gold;\n",
    "}\n",
    ".right {\n",
    "    background-color: grey;\n",
    "}\n",
    ".center {\n",
    "    background-color: pink;\n",
    "}\n",
    ".left {\n",
    "    background-color: yellow;\n",
    "}\n",
    "\"\"\""
   ]
  },
  {
   "cell_type": "code",
   "execution_count": 4,
   "metadata": {},
   "outputs": [
    {
     "data": {},
     "metadata": {},
     "output_type": "display_data"
    },
    {
     "data": {
      "application/vnd.holoviews_exec.v0+json": "",
      "text/html": [
       "<div id='c27ac54c-44fb-4c23-ab05-45961e74c476'>\n",
       "  <div id=\"a2048524-8f0c-415e-9c94-4fde76b9ee37\" data-root-id=\"c27ac54c-44fb-4c23-ab05-45961e74c476\" style=\"display: contents;\"></div>\n",
       "</div>\n",
       "<script type=\"application/javascript\">(function(root) {\n",
       "  var docs_json = {\"b27246fd-ab50-4055-ad1e-555a49f735b5\":{\"version\":\"3.4.0\",\"title\":\"Bokeh Application\",\"roots\":[{\"type\":\"object\",\"name\":\"Row\",\"id\":\"c27ac54c-44fb-4c23-ab05-45961e74c476\",\"attributes\":{\"name\":\"Row00919\",\"stylesheets\":[\"\\n:host(.pn-loading):before, .pn-loading:before {\\n  background-color: #c3c3c3;\\n  mask-size: auto calc(min(50%, 400px));\\n  -webkit-mask-size: auto calc(min(50%, 400px));\\n}\",{\"type\":\"object\",\"name\":\"ImportedStyleSheet\",\"id\":\"6759def9-e99b-4723-8b4e-7b031e26d748\",\"attributes\":{\"url\":\"https://cdn.holoviz.org/panel/1.4.0/dist/css/loading.css\"}},{\"type\":\"object\",\"name\":\"ImportedStyleSheet\",\"id\":\"1f40bee6-c6bf-4292-886a-6742f756ae76\",\"attributes\":{\"url\":\"https://cdn.holoviz.org/panel/1.4.0/dist/css/listpanel.css\"}},{\"type\":\"object\",\"name\":\"ImportedStyleSheet\",\"id\":\"a53e5f3a-5741-4443-8525-0a578857f1cd\",\"attributes\":{\"url\":\"https://cdn.jsdelivr.net/npm/material-components-web@7.0.0/dist/material-components-web.min.css\"}},{\"type\":\"object\",\"name\":\"ImportedStyleSheet\",\"id\":\"1dcf3163-6dc7-428d-94e9-f39e7e6df9ef\",\"attributes\":{\"url\":\"https://cdn.holoviz.org/panel/1.4.0/dist/bundled/theme/default.css\"}},{\"type\":\"object\",\"name\":\"ImportedStyleSheet\",\"id\":\"59a0044f-d7c7-47cf-8d8a-274f8a7ee9f9\",\"attributes\":{\"url\":\"https://cdn.holoviz.org/panel/1.4.0/dist/bundled/theme/material_variables.css\"}},{\"type\":\"object\",\"name\":\"ImportedStyleSheet\",\"id\":\"bf4aa97c-b0e6-45aa-9a08-f8d2212233f9\",\"attributes\":{\"url\":\"https://cdn.holoviz.org/panel/1.4.0/dist/bundled/theme/material.css\"}}],\"margin\":0,\"align\":\"start\",\"children\":[{\"type\":\"object\",\"name\":\"panel.models.markup.HTML\",\"id\":\"0a9d1aa6-4a52-4b90-bfd3-cdd34e1f3d54\",\"attributes\":{\"css_classes\":[\"markdown\"],\"styles\":{\"type\":\"map\",\"entries\":[[\"overflow-y\",\"scroll\"]]},\"stylesheets\":[\"\\n:host(.pn-loading):before, .pn-loading:before {\\n  background-color: #c3c3c3;\\n  mask-size: auto calc(min(50%, 400px));\\n  -webkit-mask-size: auto calc(min(50%, 400px));\\n}\",{\"id\":\"6759def9-e99b-4723-8b4e-7b031e26d748\"},{\"type\":\"object\",\"name\":\"ImportedStyleSheet\",\"id\":\"2cfc9de3-7d21-41d8-9c17-0aee10ea56bb\",\"attributes\":{\"url\":\"https://cdn.holoviz.org/panel/1.4.0/dist/css/markdown.css\"}},{\"id\":\"a53e5f3a-5741-4443-8525-0a578857f1cd\"},{\"id\":\"1dcf3163-6dc7-428d-94e9-f39e7e6df9ef\"},{\"id\":\"59a0044f-d7c7-47cf-8d8a-274f8a7ee9f9\"},{\"id\":\"bf4aa97c-b0e6-45aa-9a08-f8d2212233f9\"}],\"height\":300,\"min_height\":300,\"margin\":0,\"align\":\"start\",\"text\":\"&lt;pre&gt;&lt;code class=&quot;language-css&quot;&gt;&lt;div class=&quot;codehilite&quot;&gt;&lt;pre&gt;&lt;span&gt;&lt;/span&gt;&lt;code&gt;&lt;span class=&quot;p&quot;&gt;.&lt;/span&gt;&lt;span class=&quot;nc&quot;&gt;message&lt;/span&gt;&lt;span class=&quot;w&quot;&gt; &lt;/span&gt;&lt;span class=&quot;p&quot;&gt;{&lt;/span&gt;\\n&lt;span class=&quot;w&quot;&gt;    &lt;/span&gt;&lt;span class=&quot;k&quot;&gt;background-color&lt;/span&gt;&lt;span class=&quot;p&quot;&gt;:&lt;/span&gt;&lt;span class=&quot;w&quot;&gt; &lt;/span&gt;&lt;span class=&quot;kc&quot;&gt;tan&lt;/span&gt;&lt;span class=&quot;p&quot;&gt;;&lt;/span&gt;\\n&lt;span class=&quot;w&quot;&gt;    &lt;/span&gt;&lt;span class=&quot;k&quot;&gt;font-size&lt;/span&gt;&lt;span class=&quot;p&quot;&gt;:&lt;/span&gt;&lt;span class=&quot;w&quot;&gt; &lt;/span&gt;&lt;span class=&quot;mi&quot;&gt;24&lt;/span&gt;&lt;span class=&quot;kt&quot;&gt;px&lt;/span&gt;&lt;span class=&quot;p&quot;&gt;;&lt;/span&gt;\\n&lt;span class=&quot;w&quot;&gt;    &lt;/span&gt;&lt;span class=&quot;k&quot;&gt;font-family&lt;/span&gt;&lt;span class=&quot;p&quot;&gt;:&lt;/span&gt;&lt;span class=&quot;w&quot;&gt; &lt;/span&gt;&lt;span class=&quot;s2&quot;&gt;&amp;quot;Courier New&amp;quot;&lt;/span&gt;&lt;span class=&quot;p&quot;&gt;;&lt;/span&gt;\\n&lt;span class=&quot;p&quot;&gt;}&lt;/span&gt;\\n&lt;span class=&quot;p&quot;&gt;.&lt;/span&gt;&lt;span class=&quot;nc&quot;&gt;avatar&lt;/span&gt;&lt;span class=&quot;w&quot;&gt; &lt;/span&gt;&lt;span class=&quot;p&quot;&gt;{&lt;/span&gt;\\n&lt;span class=&quot;w&quot;&gt;    &lt;/span&gt;&lt;span class=&quot;k&quot;&gt;background-color&lt;/span&gt;&lt;span class=&quot;p&quot;&gt;:&lt;/span&gt;&lt;span class=&quot;w&quot;&gt; &lt;/span&gt;&lt;span class=&quot;kc&quot;&gt;red&lt;/span&gt;&lt;span class=&quot;p&quot;&gt;;&lt;/span&gt;\\n&lt;span class=&quot;w&quot;&gt;    &lt;/span&gt;&lt;span class=&quot;k&quot;&gt;border-radius&lt;/span&gt;&lt;span class=&quot;p&quot;&gt;:&lt;/span&gt;&lt;span class=&quot;w&quot;&gt; &lt;/span&gt;&lt;span class=&quot;mi&quot;&gt;5&lt;/span&gt;&lt;span class=&quot;kt&quot;&gt;%&lt;/span&gt;&lt;span class=&quot;p&quot;&gt;;&lt;/span&gt;\\n&lt;span class=&quot;p&quot;&gt;}&lt;/span&gt;\\n&lt;span class=&quot;p&quot;&gt;.&lt;/span&gt;&lt;span class=&quot;nc&quot;&gt;header&lt;/span&gt;&lt;span class=&quot;w&quot;&gt; &lt;/span&gt;&lt;span class=&quot;p&quot;&gt;{&lt;/span&gt;\\n&lt;span class=&quot;w&quot;&gt;    &lt;/span&gt;&lt;span class=&quot;k&quot;&gt;background-color&lt;/span&gt;&lt;span class=&quot;p&quot;&gt;:&lt;/span&gt;&lt;span class=&quot;w&quot;&gt; &lt;/span&gt;&lt;span class=&quot;kc&quot;&gt;green&lt;/span&gt;&lt;span class=&quot;p&quot;&gt;;&lt;/span&gt;\\n&lt;span class=&quot;p&quot;&gt;}&lt;/span&gt;\\n&lt;span class=&quot;p&quot;&gt;.&lt;/span&gt;&lt;span class=&quot;nc&quot;&gt;footer&lt;/span&gt;&lt;span class=&quot;w&quot;&gt; &lt;/span&gt;&lt;span class=&quot;p&quot;&gt;{&lt;/span&gt;\\n&lt;span class=&quot;w&quot;&gt;    &lt;/span&gt;&lt;span class=&quot;k&quot;&gt;background-color&lt;/span&gt;&lt;span class=&quot;p&quot;&gt;:&lt;/span&gt;&lt;span class=&quot;w&quot;&gt; &lt;/span&gt;&lt;span class=&quot;kc&quot;&gt;blue&lt;/span&gt;&lt;span class=&quot;p&quot;&gt;;&lt;/span&gt;\\n&lt;span class=&quot;p&quot;&gt;}&lt;/span&gt;\\n&lt;span class=&quot;p&quot;&gt;.&lt;/span&gt;&lt;span class=&quot;nc&quot;&gt;name&lt;/span&gt;&lt;span class=&quot;w&quot;&gt; &lt;/span&gt;&lt;span class=&quot;p&quot;&gt;{&lt;/span&gt;\\n&lt;span class=&quot;w&quot;&gt;    &lt;/span&gt;&lt;span class=&quot;k&quot;&gt;background-color&lt;/span&gt;&lt;span class=&quot;p&quot;&gt;:&lt;/span&gt;&lt;span class=&quot;w&quot;&gt; &lt;/span&gt;&lt;span class=&quot;kc&quot;&gt;orange&lt;/span&gt;&lt;span class=&quot;p&quot;&gt;;&lt;/span&gt;\\n&lt;span class=&quot;p&quot;&gt;}&lt;/span&gt;\\n&lt;span class=&quot;p&quot;&gt;.&lt;/span&gt;&lt;span class=&quot;nc&quot;&gt;timestamp&lt;/span&gt;&lt;span class=&quot;w&quot;&gt; &lt;/span&gt;&lt;span class=&quot;p&quot;&gt;{&lt;/span&gt;\\n&lt;span class=&quot;w&quot;&gt;    &lt;/span&gt;&lt;span class=&quot;k&quot;&gt;background-color&lt;/span&gt;&lt;span class=&quot;p&quot;&gt;:&lt;/span&gt;&lt;span class=&quot;w&quot;&gt; &lt;/span&gt;&lt;span class=&quot;kc&quot;&gt;purple&lt;/span&gt;&lt;span class=&quot;p&quot;&gt;;&lt;/span&gt;\\n&lt;span class=&quot;p&quot;&gt;}&lt;/span&gt;\\n&lt;span class=&quot;p&quot;&gt;.&lt;/span&gt;&lt;span class=&quot;nc&quot;&gt;activity-dot&lt;/span&gt;&lt;span class=&quot;w&quot;&gt; &lt;/span&gt;&lt;span class=&quot;p&quot;&gt;{&lt;/span&gt;\\n&lt;span class=&quot;w&quot;&gt;    &lt;/span&gt;&lt;span class=&quot;k&quot;&gt;background-color&lt;/span&gt;&lt;span class=&quot;p&quot;&gt;:&lt;/span&gt;&lt;span class=&quot;w&quot;&gt; &lt;/span&gt;&lt;span class=&quot;kc&quot;&gt;black&lt;/span&gt;&lt;span class=&quot;p&quot;&gt;;&lt;/span&gt;\\n&lt;span class=&quot;p&quot;&gt;}&lt;/span&gt;\\n&lt;span class=&quot;p&quot;&gt;.&lt;/span&gt;&lt;span class=&quot;nc&quot;&gt;reaction-icons&lt;/span&gt;&lt;span class=&quot;w&quot;&gt; &lt;/span&gt;&lt;span class=&quot;p&quot;&gt;{&lt;/span&gt;\\n&lt;span class=&quot;w&quot;&gt;    &lt;/span&gt;&lt;span class=&quot;k&quot;&gt;background-color&lt;/span&gt;&lt;span class=&quot;p&quot;&gt;:&lt;/span&gt;&lt;span class=&quot;w&quot;&gt; &lt;/span&gt;&lt;span class=&quot;kc&quot;&gt;white&lt;/span&gt;&lt;span class=&quot;p&quot;&gt;;&lt;/span&gt;\\n&lt;span class=&quot;p&quot;&gt;}&lt;/span&gt;\\n&lt;span class=&quot;p&quot;&gt;.&lt;/span&gt;&lt;span class=&quot;nc&quot;&gt;copy-icon&lt;/span&gt;&lt;span class=&quot;w&quot;&gt; &lt;/span&gt;&lt;span class=&quot;p&quot;&gt;{&lt;/span&gt;\\n&lt;span class=&quot;w&quot;&gt;    &lt;/span&gt;&lt;span class=&quot;k&quot;&gt;background-color&lt;/span&gt;&lt;span class=&quot;p&quot;&gt;:&lt;/span&gt;&lt;span class=&quot;w&quot;&gt; &lt;/span&gt;&lt;span class=&quot;kc&quot;&gt;gold&lt;/span&gt;&lt;span class=&quot;p&quot;&gt;;&lt;/span&gt;\\n&lt;span class=&quot;p&quot;&gt;}&lt;/span&gt;\\n&lt;span class=&quot;p&quot;&gt;.&lt;/span&gt;&lt;span class=&quot;nc&quot;&gt;right&lt;/span&gt;&lt;span class=&quot;w&quot;&gt; &lt;/span&gt;&lt;span class=&quot;p&quot;&gt;{&lt;/span&gt;\\n&lt;span class=&quot;w&quot;&gt;    &lt;/span&gt;&lt;span class=&quot;k&quot;&gt;background-color&lt;/span&gt;&lt;span class=&quot;p&quot;&gt;:&lt;/span&gt;&lt;span class=&quot;w&quot;&gt; &lt;/span&gt;&lt;span class=&quot;kc&quot;&gt;grey&lt;/span&gt;&lt;span class=&quot;p&quot;&gt;;&lt;/span&gt;\\n&lt;span class=&quot;p&quot;&gt;}&lt;/span&gt;\\n&lt;span class=&quot;p&quot;&gt;.&lt;/span&gt;&lt;span class=&quot;nc&quot;&gt;center&lt;/span&gt;&lt;span class=&quot;w&quot;&gt; &lt;/span&gt;&lt;span class=&quot;p&quot;&gt;{&lt;/span&gt;\\n&lt;span class=&quot;w&quot;&gt;    &lt;/span&gt;&lt;span class=&quot;k&quot;&gt;background-color&lt;/span&gt;&lt;span class=&quot;p&quot;&gt;:&lt;/span&gt;&lt;span class=&quot;w&quot;&gt; &lt;/span&gt;&lt;span class=&quot;kc&quot;&gt;pink&lt;/span&gt;&lt;span class=&quot;p&quot;&gt;;&lt;/span&gt;\\n&lt;span class=&quot;p&quot;&gt;}&lt;/span&gt;\\n&lt;span class=&quot;p&quot;&gt;.&lt;/span&gt;&lt;span class=&quot;nc&quot;&gt;left&lt;/span&gt;&lt;span class=&quot;w&quot;&gt; &lt;/span&gt;&lt;span class=&quot;p&quot;&gt;{&lt;/span&gt;\\n&lt;span class=&quot;w&quot;&gt;    &lt;/span&gt;&lt;span class=&quot;k&quot;&gt;background-color&lt;/span&gt;&lt;span class=&quot;p&quot;&gt;:&lt;/span&gt;&lt;span class=&quot;w&quot;&gt; &lt;/span&gt;&lt;span class=&quot;kc&quot;&gt;yellow&lt;/span&gt;&lt;span class=&quot;p&quot;&gt;;&lt;/span&gt;\\n&lt;span class=&quot;p&quot;&gt;}&lt;/span&gt;\\n&lt;/code&gt;&lt;/pre&gt;&lt;/div&gt;\\n&lt;/code&gt;&lt;/pre&gt;\\n\"}},{\"type\":\"object\",\"name\":\"Row\",\"id\":\"1702a8ec-49c6-4d2f-8d8f-28d0bb5d3604\",\"attributes\":{\"name\":\"Row00918\",\"css_classes\":[\"chat-message\"],\"stylesheets\":[\"\\n:host(.pn-loading):before, .pn-loading:before {\\n  background-color: #c3c3c3;\\n  mask-size: auto calc(min(50%, 400px));\\n  -webkit-mask-size: auto calc(min(50%, 400px));\\n}\",{\"id\":\"6759def9-e99b-4723-8b4e-7b031e26d748\"},{\"id\":\"1f40bee6-c6bf-4292-886a-6742f756ae76\"},{\"id\":\"a53e5f3a-5741-4443-8525-0a578857f1cd\"},{\"id\":\"1dcf3163-6dc7-428d-94e9-f39e7e6df9ef\"},{\"id\":\"59a0044f-d7c7-47cf-8d8a-274f8a7ee9f9\"},{\"id\":\"bf4aa97c-b0e6-45aa-9a08-f8d2212233f9\"},{\"type\":\"object\",\"name\":\"ImportedStyleSheet\",\"id\":\"0aab768f-73cb-4332-a559-bad36873b34b\",\"attributes\":{\"url\":\"https://cdn.holoviz.org/panel/1.4.0/dist/css/chat_message.css\"}},\"\\n.message {\\n    background-color: tan;\\n    font-size: 24px;\\n    font-family: \\\"Courier New\\\";\\n}\\n.avatar {\\n    background-color: red;\\n    border-radius: 5%;\\n}\\n.header {\\n    background-color: green;\\n}\\n.footer {\\n    background-color: blue;\\n}\\n.name {\\n    background-color: orange;\\n}\\n.timestamp {\\n    background-color: purple;\\n}\\n.activity-dot {\\n    background-color: black;\\n}\\n.reaction-icons {\\n    background-color: white;\\n}\\n.copy-icon {\\n    background-color: gold;\\n}\\n.right {\\n    background-color: grey;\\n}\\n.center {\\n    background-color: pink;\\n}\\n.left {\\n    background-color: yellow;\\n}\\n\"],\"width\":600,\"min_width\":600,\"max_width\":1200,\"margin\":[5,10],\"align\":\"start\",\"children\":[{\"type\":\"object\",\"name\":\"panel.models.layout.Column\",\"id\":\"e3e46fed-d17d-4213-9463-2c4213a8e02b\",\"attributes\":{\"name\":\"Column00885\",\"css_classes\":[\"left\"],\"stylesheets\":[\"\\n:host(.pn-loading):before, .pn-loading:before {\\n  background-color: #c3c3c3;\\n  mask-size: auto calc(min(50%, 400px));\\n  -webkit-mask-size: auto calc(min(50%, 400px));\\n}\",{\"id\":\"6759def9-e99b-4723-8b4e-7b031e26d748\"},{\"id\":\"1f40bee6-c6bf-4292-886a-6742f756ae76\"},{\"id\":\"a53e5f3a-5741-4443-8525-0a578857f1cd\"},{\"id\":\"1dcf3163-6dc7-428d-94e9-f39e7e6df9ef\"},{\"id\":\"59a0044f-d7c7-47cf-8d8a-274f8a7ee9f9\"},{\"id\":\"bf4aa97c-b0e6-45aa-9a08-f8d2212233f9\"},{\"id\":\"0aab768f-73cb-4332-a559-bad36873b34b\"},\"\\n.message {\\n    background-color: tan;\\n    font-size: 24px;\\n    font-family: \\\"Courier New\\\";\\n}\\n.avatar {\\n    background-color: red;\\n    border-radius: 5%;\\n}\\n.header {\\n    background-color: green;\\n}\\n.footer {\\n    background-color: blue;\\n}\\n.name {\\n    background-color: orange;\\n}\\n.timestamp {\\n    background-color: purple;\\n}\\n.activity-dot {\\n    background-color: black;\\n}\\n.reaction-icons {\\n    background-color: white;\\n}\\n.copy-icon {\\n    background-color: gold;\\n}\\n.right {\\n    background-color: grey;\\n}\\n.center {\\n    background-color: pink;\\n}\\n.left {\\n    background-color: yellow;\\n}\\n\"],\"height\":100,\"min_height\":100,\"max_width\":60,\"margin\":0,\"align\":\"start\",\"children\":[{\"type\":\"object\",\"name\":\"panel.models.markup.HTML\",\"id\":\"006a0a70-11f3-4c2b-852b-79a320e03860\",\"attributes\":{\"css_classes\":[\"avatar\"],\"stylesheets\":[\"\\n:host(.pn-loading):before, .pn-loading:before {\\n  background-color: #c3c3c3;\\n  mask-size: auto calc(min(50%, 400px));\\n  -webkit-mask-size: auto calc(min(50%, 400px));\\n}\",{\"id\":\"6759def9-e99b-4723-8b4e-7b031e26d748\"},{\"id\":\"a53e5f3a-5741-4443-8525-0a578857f1cd\"},{\"id\":\"1dcf3163-6dc7-428d-94e9-f39e7e6df9ef\"},{\"id\":\"59a0044f-d7c7-47cf-8d8a-274f8a7ee9f9\"},{\"id\":\"bf4aa97c-b0e6-45aa-9a08-f8d2212233f9\"}],\"margin\":[5,10],\"align\":\"start\",\"text\":\"\\ud83e\\uddd1\",\"disable_math\":true}}]}},{\"type\":\"object\",\"name\":\"panel.models.layout.Column\",\"id\":\"30b4b971-df96-41f7-bc2d-27012006db55\",\"attributes\":{\"name\":\"Column00917\",\"css_classes\":[\"right\"],\"stylesheets\":[\"\\n:host(.pn-loading):before, .pn-loading:before {\\n  background-color: #c3c3c3;\\n  mask-size: auto calc(min(50%, 400px));\\n  -webkit-mask-size: auto calc(min(50%, 400px));\\n}\",{\"id\":\"6759def9-e99b-4723-8b4e-7b031e26d748\"},{\"id\":\"1f40bee6-c6bf-4292-886a-6742f756ae76\"},{\"id\":\"a53e5f3a-5741-4443-8525-0a578857f1cd\"},{\"id\":\"1dcf3163-6dc7-428d-94e9-f39e7e6df9ef\"},{\"id\":\"59a0044f-d7c7-47cf-8d8a-274f8a7ee9f9\"},{\"id\":\"bf4aa97c-b0e6-45aa-9a08-f8d2212233f9\"},{\"id\":\"0aab768f-73cb-4332-a559-bad36873b34b\"},\"\\n.message {\\n    background-color: tan;\\n    font-size: 24px;\\n    font-family: \\\"Courier New\\\";\\n}\\n.avatar {\\n    background-color: red;\\n    border-radius: 5%;\\n}\\n.header {\\n    background-color: green;\\n}\\n.footer {\\n    background-color: blue;\\n}\\n.name {\\n    background-color: orange;\\n}\\n.timestamp {\\n    background-color: purple;\\n}\\n.activity-dot {\\n    background-color: black;\\n}\\n.reaction-icons {\\n    background-color: white;\\n}\\n.copy-icon {\\n    background-color: gold;\\n}\\n.right {\\n    background-color: grey;\\n}\\n.center {\\n    background-color: pink;\\n}\\n.left {\\n    background-color: yellow;\\n}\\n\"],\"min_width\":15,\"margin\":0,\"sizing_mode\":\"stretch_width\",\"align\":\"start\",\"children\":[{\"type\":\"object\",\"name\":\"Row\",\"id\":\"992aeec2-7a66-444d-8fe9-c9a92297e58c\",\"attributes\":{\"name\":\"Row00902\",\"css_classes\":[\"header\"],\"stylesheets\":[\"\\n:host(.pn-loading):before, .pn-loading:before {\\n  background-color: #c3c3c3;\\n  mask-size: auto calc(min(50%, 400px));\\n  -webkit-mask-size: auto calc(min(50%, 400px));\\n}\",{\"id\":\"6759def9-e99b-4723-8b4e-7b031e26d748\"},{\"id\":\"1f40bee6-c6bf-4292-886a-6742f756ae76\"},{\"id\":\"a53e5f3a-5741-4443-8525-0a578857f1cd\"},{\"id\":\"1dcf3163-6dc7-428d-94e9-f39e7e6df9ef\"},{\"id\":\"59a0044f-d7c7-47cf-8d8a-274f8a7ee9f9\"},{\"id\":\"bf4aa97c-b0e6-45aa-9a08-f8d2212233f9\"},{\"id\":\"0aab768f-73cb-4332-a559-bad36873b34b\"},\"\\n.message {\\n    background-color: tan;\\n    font-size: 24px;\\n    font-family: \\\"Courier New\\\";\\n}\\n.avatar {\\n    background-color: red;\\n    border-radius: 5%;\\n}\\n.header {\\n    background-color: green;\\n}\\n.footer {\\n    background-color: blue;\\n}\\n.name {\\n    background-color: orange;\\n}\\n.timestamp {\\n    background-color: purple;\\n}\\n.activity-dot {\\n    background-color: black;\\n}\\n.reaction-icons {\\n    background-color: white;\\n}\\n.copy-icon {\\n    background-color: gold;\\n}\\n.right {\\n    background-color: grey;\\n}\\n.center {\\n    background-color: pink;\\n}\\n.left {\\n    background-color: yellow;\\n}\\n\"],\"min_width\":15,\"margin\":0,\"sizing_mode\":\"stretch_width\",\"align\":\"start\",\"children\":[{\"type\":\"object\",\"name\":\"panel.models.markup.HTML\",\"id\":\"66f9c942-2e1d-4624-b9cf-bd9a7eea4737\",\"attributes\":{\"css_classes\":[\"name\"],\"stylesheets\":[\"\\n:host(.pn-loading):before, .pn-loading:before {\\n  background-color: #c3c3c3;\\n  mask-size: auto calc(min(50%, 400px));\\n  -webkit-mask-size: auto calc(min(50%, 400px));\\n}\",{\"id\":\"6759def9-e99b-4723-8b4e-7b031e26d748\"},{\"id\":\"a53e5f3a-5741-4443-8525-0a578857f1cd\"},{\"id\":\"1dcf3163-6dc7-428d-94e9-f39e7e6df9ef\"},{\"id\":\"59a0044f-d7c7-47cf-8d8a-274f8a7ee9f9\"},{\"id\":\"bf4aa97c-b0e6-45aa-9a08-f8d2212233f9\"},{\"id\":\"0aab768f-73cb-4332-a559-bad36873b34b\"}],\"height\":20,\"min_height\":20,\"margin\":[5,10],\"align\":\"start\",\"text\":\"User\",\"disable_math\":true}},{\"type\":\"object\",\"name\":\"Row\",\"id\":\"c547cc3b-cc11-49b2-a376-923486e7321f\",\"attributes\":{\"name\":\"Row00892\",\"stylesheets\":[\"\\n:host(.pn-loading):before, .pn-loading:before {\\n  background-color: #c3c3c3;\\n  mask-size: auto calc(min(50%, 400px));\\n  -webkit-mask-size: auto calc(min(50%, 400px));\\n}\",{\"id\":\"6759def9-e99b-4723-8b4e-7b031e26d748\"},{\"id\":\"1f40bee6-c6bf-4292-886a-6742f756ae76\"},{\"id\":\"a53e5f3a-5741-4443-8525-0a578857f1cd\"},{\"id\":\"1dcf3163-6dc7-428d-94e9-f39e7e6df9ef\"},{\"id\":\"59a0044f-d7c7-47cf-8d8a-274f8a7ee9f9\"},{\"id\":\"bf4aa97c-b0e6-45aa-9a08-f8d2212233f9\"}],\"margin\":0,\"align\":\"start\",\"children\":[{\"type\":\"object\",\"name\":\"Row\",\"id\":\"816afc32-c455-4555-b73b-61d01439a660\",\"attributes\":{\"name\":\"Row00901\",\"stylesheets\":[\"\\n:host(.pn-loading):before, .pn-loading:before {\\n  background-color: #c3c3c3;\\n  mask-size: auto calc(min(50%, 400px));\\n  -webkit-mask-size: auto calc(min(50%, 400px));\\n}\",{\"id\":\"6759def9-e99b-4723-8b4e-7b031e26d748\"},{\"id\":\"1f40bee6-c6bf-4292-886a-6742f756ae76\"},{\"id\":\"a53e5f3a-5741-4443-8525-0a578857f1cd\"},{\"id\":\"1dcf3163-6dc7-428d-94e9-f39e7e6df9ef\"},{\"id\":\"59a0044f-d7c7-47cf-8d8a-274f8a7ee9f9\"},{\"id\":\"bf4aa97c-b0e6-45aa-9a08-f8d2212233f9\"}],\"margin\":0,\"align\":\"start\",\"children\":[{\"type\":\"object\",\"name\":\"panel.models.layout.Column\",\"id\":\"238ad2c2-1e3a-4573-9b12-e887884cbabe\",\"attributes\":{\"name\":\"Column00897\",\"stylesheets\":[\"\\n:host(.pn-loading):before, .pn-loading:before {\\n  background-color: #c3c3c3;\\n  mask-size: auto calc(min(50%, 400px));\\n  -webkit-mask-size: auto calc(min(50%, 400px));\\n}\",{\"id\":\"6759def9-e99b-4723-8b4e-7b031e26d748\"},{\"id\":\"1f40bee6-c6bf-4292-886a-6742f756ae76\"},{\"id\":\"a53e5f3a-5741-4443-8525-0a578857f1cd\"},{\"id\":\"1dcf3163-6dc7-428d-94e9-f39e7e6df9ef\"},{\"id\":\"59a0044f-d7c7-47cf-8d8a-274f8a7ee9f9\"},{\"id\":\"bf4aa97c-b0e6-45aa-9a08-f8d2212233f9\"}],\"margin\":0,\"align\":\"start\",\"children\":[{\"type\":\"object\",\"name\":\"panel.models.markup.HTML\",\"id\":\"2b625b2e-b4e0-43ef-b989-8ce11d88195c\",\"attributes\":{\"css_classes\":[\"markdown\"],\"stylesheets\":[\"\\n:host(.pn-loading):before, .pn-loading:before {\\n  background-color: #c3c3c3;\\n  mask-size: auto calc(min(50%, 400px));\\n  -webkit-mask-size: auto calc(min(50%, 400px));\\n}\",{\"id\":\"6759def9-e99b-4723-8b4e-7b031e26d748\"},{\"id\":\"2cfc9de3-7d21-41d8-9c17-0aee10ea56bb\"},{\"id\":\"a53e5f3a-5741-4443-8525-0a578857f1cd\"},{\"id\":\"1dcf3163-6dc7-428d-94e9-f39e7e6df9ef\"},{\"id\":\"59a0044f-d7c7-47cf-8d8a-274f8a7ee9f9\"},{\"id\":\"bf4aa97c-b0e6-45aa-9a08-f8d2212233f9\"}],\"margin\":[5,10],\"align\":\"start\",\"text\":\"&lt;p&gt;I am a custom header&lt;/p&gt;\\n\"}}]}}]}}]}},{\"type\":\"object\",\"name\":\"panel.models.reactive_html.ReactiveHTML\",\"id\":\"d6fbd73e-7e46-40ba-bbce-7d503dfc8213\",\"attributes\":{\"subscribed_events\":{\"type\":\"set\",\"entries\":[\"dom_event\"]},\"css_classes\":[\"copy-icon\"],\"stylesheets\":[\"\\n:host(.pn-loading):before, .pn-loading:before {\\n  background-color: #c3c3c3;\\n  mask-size: auto calc(min(50%, 400px));\\n  -webkit-mask-size: auto calc(min(50%, 400px));\\n}\",{\"id\":\"6759def9-e99b-4723-8b4e-7b031e26d748\"},{\"type\":\"object\",\"name\":\"ImportedStyleSheet\",\"id\":\"360c0110-f2c4-41bf-8758-8ba640a30154\",\"attributes\":{\"url\":\"https://cdn.holoviz.org/panel/1.4.0/dist/css/chat_copy_icon.css\"}},{\"id\":\"a53e5f3a-5741-4443-8525-0a578857f1cd\"},{\"id\":\"1dcf3163-6dc7-428d-94e9-f39e7e6df9ef\"},{\"id\":\"59a0044f-d7c7-47cf-8d8a-274f8a7ee9f9\"},{\"id\":\"bf4aa97c-b0e6-45aa-9a08-f8d2212233f9\"},{\"id\":\"0aab768f-73cb-4332-a559-bad36873b34b\"},\"\\n.message {\\n    background-color: tan;\\n    font-size: 24px;\\n    font-family: \\\"Courier New\\\";\\n}\\n.avatar {\\n    background-color: red;\\n    border-radius: 5%;\\n}\\n.header {\\n    background-color: green;\\n}\\n.footer {\\n    background-color: blue;\\n}\\n.name {\\n    background-color: orange;\\n}\\n.timestamp {\\n    background-color: purple;\\n}\\n.activity-dot {\\n    background-color: black;\\n}\\n.reaction-icons {\\n    background-color: white;\\n}\\n.copy-icon {\\n    background-color: gold;\\n}\\n.right {\\n    background-color: grey;\\n}\\n.center {\\n    background-color: pink;\\n}\\n.left {\\n    background-color: yellow;\\n}\\n\"],\"width\":15,\"height\":15,\"margin\":0,\"sizing_mode\":\"fixed\",\"align\":\"start\",\"attrs\":{\"type\":\"map\",\"entries\":[[\"copy-button\",[[\"onclick\",[],\"{script('copy_to_clipboard')}\"]]],[\"copy-icon\",[[\"fill\",[\"fill\"],\"{fill}\"]]]]},\"callbacks\":{\"type\":\"map\",\"entries\":[[\"copy-button\",[[\"onclick\",\"script('copy_to_clipboard')\"]]]]},\"data\":{\"type\":\"object\",\"name\":\"copy_to_clipboard1\",\"id\":\"f7ac7a5c-2272-44c2-b854-f0663f414673\",\"attributes\":{\"name\":\"ChatCopyIcon00880\",\"value\":\"Style me up!\"}},\"html\":\"\\n&lt;div\\n    type=&quot;button&quot;\\n    id=&quot;copy-button-${id}&quot;\\n    onclick=&quot;${script(&#x27;copy_to_clipboard&#x27;)}&quot;\\n    style=&quot;cursor: pointer; width: ${model.width}px; height: ${model.height}px;&quot;\\n    title=&quot;Copy message to clipboard&quot;\\n&gt;\\n    &lt;svg xmlns=&quot;http://www.w3.org/2000/svg&quot; class=&quot;icon icon-tabler icon-tabler-copy&quot; id=&quot;copy-icon-${id}&quot;\\n        width=&quot;${model.width}&quot; height=&quot;${model.height}&quot; viewBox=&quot;0 0 24 24&quot;\\n        stroke-width=&quot;2&quot; stroke=&quot;currentColor&quot; fill=${fill} stroke-linecap=&quot;round&quot; stroke-linejoin=&quot;round&quot;\\n    &gt;\\n        &lt;path stroke=&quot;none&quot; d=&quot;M0 0h24v24H0z&quot; fill=&quot;none&quot;&gt;&lt;/path&gt;\\n        &lt;path d=&quot;M8 8m0 2a2 2 0 0 1 2 -2h8a2 2 0 0 1 2 2v8a2 2 0 0 1 -2 2h-8a2 2 0 0 1 -2 -2z&quot;&gt;&lt;/path&gt;\\n        &lt;path d=&quot;M16 8v-2a2 2 0 0 0 -2 -2h-8a2 2 0 0 0 -2 2v8a2 2 0 0 0 2 2h2&quot;&gt;&lt;/path&gt;\\n    &lt;/svg&gt;\\n&lt;/div&gt;\\n\",\"nodes\":[\"copy-button\",\"copy-icon\"],\"scripts\":{\"type\":\"map\",\"entries\":[[\"copy_to_clipboard\",[\"navigator.clipboard.writeText(`${data.value}`);\\ndata.fill = &quot;currentColor&quot;;\\nsetTimeout(() =&gt; data.fill = &quot;none&quot;, 50);\"]]]}}},{\"type\":\"object\",\"name\":\"panel.models.markup.HTML\",\"id\":\"34607a12-5da9-40a2-ba2a-3c5b6d16d20a\",\"attributes\":{\"css_classes\":[\"activity-dot\"],\"stylesheets\":[\"\\n:host(.pn-loading):before, .pn-loading:before {\\n  background-color: #c3c3c3;\\n  mask-size: auto calc(min(50%, 400px));\\n  -webkit-mask-size: auto calc(min(50%, 400px));\\n}\",{\"id\":\"6759def9-e99b-4723-8b4e-7b031e26d748\"},{\"id\":\"a53e5f3a-5741-4443-8525-0a578857f1cd\"},{\"id\":\"1dcf3163-6dc7-428d-94e9-f39e7e6df9ef\"},{\"id\":\"59a0044f-d7c7-47cf-8d8a-274f8a7ee9f9\"},{\"id\":\"bf4aa97c-b0e6-45aa-9a08-f8d2212233f9\"},{\"id\":\"0aab768f-73cb-4332-a559-bad36873b34b\"},\"\\n.message {\\n    background-color: tan;\\n    font-size: 24px;\\n    font-family: \\\"Courier New\\\";\\n}\\n.avatar {\\n    background-color: red;\\n    border-radius: 5%;\\n}\\n.header {\\n    background-color: green;\\n}\\n.footer {\\n    background-color: blue;\\n}\\n.name {\\n    background-color: orange;\\n}\\n.timestamp {\\n    background-color: purple;\\n}\\n.activity-dot {\\n    background-color: black;\\n}\\n.reaction-icons {\\n    background-color: white;\\n}\\n.copy-icon {\\n    background-color: gold;\\n}\\n.right {\\n    background-color: grey;\\n}\\n.center {\\n    background-color: pink;\\n}\\n.left {\\n    background-color: yellow;\\n}\\n\"],\"margin\":[5,10],\"align\":\"start\",\"text\":\"\\u25cf\",\"disable_math\":true}}]}},{\"type\":\"object\",\"name\":\"Row\",\"id\":\"054678a8-c80a-420f-8d80-27f595dc82c4\",\"attributes\":{\"name\":\"Row00888\",\"css_classes\":[\"center\"],\"stylesheets\":[\"\\n:host(.pn-loading):before, .pn-loading:before {\\n  background-color: #c3c3c3;\\n  mask-size: auto calc(min(50%, 400px));\\n  -webkit-mask-size: auto calc(min(50%, 400px));\\n}\",{\"id\":\"6759def9-e99b-4723-8b4e-7b031e26d748\"},{\"id\":\"1f40bee6-c6bf-4292-886a-6742f756ae76\"},{\"id\":\"a53e5f3a-5741-4443-8525-0a578857f1cd\"},{\"id\":\"1dcf3163-6dc7-428d-94e9-f39e7e6df9ef\"},{\"id\":\"59a0044f-d7c7-47cf-8d8a-274f8a7ee9f9\"},{\"id\":\"bf4aa97c-b0e6-45aa-9a08-f8d2212233f9\"},{\"id\":\"0aab768f-73cb-4332-a559-bad36873b34b\"},\"\\n.message {\\n    background-color: tan;\\n    font-size: 24px;\\n    font-family: \\\"Courier New\\\";\\n}\\n.avatar {\\n    background-color: red;\\n    border-radius: 5%;\\n}\\n.header {\\n    background-color: green;\\n}\\n.footer {\\n    background-color: blue;\\n}\\n.name {\\n    background-color: orange;\\n}\\n.timestamp {\\n    background-color: purple;\\n}\\n.activity-dot {\\n    background-color: black;\\n}\\n.reaction-icons {\\n    background-color: white;\\n}\\n.copy-icon {\\n    background-color: gold;\\n}\\n.right {\\n    background-color: grey;\\n}\\n.center {\\n    background-color: pink;\\n}\\n.left {\\n    background-color: yellow;\\n}\\n\"],\"margin\":0,\"align\":\"start\",\"children\":[{\"type\":\"object\",\"name\":\"panel.models.markup.HTML\",\"id\":\"fba7405d-d29a-4a07-b9c5-584ddb506008\",\"attributes\":{\"css_classes\":[\"markdown\",\"message\"],\"stylesheets\":[\"\\n:host(.pn-loading):before, .pn-loading:before {\\n  background-color: #c3c3c3;\\n  mask-size: auto calc(min(50%, 400px));\\n  -webkit-mask-size: auto calc(min(50%, 400px));\\n}\",{\"id\":\"6759def9-e99b-4723-8b4e-7b031e26d748\"},{\"id\":\"2cfc9de3-7d21-41d8-9c17-0aee10ea56bb\"},{\"id\":\"a53e5f3a-5741-4443-8525-0a578857f1cd\"},{\"id\":\"1dcf3163-6dc7-428d-94e9-f39e7e6df9ef\"},{\"id\":\"59a0044f-d7c7-47cf-8d8a-274f8a7ee9f9\"},{\"id\":\"bf4aa97c-b0e6-45aa-9a08-f8d2212233f9\"},{\"id\":\"0aab768f-73cb-4332-a559-bad36873b34b\"},\"\\n.message {\\n    background-color: tan;\\n    font-size: 24px;\\n    font-family: \\\"Courier New\\\";\\n}\\n.avatar {\\n    background-color: red;\\n    border-radius: 5%;\\n}\\n.header {\\n    background-color: green;\\n}\\n.footer {\\n    background-color: blue;\\n}\\n.name {\\n    background-color: orange;\\n}\\n.timestamp {\\n    background-color: purple;\\n}\\n.activity-dot {\\n    background-color: black;\\n}\\n.reaction-icons {\\n    background-color: white;\\n}\\n.copy-icon {\\n    background-color: gold;\\n}\\n.right {\\n    background-color: grey;\\n}\\n.center {\\n    background-color: pink;\\n}\\n.left {\\n    background-color: yellow;\\n}\\n\"],\"margin\":[5,10],\"align\":\"start\",\"text\":\"&lt;p&gt;Style me up!&lt;/p&gt;\\n\"}},{\"type\":\"object\",\"name\":\"panel.models.layout.Column\",\"id\":\"ef0d1d2a-339c-4b53-8570-3ee8bb13edb0\",\"attributes\":{\"name\":\"Column00876\",\"css_classes\":[\"reaction-icons\"],\"stylesheets\":[\"\\n:host(.pn-loading):before, .pn-loading:before {\\n  background-color: #c3c3c3;\\n  mask-size: auto calc(min(50%, 400px));\\n  -webkit-mask-size: auto calc(min(50%, 400px));\\n}\",{\"id\":\"6759def9-e99b-4723-8b4e-7b031e26d748\"},{\"id\":\"1f40bee6-c6bf-4292-886a-6742f756ae76\"},{\"id\":\"a53e5f3a-5741-4443-8525-0a578857f1cd\"},{\"id\":\"1dcf3163-6dc7-428d-94e9-f39e7e6df9ef\"},{\"id\":\"59a0044f-d7c7-47cf-8d8a-274f8a7ee9f9\"},{\"id\":\"bf4aa97c-b0e6-45aa-9a08-f8d2212233f9\"},{\"id\":\"0aab768f-73cb-4332-a559-bad36873b34b\"},\"\\n.message {\\n    background-color: tan;\\n    font-size: 24px;\\n    font-family: \\\"Courier New\\\";\\n}\\n.avatar {\\n    background-color: red;\\n    border-radius: 5%;\\n}\\n.header {\\n    background-color: green;\\n}\\n.footer {\\n    background-color: blue;\\n}\\n.name {\\n    background-color: orange;\\n}\\n.timestamp {\\n    background-color: purple;\\n}\\n.activity-dot {\\n    background-color: black;\\n}\\n.reaction-icons {\\n    background-color: white;\\n}\\n.copy-icon {\\n    background-color: gold;\\n}\\n.right {\\n    background-color: grey;\\n}\\n.center {\\n    background-color: pink;\\n}\\n.left {\\n    background-color: yellow;\\n}\\n\"],\"width\":15,\"height\":15,\"margin\":[5,10],\"sizing_mode\":\"fixed\",\"align\":\"start\",\"children\":[{\"type\":\"object\",\"name\":\"panel.models.icon.ToggleIcon\",\"id\":\"5b58f29a-4729-4744-b88b-29619627fc14\",\"attributes\":{\"stylesheets\":[\"\\n:host(.pn-loading):before, .pn-loading:before {\\n  background-color: #c3c3c3;\\n  mask-size: auto calc(min(50%, 400px));\\n  -webkit-mask-size: auto calc(min(50%, 400px));\\n}\",{\"id\":\"6759def9-e99b-4723-8b4e-7b031e26d748\"},{\"type\":\"object\",\"name\":\"ImportedStyleSheet\",\"id\":\"2b9385fb-b52d-4bd8-8b95-d95df14a1d92\",\"attributes\":{\"url\":\"https://cdn.holoviz.org/panel/1.4.0/dist/css/icon.css\"}},{\"id\":\"a53e5f3a-5741-4443-8525-0a578857f1cd\"},{\"id\":\"1dcf3163-6dc7-428d-94e9-f39e7e6df9ef\"},{\"id\":\"59a0044f-d7c7-47cf-8d8a-274f8a7ee9f9\"},{\"id\":\"bf4aa97c-b0e6-45aa-9a08-f8d2212233f9\"}],\"margin\":0,\"align\":\"start\"}}]}}]}},{\"type\":\"object\",\"name\":\"panel.models.layout.Column\",\"id\":\"477fa73a-477c-448e-9a11-a6220ab75864\",\"attributes\":{\"name\":\"Column00916\",\"css_classes\":[\"footer\"],\"stylesheets\":[\"\\n:host(.pn-loading):before, .pn-loading:before {\\n  background-color: #c3c3c3;\\n  mask-size: auto calc(min(50%, 400px));\\n  -webkit-mask-size: auto calc(min(50%, 400px));\\n}\",{\"id\":\"6759def9-e99b-4723-8b4e-7b031e26d748\"},{\"id\":\"1f40bee6-c6bf-4292-886a-6742f756ae76\"},{\"id\":\"a53e5f3a-5741-4443-8525-0a578857f1cd\"},{\"id\":\"1dcf3163-6dc7-428d-94e9-f39e7e6df9ef\"},{\"id\":\"59a0044f-d7c7-47cf-8d8a-274f8a7ee9f9\"},{\"id\":\"bf4aa97c-b0e6-45aa-9a08-f8d2212233f9\"},{\"id\":\"0aab768f-73cb-4332-a559-bad36873b34b\"},\"\\n.message {\\n    background-color: tan;\\n    font-size: 24px;\\n    font-family: \\\"Courier New\\\";\\n}\\n.avatar {\\n    background-color: red;\\n    border-radius: 5%;\\n}\\n.header {\\n    background-color: green;\\n}\\n.footer {\\n    background-color: blue;\\n}\\n.name {\\n    background-color: orange;\\n}\\n.timestamp {\\n    background-color: purple;\\n}\\n.activity-dot {\\n    background-color: black;\\n}\\n.reaction-icons {\\n    background-color: white;\\n}\\n.copy-icon {\\n    background-color: gold;\\n}\\n.right {\\n    background-color: grey;\\n}\\n.center {\\n    background-color: pink;\\n}\\n.left {\\n    background-color: yellow;\\n}\\n\"],\"margin\":0,\"sizing_mode\":\"stretch_width\",\"align\":\"start\",\"children\":[{\"type\":\"object\",\"name\":\"Row\",\"id\":\"7c20d874-ada4-4046-9883-51bc6953bc3b\",\"attributes\":{\"name\":\"Row00906\",\"stylesheets\":[\"\\n:host(.pn-loading):before, .pn-loading:before {\\n  background-color: #c3c3c3;\\n  mask-size: auto calc(min(50%, 400px));\\n  -webkit-mask-size: auto calc(min(50%, 400px));\\n}\",{\"id\":\"6759def9-e99b-4723-8b4e-7b031e26d748\"},{\"id\":\"1f40bee6-c6bf-4292-886a-6742f756ae76\"},{\"id\":\"a53e5f3a-5741-4443-8525-0a578857f1cd\"},{\"id\":\"1dcf3163-6dc7-428d-94e9-f39e7e6df9ef\"},{\"id\":\"59a0044f-d7c7-47cf-8d8a-274f8a7ee9f9\"},{\"id\":\"bf4aa97c-b0e6-45aa-9a08-f8d2212233f9\"}],\"margin\":0,\"align\":\"start\",\"children\":[{\"type\":\"object\",\"name\":\"Row\",\"id\":\"22a55239-5327-4778-9820-84532f6c765b\",\"attributes\":{\"name\":\"Row00915\",\"stylesheets\":[\"\\n:host(.pn-loading):before, .pn-loading:before {\\n  background-color: #c3c3c3;\\n  mask-size: auto calc(min(50%, 400px));\\n  -webkit-mask-size: auto calc(min(50%, 400px));\\n}\",{\"id\":\"6759def9-e99b-4723-8b4e-7b031e26d748\"},{\"id\":\"1f40bee6-c6bf-4292-886a-6742f756ae76\"},{\"id\":\"a53e5f3a-5741-4443-8525-0a578857f1cd\"},{\"id\":\"1dcf3163-6dc7-428d-94e9-f39e7e6df9ef\"},{\"id\":\"59a0044f-d7c7-47cf-8d8a-274f8a7ee9f9\"},{\"id\":\"bf4aa97c-b0e6-45aa-9a08-f8d2212233f9\"}],\"margin\":0,\"align\":\"start\",\"children\":[{\"type\":\"object\",\"name\":\"panel.models.layout.Column\",\"id\":\"9190d4d1-6936-46b3-a174-bf75eee84626\",\"attributes\":{\"name\":\"Column00911\",\"stylesheets\":[\"\\n:host(.pn-loading):before, .pn-loading:before {\\n  background-color: #c3c3c3;\\n  mask-size: auto calc(min(50%, 400px));\\n  -webkit-mask-size: auto calc(min(50%, 400px));\\n}\",{\"id\":\"6759def9-e99b-4723-8b4e-7b031e26d748\"},{\"id\":\"1f40bee6-c6bf-4292-886a-6742f756ae76\"},{\"id\":\"a53e5f3a-5741-4443-8525-0a578857f1cd\"},{\"id\":\"1dcf3163-6dc7-428d-94e9-f39e7e6df9ef\"},{\"id\":\"59a0044f-d7c7-47cf-8d8a-274f8a7ee9f9\"},{\"id\":\"bf4aa97c-b0e6-45aa-9a08-f8d2212233f9\"}],\"margin\":0,\"align\":\"start\",\"children\":[{\"type\":\"object\",\"name\":\"panel.models.markup.HTML\",\"id\":\"ff3c3a88-1e88-4bde-becf-352a1fce9515\",\"attributes\":{\"css_classes\":[\"markdown\"],\"stylesheets\":[\"\\n:host(.pn-loading):before, .pn-loading:before {\\n  background-color: #c3c3c3;\\n  mask-size: auto calc(min(50%, 400px));\\n  -webkit-mask-size: auto calc(min(50%, 400px));\\n}\",{\"id\":\"6759def9-e99b-4723-8b4e-7b031e26d748\"},{\"id\":\"2cfc9de3-7d21-41d8-9c17-0aee10ea56bb\"},{\"id\":\"a53e5f3a-5741-4443-8525-0a578857f1cd\"},{\"id\":\"1dcf3163-6dc7-428d-94e9-f39e7e6df9ef\"},{\"id\":\"59a0044f-d7c7-47cf-8d8a-274f8a7ee9f9\"},{\"id\":\"bf4aa97c-b0e6-45aa-9a08-f8d2212233f9\"}],\"margin\":[5,10],\"align\":\"start\",\"text\":\"&lt;p&gt;I am a custom footer&lt;/p&gt;\\n\"}}]}}]}}]}},{\"type\":\"object\",\"name\":\"panel.models.markup.HTML\",\"id\":\"8796aa8c-6c71-4ecd-a80f-09a76c8c0a07\",\"attributes\":{\"css_classes\":[\"timestamp\"],\"stylesheets\":[\"\\n:host(.pn-loading):before, .pn-loading:before {\\n  background-color: #c3c3c3;\\n  mask-size: auto calc(min(50%, 400px));\\n  -webkit-mask-size: auto calc(min(50%, 400px));\\n}\",{\"id\":\"6759def9-e99b-4723-8b4e-7b031e26d748\"},{\"id\":\"a53e5f3a-5741-4443-8525-0a578857f1cd\"},{\"id\":\"1dcf3163-6dc7-428d-94e9-f39e7e6df9ef\"},{\"id\":\"59a0044f-d7c7-47cf-8d8a-274f8a7ee9f9\"},{\"id\":\"bf4aa97c-b0e6-45aa-9a08-f8d2212233f9\"}],\"margin\":[5,10],\"align\":\"start\",\"text\":\"17:31\",\"disable_math\":true}}]}}]}}]}}]}},{\"type\":\"object\",\"name\":\"panel.models.comm_manager.CommManager\",\"id\":\"253a5eab-85cd-47e4-81eb-3944b5bf7da9\",\"attributes\":{\"plot_id\":\"c27ac54c-44fb-4c23-ab05-45961e74c476\",\"comm_id\":\"48d84c6f2ee747fda5ac078bffa6be94\",\"client_comm_id\":\"40a409aa751d4544960498043387c10a\"}}],\"defs\":[{\"type\":\"model\",\"name\":\"ReactiveHTML1\"},{\"type\":\"model\",\"name\":\"FlexBox1\",\"properties\":[{\"name\":\"align_content\",\"kind\":\"Any\",\"default\":\"flex-start\"},{\"name\":\"align_items\",\"kind\":\"Any\",\"default\":\"flex-start\"},{\"name\":\"flex_direction\",\"kind\":\"Any\",\"default\":\"row\"},{\"name\":\"flex_wrap\",\"kind\":\"Any\",\"default\":\"wrap\"},{\"name\":\"justify_content\",\"kind\":\"Any\",\"default\":\"flex-start\"},{\"name\":\"gap\",\"kind\":\"Any\",\"default\":\"\"}]},{\"type\":\"model\",\"name\":\"FloatPanel1\",\"properties\":[{\"name\":\"config\",\"kind\":\"Any\",\"default\":{\"type\":\"map\"}},{\"name\":\"contained\",\"kind\":\"Any\",\"default\":true},{\"name\":\"position\",\"kind\":\"Any\",\"default\":\"right-top\"},{\"name\":\"offsetx\",\"kind\":\"Any\",\"default\":null},{\"name\":\"offsety\",\"kind\":\"Any\",\"default\":null},{\"name\":\"theme\",\"kind\":\"Any\",\"default\":\"primary\"},{\"name\":\"status\",\"kind\":\"Any\",\"default\":\"normalized\"}]},{\"type\":\"model\",\"name\":\"GridStack1\",\"properties\":[{\"name\":\"mode\",\"kind\":\"Any\",\"default\":\"warn\"},{\"name\":\"ncols\",\"kind\":\"Any\",\"default\":null},{\"name\":\"nrows\",\"kind\":\"Any\",\"default\":null},{\"name\":\"allow_resize\",\"kind\":\"Any\",\"default\":true},{\"name\":\"allow_drag\",\"kind\":\"Any\",\"default\":true},{\"name\":\"state\",\"kind\":\"Any\",\"default\":[]}]},{\"type\":\"model\",\"name\":\"drag1\",\"properties\":[{\"name\":\"slider_width\",\"kind\":\"Any\",\"default\":5},{\"name\":\"slider_color\",\"kind\":\"Any\",\"default\":\"black\"},{\"name\":\"value\",\"kind\":\"Any\",\"default\":50}]},{\"type\":\"model\",\"name\":\"click1\",\"properties\":[{\"name\":\"terminal_output\",\"kind\":\"Any\",\"default\":\"\"},{\"name\":\"debug_name\",\"kind\":\"Any\",\"default\":\"\"},{\"name\":\"clears\",\"kind\":\"Any\",\"default\":0}]},{\"type\":\"model\",\"name\":\"FastWrapper1\",\"properties\":[{\"name\":\"object\",\"kind\":\"Any\",\"default\":null},{\"name\":\"style\",\"kind\":\"Any\",\"default\":null}]},{\"type\":\"model\",\"name\":\"NotificationAreaBase1\",\"properties\":[{\"name\":\"js_events\",\"kind\":\"Any\",\"default\":{\"type\":\"map\"}},{\"name\":\"position\",\"kind\":\"Any\",\"default\":\"bottom-right\"},{\"name\":\"_clear\",\"kind\":\"Any\",\"default\":0}]},{\"type\":\"model\",\"name\":\"NotificationArea1\",\"properties\":[{\"name\":\"js_events\",\"kind\":\"Any\",\"default\":{\"type\":\"map\"}},{\"name\":\"notifications\",\"kind\":\"Any\",\"default\":[]},{\"name\":\"position\",\"kind\":\"Any\",\"default\":\"bottom-right\"},{\"name\":\"_clear\",\"kind\":\"Any\",\"default\":0},{\"name\":\"types\",\"kind\":\"Any\",\"default\":[{\"type\":\"map\",\"entries\":[[\"type\",\"warning\"],[\"background\",\"#ffc107\"],[\"icon\",{\"type\":\"map\",\"entries\":[[\"className\",\"fas fa-exclamation-triangle\"],[\"tagName\",\"i\"],[\"color\",\"white\"]]}]]},{\"type\":\"map\",\"entries\":[[\"type\",\"info\"],[\"background\",\"#007bff\"],[\"icon\",{\"type\":\"map\",\"entries\":[[\"className\",\"fas fa-info-circle\"],[\"tagName\",\"i\"],[\"color\",\"white\"]]}]]}]}]},{\"type\":\"model\",\"name\":\"Notification\",\"properties\":[{\"name\":\"background\",\"kind\":\"Any\",\"default\":null},{\"name\":\"duration\",\"kind\":\"Any\",\"default\":3000},{\"name\":\"icon\",\"kind\":\"Any\",\"default\":null},{\"name\":\"message\",\"kind\":\"Any\",\"default\":\"\"},{\"name\":\"notification_type\",\"kind\":\"Any\",\"default\":null},{\"name\":\"_destroyed\",\"kind\":\"Any\",\"default\":false}]},{\"type\":\"model\",\"name\":\"TemplateActions1\",\"properties\":[{\"name\":\"open_modal\",\"kind\":\"Any\",\"default\":0},{\"name\":\"close_modal\",\"kind\":\"Any\",\"default\":0}]},{\"type\":\"model\",\"name\":\"BootstrapTemplateActions1\",\"properties\":[{\"name\":\"open_modal\",\"kind\":\"Any\",\"default\":0},{\"name\":\"close_modal\",\"kind\":\"Any\",\"default\":0}]},{\"type\":\"model\",\"name\":\"TemplateEditor1\",\"properties\":[{\"name\":\"layout\",\"kind\":\"Any\",\"default\":[]}]},{\"type\":\"model\",\"name\":\"MaterialTemplateActions1\",\"properties\":[{\"name\":\"open_modal\",\"kind\":\"Any\",\"default\":0},{\"name\":\"close_modal\",\"kind\":\"Any\",\"default\":0}]},{\"type\":\"model\",\"name\":\"copy_to_clipboard1\",\"properties\":[{\"name\":\"fill\",\"kind\":\"Any\",\"default\":\"none\"},{\"name\":\"value\",\"kind\":\"Any\",\"default\":null}]}]}};\n",
       "  var render_items = [{\"docid\":\"b27246fd-ab50-4055-ad1e-555a49f735b5\",\"roots\":{\"c27ac54c-44fb-4c23-ab05-45961e74c476\":\"a2048524-8f0c-415e-9c94-4fde76b9ee37\"},\"root_ids\":[\"c27ac54c-44fb-4c23-ab05-45961e74c476\"]}];\n",
       "  var docs = Object.values(docs_json)\n",
       "  if (!docs) {\n",
       "    return\n",
       "  }\n",
       "  const py_version = docs[0].version.replace('rc', '-rc.').replace('.dev', '-dev.')\n",
       "  function embed_document(root) {\n",
       "    var Bokeh = get_bokeh(root)\n",
       "    Bokeh.embed.embed_items_notebook(docs_json, render_items);\n",
       "    for (const render_item of render_items) {\n",
       "      for (const root_id of render_item.root_ids) {\n",
       "\tconst id_el = document.getElementById(root_id)\n",
       "\tif (id_el.children.length && (id_el.children[0].className === 'bk-root')) {\n",
       "\t  const root_el = id_el.children[0]\n",
       "\t  root_el.id = root_el.id + '-rendered'\n",
       "\t}\n",
       "      }\n",
       "    }\n",
       "  }\n",
       "  function get_bokeh(root) {\n",
       "    if (root.Bokeh === undefined) {\n",
       "      return null\n",
       "    } else if (root.Bokeh.version !== py_version) {\n",
       "      if (root.Bokeh.versions === undefined || !root.Bokeh.versions.has(py_version)) {\n",
       "\treturn null\n",
       "      }\n",
       "      return root.Bokeh.versions.get(py_version);\n",
       "    } else if (root.Bokeh.version === py_version) {\n",
       "      return root.Bokeh\n",
       "    }\n",
       "    return null\n",
       "  }\n",
       "  function is_loaded(root) {\n",
       "    var Bokeh = get_bokeh(root)\n",
       "    return (Bokeh != null && Bokeh.Panel !== undefined)\n",
       "  }\n",
       "  if (is_loaded(root)) {\n",
       "    embed_document(root);\n",
       "  } else {\n",
       "    var attempts = 0;\n",
       "    var timer = setInterval(function(root) {\n",
       "      if (is_loaded(root)) {\n",
       "        clearInterval(timer);\n",
       "        embed_document(root);\n",
       "      } else if (document.readyState == \"complete\") {\n",
       "        attempts++;\n",
       "        if (attempts > 200) {\n",
       "          clearInterval(timer);\n",
       "\t  var Bokeh = get_bokeh(root)\n",
       "\t  if (Bokeh == null || Bokeh.Panel == null) {\n",
       "            console.warn(\"Panel: ERROR: Unable to run Panel code because Bokeh or Panel library is missing\");\n",
       "\t  } else {\n",
       "\t    console.warn(\"Panel: WARNING: Attempting to render but not all required libraries could be resolved.\")\n",
       "\t    embed_document(root)\n",
       "\t  }\n",
       "        }\n",
       "      }\n",
       "    }, 25, root)\n",
       "  }\n",
       "})(window);</script>"
      ],
      "text/plain": [
       "Row(design=<class 'panel.theme.materi...)\n",
       "    [0] Markdown(str, design=<class 'panel.theme.materi..., height=300, margin=0, styles={'overflow-y': 'scroll'})\n",
       "    [1] ChatMessage(str, avatar='🧑', design=<class 'panel.theme.materi..., footer_objects=['I am a custom footer'], header_objects=['I am a custom header'], reaction_icons=ChatReactionIcons, show_activity_dot=True, stylesheets=['\\n.message {...], timestamp=datetime.datetime(2024, ..., width=600)"
      ]
     },
     "execution_count": 4,
     "metadata": {
      "application/vnd.holoviews_exec.v0+json": {
       "id": "c27ac54c-44fb-4c23-ab05-45961e74c476"
      }
     },
     "output_type": "execute_result"
    }
   ],
   "source": [
    "pn.Row(\n",
    "    pn.pane.Markdown(f'```css\\n{stylesheet}```', margin=0, height=300, styles={'overflow-y': 'scroll'}),\n",
    "    pn.chat.ChatMessage(\n",
    "        \"Style me up!\",\n",
    "        show_activity_dot=True,\n",
    "        header_objects=['I am a custom header'],\n",
    "        footer_objects=['I am a custom footer'],\n",
    "        stylesheets=[stylesheet], width=600\n",
    "    )\n",
    ")"
   ]
  },
  {
   "cell_type": "markdown",
   "metadata": {},
   "source": [
    "## Reactive Expressions & References\n",
    "\n",
    "In Panel 1.3.0 we introduced new concepts around **r**eactive e**x**pressions using the `param.rx` API and the ability to bind reactive references to parameters. This release continues to build on this support in a number of ways:"
   ]
  },
  {
   "cell_type": "markdown",
   "metadata": {},
   "source": [
    "### (Asynchronous) Generator Expressions\n",
    "\n",
    "Streaming in Panel has long been possible by registering periodic callbacks, but as we are moving more and more towards a more reactive approach to writing applications we have been improving the support for building applications with (asynchronous) generators. If you upgrade to Param 2.1 you can now use `rx` expressions that are driven by a generator. \n",
    "\n",
    "To provide a simple demonstration of this approach let us build a generator that emits a value every 0.1 seconds. By wrapping the generator in `pn.rx` we can now perform standard arithmetic on this dynamic value, e.g. by adding an offset derived from a widget value:"
   ]
  },
  {
   "cell_type": "code",
   "execution_count": 5,
   "metadata": {},
   "outputs": [],
   "source": [
    "def gen():\n",
    "    while True:\n",
    "        time.sleep(0.1)\n",
    "        yield np.random.randn()\n",
    "\n",
    "offset = pn.widgets.FloatSlider(value=0, end=5, name='Offset')\n",
    "\n",
    "pn.Column(\n",
    "    offset,\n",
    "    pn.widgets.Number(value=pn.rx(gen)+offset, format='{value:.3f}', width=250, font_size='36pt')\n",
    ");"
   ]
  },
  {
   "cell_type": "markdown",
   "metadata": {},
   "source": [
    "<img src=\"./images/gen_rx.gif\"></img>"
   ]
  },
  {
   "cell_type": "markdown",
   "metadata": {},
   "source": [
    "The ability to perform operations on dynamic values derived from generators, parameter values and widgets in this way provides a concise way to express complex data pipelines in a declarative way and thanks to support for binding the reactive references you can easily tie these dynamic values to visual outputs. To discover more about this read some of the new explanation materials on [reactivity in Panel](https://panel.holoviz.org/explanation/api/reactivity.html) and [references in Param](https://param.holoviz.org/user_guide/References.html)."
   ]
  },
  {
   "cell_type": "markdown",
   "metadata": {},
   "source": [
    "### Skipping updates\n",
    "\n",
    "One sticking point when working with reactive functions created using the `pn.bind` API was that there was no way to signal that you did not want to update the output until some condition was met. In Param 2.1 and Panel 1.4 it is now possible to `Skip` updates by raising a `param.Skip` exception. \n",
    "\n",
    "A good example of this is a form that gathers some inputs but should not run until a button is clicked. In our `add` callback we return `Skip` until the button triggers a calculate event at which point we yield a message to say we are Calculating and then yield the result:"
   ]
  },
  {
   "cell_type": "code",
   "execution_count": 6,
   "metadata": {},
   "outputs": [],
   "source": [
    "a_slider = pn.widgets.FloatSlider()\n",
    "b_slider = pn.widgets.FloatSlider()\n",
    "button = pn.widgets.Button(name='Calculate')\n",
    "\n",
    "def add(a, b, calculate):\n",
    "    if not calculate:\n",
    "        return pn.param.Skip\n",
    "    yield '**Calculating...**'\n",
    "    time.sleep(1)\n",
    "    yield f'**{a} + {b} = {a+b:.1f}**'\n",
    "\n",
    "pn.Column(a_slider, b_slider, button, pn.bind(add, a_slider, b_slider, button));"
   ]
  },
  {
   "cell_type": "markdown",
   "metadata": {},
   "source": [
    "<img src=\"./images/skip.gif\"></img>"
   ]
  },
  {
   "cell_type": "markdown",
   "metadata": {},
   "source": [
    "## New Components\n",
    "\n",
    "No new Panel release would be complete without the addition of at least a few new components. In addition to some of the new Chat components we also have a few new panes and widgets for you."
   ]
  },
  {
   "cell_type": "markdown",
   "metadata": {
    "jp-MarkdownHeadingCollapsed": true
   },
   "source": [
    "### Textual\n",
    "\n",
    "[Textual](https://textual.textualize.io/) is a Rapid Application Development framework for Python allowing users to build so called TUIs. As the popularity of this framework has grown and more and a growing number of tools offer Textual UIs we decided to explore whether it would be possible to embed these apps inside Panel, and quickly the [`Textual` pane](https://panel.holoviz.org/reference/panes/Textual.html) was born - wrap any Textual application in Panel and use it from within a notebook or in your standalone application: \n",
    "\n",
    "<img src=\"./images/textual.gif\" style=\"max-width: 50%; margin-left: auto; margin-right: auto; display: block;\"></img>"
   ]
  },
  {
   "cell_type": "markdown",
   "metadata": {},
   "source": [
    "### New widgets\n",
    "\n",
    "Every new Panel release must come with at least a few new widgets, in this release we have three main new additions for you the [`NestedSelect`](https://panel.holoviz.org/reference/widgets/NestedSelect.html) widget to simplify selection of values with a hierarchical relationship, the [`DateRangePicker`](https://panel.holoviz.org/reference/widgets/DateRangePicker.html), a simplified version of the `DatetimeRangePicker` without the time selection and the [`ButtonIcon`](https://panel.holoviz.org/reference/widgets/ButtonIcon.html).\n",
    "\n",
    "### NestedSelect\n",
    "\n",
    "The [`NestedSelect` widget](https://panel.holoviz.org/reference/widgets/NestedSelect.html) makes it possible to express hierarchical relationship either using a static definition or by providing a callback to generate the valid values:"
   ]
  },
  {
   "cell_type": "code",
   "execution_count": 7,
   "metadata": {},
   "outputs": [],
   "source": [
    "nested_select = pn.widgets.NestedSelect(\n",
    "    options={\n",
    "        \"Africa\": {\n",
    "            \"Ghana\": [\"Accra\", \"Kumasi\", \"Tamale\"],\n",
    "            \"Nigeria\": [\"Abuja\", \"Kano\", \"Ibadan\", \"Lagos\"],\n",
    "        },\n",
    "        \"Asia\": {\n",
    "            \"Thailand\": [\"Bangkok\", \"Chiang Mai\", \"Nakhon Ratchasima\"],\n",
    "            \"Vietnam\": [\"Da Nang\", \"Hanoi\", \"Ho Chi Minh City\"],\n",
    "        },\n",
    "    },\n",
    "    levels=[\"Continent\", \"Country\", \"City\"],\n",
    ")\n",
    "\n",
    "pn.Row(nested_select, pn.pane.ParamRef(nested_select.param.value));"
   ]
  },
  {
   "cell_type": "markdown",
   "metadata": {},
   "source": [
    "<img src=\"./images/nested_select.gif\"></img>"
   ]
  },
  {
   "cell_type": "markdown",
   "metadata": {},
   "source": [
    "### DateRangePicker\n",
    "\n",
    "The [`DateRangePicker`](https://panel.holoviz.org/reference/widgets/DateRangePicker.html) widget provides a simple but welcome addition to the widget pantheon as the smaller brother of the `DatetimeRangePicker`."
   ]
  },
  {
   "cell_type": "code",
   "execution_count": 8,
   "metadata": {},
   "outputs": [],
   "source": [
    "pn.widgets.DateRangePicker(value=(dt.date(2023, 11, 17), dt.date(2024, 3, 27)), name='DateRangePicker');"
   ]
  },
  {
   "cell_type": "markdown",
   "metadata": {},
   "source": [
    "<img src=\"./images/DateRangePicker.png\" style=\"max-width: 300px\"></img>"
   ]
  },
  {
   "cell_type": "markdown",
   "metadata": {},
   "source": [
    "### ButtonIcon\n",
    "\n",
    "The new [`ButtonIcon`](https://panel.holoviz.org/reference/widgets/ButtonIcon.html) is to the [`ToggleIcon`](https://panel.holoviz.org/reference/widgets/ToggleIcon.html) what [`Button`](https://panel.holoviz.org/reference/widgets/Button.html) is to the [`Toggle` widget](https://panel.holoviz.org/reference/widgets/Toggle.html). Sometimes you just want to be able to click on an icon and trigger an event:"
   ]
  },
  {
   "cell_type": "code",
   "execution_count": 9,
   "metadata": {},
   "outputs": [
    {
     "data": {},
     "metadata": {},
     "output_type": "display_data"
    },
    {
     "data": {
      "application/vnd.holoviews_exec.v0+json": "",
      "text/html": [
       "<div id='cb6fb2fc-6e62-4068-aa1b-ce33a8647e35'>\n",
       "  <div id=\"dfaca64f-e808-4da7-85c2-987d596a8fd8\" data-root-id=\"cb6fb2fc-6e62-4068-aa1b-ce33a8647e35\" style=\"display: contents;\"></div>\n",
       "</div>\n",
       "<script type=\"application/javascript\">(function(root) {\n",
       "  var docs_json = {\"91d6e580-aa7c-48ef-afc8-04e7c2cbbfd2\":{\"version\":\"3.4.0\",\"title\":\"Bokeh Application\",\"roots\":[{\"type\":\"object\",\"name\":\"GridBox\",\"id\":\"cb6fb2fc-6e62-4068-aa1b-ce33a8647e35\",\"attributes\":{\"rows\":null,\"cols\":null,\"name\":\"GridBox01000\",\"stylesheets\":[\"\\n:host(.pn-loading):before, .pn-loading:before {\\n  background-color: #c3c3c3;\\n  mask-size: auto calc(min(50%, 400px));\\n  -webkit-mask-size: auto calc(min(50%, 400px));\\n}\",{\"type\":\"object\",\"name\":\"ImportedStyleSheet\",\"id\":\"44d90e68-5003-44c5-a9fc-c9f8a237750f\",\"attributes\":{\"url\":\"https://cdn.holoviz.org/panel/1.4.0/dist/css/loading.css\"}},{\"type\":\"object\",\"name\":\"ImportedStyleSheet\",\"id\":\"561e8cc7-3757-4ab0-8ce2-04cbca463f9f\",\"attributes\":{\"url\":\"https://cdn.holoviz.org/panel/1.4.0/dist/css/gridbox.css\"}},{\"type\":\"object\",\"name\":\"ImportedStyleSheet\",\"id\":\"7bb76b6d-2975-437f-b602-0e0b283c1805\",\"attributes\":{\"url\":\"https://cdn.jsdelivr.net/npm/material-components-web@7.0.0/dist/material-components-web.min.css\"}},{\"type\":\"object\",\"name\":\"ImportedStyleSheet\",\"id\":\"3b62f6ff-bcb0-4564-9aee-378f9969737d\",\"attributes\":{\"url\":\"https://cdn.holoviz.org/panel/1.4.0/dist/bundled/theme/default.css\"}},{\"type\":\"object\",\"name\":\"ImportedStyleSheet\",\"id\":\"5ea79cbe-066a-4e25-a16a-5b876c064c8d\",\"attributes\":{\"url\":\"https://cdn.holoviz.org/panel/1.4.0/dist/bundled/theme/material_variables.css\"}},{\"type\":\"object\",\"name\":\"ImportedStyleSheet\",\"id\":\"56e1d5b9-1c57-40bd-91d6-99af7c5b4336\",\"attributes\":{\"url\":\"https://cdn.holoviz.org/panel/1.4.0/dist/bundled/theme/material.css\"}}],\"margin\":0,\"align\":\"start\",\"children\":[[{\"type\":\"object\",\"name\":\"panel.models.icon.ButtonIcon\",\"id\":\"ea4138ca-6ed5-4d2a-90a9-f2e5f5e69f15\",\"attributes\":{\"subscribed_events\":{\"type\":\"set\",\"entries\":[\"button_click\"]},\"stylesheets\":[\"\\n:host(.pn-loading):before, .pn-loading:before {\\n  background-color: #c3c3c3;\\n  mask-size: auto calc(min(50%, 400px));\\n  -webkit-mask-size: auto calc(min(50%, 400px));\\n}\",{\"id\":\"44d90e68-5003-44c5-a9fc-c9f8a237750f\"},{\"type\":\"object\",\"name\":\"ImportedStyleSheet\",\"id\":\"d93cddf5-a9b5-4207-ad17-20015492171b\",\"attributes\":{\"url\":\"https://cdn.holoviz.org/panel/1.4.0/dist/css/icon.css\"}},{\"id\":\"7bb76b6d-2975-437f-b602-0e0b283c1805\"},{\"id\":\"3b62f6ff-bcb0-4564-9aee-378f9969737d\"},{\"id\":\"5ea79cbe-066a-4e25-a16a-5b876c064c8d\"},{\"id\":\"56e1d5b9-1c57-40bd-91d6-99af7c5b4336\"}],\"margin\":[5,10],\"align\":\"start\",\"size\":\"8em\",\"tooltip\":{\"type\":\"object\",\"name\":\"Tooltip\",\"id\":\"d0ed2063-6cda-478b-9e2e-242bf3280d06\",\"attributes\":{\"position\":\"right\",\"content\":\"Favorite\"}}}},0,0,1,1],[{\"type\":\"object\",\"name\":\"panel.models.icon.ButtonIcon\",\"id\":\"91120b0f-2bdd-4a52-87b6-81556f418b75\",\"attributes\":{\"subscribed_events\":{\"type\":\"set\",\"entries\":[\"button_click\"]},\"stylesheets\":[\"\\n:host(.pn-loading):before, .pn-loading:before {\\n  background-color: #c3c3c3;\\n  mask-size: auto calc(min(50%, 400px));\\n  -webkit-mask-size: auto calc(min(50%, 400px));\\n}\",{\"id\":\"44d90e68-5003-44c5-a9fc-c9f8a237750f\"},{\"id\":\"d93cddf5-a9b5-4207-ad17-20015492171b\"},{\"id\":\"7bb76b6d-2975-437f-b602-0e0b283c1805\"},{\"id\":\"3b62f6ff-bcb0-4564-9aee-378f9969737d\"},{\"id\":\"5ea79cbe-066a-4e25-a16a-5b876c064c8d\"},{\"id\":\"56e1d5b9-1c57-40bd-91d6-99af7c5b4336\"}],\"margin\":[5,10],\"align\":\"start\",\"icon\":\"clipboard\",\"active_icon\":\"check\",\"size\":\"8em\",\"tooltip\":{\"type\":\"object\",\"name\":\"Tooltip\",\"id\":\"8260baf6-acca-492e-aa91-d61537c7752b\",\"attributes\":{\"position\":\"right\",\"content\":\"Copy\"}}}},0,1,1,1]]}},{\"type\":\"object\",\"name\":\"panel.models.comm_manager.CommManager\",\"id\":\"a4968f62-16b1-4f98-947e-7996f879d45e\",\"attributes\":{\"plot_id\":\"cb6fb2fc-6e62-4068-aa1b-ce33a8647e35\",\"comm_id\":\"fc0aa868211848c1998975cc6026c41a\",\"client_comm_id\":\"77baf53603674e8c91d4e54aa7f4397f\"}}],\"defs\":[{\"type\":\"model\",\"name\":\"ReactiveHTML1\"},{\"type\":\"model\",\"name\":\"FlexBox1\",\"properties\":[{\"name\":\"align_content\",\"kind\":\"Any\",\"default\":\"flex-start\"},{\"name\":\"align_items\",\"kind\":\"Any\",\"default\":\"flex-start\"},{\"name\":\"flex_direction\",\"kind\":\"Any\",\"default\":\"row\"},{\"name\":\"flex_wrap\",\"kind\":\"Any\",\"default\":\"wrap\"},{\"name\":\"justify_content\",\"kind\":\"Any\",\"default\":\"flex-start\"},{\"name\":\"gap\",\"kind\":\"Any\",\"default\":\"\"}]},{\"type\":\"model\",\"name\":\"FloatPanel1\",\"properties\":[{\"name\":\"config\",\"kind\":\"Any\",\"default\":{\"type\":\"map\"}},{\"name\":\"contained\",\"kind\":\"Any\",\"default\":true},{\"name\":\"position\",\"kind\":\"Any\",\"default\":\"right-top\"},{\"name\":\"offsetx\",\"kind\":\"Any\",\"default\":null},{\"name\":\"offsety\",\"kind\":\"Any\",\"default\":null},{\"name\":\"theme\",\"kind\":\"Any\",\"default\":\"primary\"},{\"name\":\"status\",\"kind\":\"Any\",\"default\":\"normalized\"}]},{\"type\":\"model\",\"name\":\"GridStack1\",\"properties\":[{\"name\":\"mode\",\"kind\":\"Any\",\"default\":\"warn\"},{\"name\":\"ncols\",\"kind\":\"Any\",\"default\":null},{\"name\":\"nrows\",\"kind\":\"Any\",\"default\":null},{\"name\":\"allow_resize\",\"kind\":\"Any\",\"default\":true},{\"name\":\"allow_drag\",\"kind\":\"Any\",\"default\":true},{\"name\":\"state\",\"kind\":\"Any\",\"default\":[]}]},{\"type\":\"model\",\"name\":\"drag1\",\"properties\":[{\"name\":\"slider_width\",\"kind\":\"Any\",\"default\":5},{\"name\":\"slider_color\",\"kind\":\"Any\",\"default\":\"black\"},{\"name\":\"value\",\"kind\":\"Any\",\"default\":50}]},{\"type\":\"model\",\"name\":\"click1\",\"properties\":[{\"name\":\"terminal_output\",\"kind\":\"Any\",\"default\":\"\"},{\"name\":\"debug_name\",\"kind\":\"Any\",\"default\":\"\"},{\"name\":\"clears\",\"kind\":\"Any\",\"default\":0}]},{\"type\":\"model\",\"name\":\"FastWrapper1\",\"properties\":[{\"name\":\"object\",\"kind\":\"Any\",\"default\":null},{\"name\":\"style\",\"kind\":\"Any\",\"default\":null}]},{\"type\":\"model\",\"name\":\"NotificationAreaBase1\",\"properties\":[{\"name\":\"js_events\",\"kind\":\"Any\",\"default\":{\"type\":\"map\"}},{\"name\":\"position\",\"kind\":\"Any\",\"default\":\"bottom-right\"},{\"name\":\"_clear\",\"kind\":\"Any\",\"default\":0}]},{\"type\":\"model\",\"name\":\"NotificationArea1\",\"properties\":[{\"name\":\"js_events\",\"kind\":\"Any\",\"default\":{\"type\":\"map\"}},{\"name\":\"notifications\",\"kind\":\"Any\",\"default\":[]},{\"name\":\"position\",\"kind\":\"Any\",\"default\":\"bottom-right\"},{\"name\":\"_clear\",\"kind\":\"Any\",\"default\":0},{\"name\":\"types\",\"kind\":\"Any\",\"default\":[{\"type\":\"map\",\"entries\":[[\"type\",\"warning\"],[\"background\",\"#ffc107\"],[\"icon\",{\"type\":\"map\",\"entries\":[[\"className\",\"fas fa-exclamation-triangle\"],[\"tagName\",\"i\"],[\"color\",\"white\"]]}]]},{\"type\":\"map\",\"entries\":[[\"type\",\"info\"],[\"background\",\"#007bff\"],[\"icon\",{\"type\":\"map\",\"entries\":[[\"className\",\"fas fa-info-circle\"],[\"tagName\",\"i\"],[\"color\",\"white\"]]}]]}]}]},{\"type\":\"model\",\"name\":\"Notification\",\"properties\":[{\"name\":\"background\",\"kind\":\"Any\",\"default\":null},{\"name\":\"duration\",\"kind\":\"Any\",\"default\":3000},{\"name\":\"icon\",\"kind\":\"Any\",\"default\":null},{\"name\":\"message\",\"kind\":\"Any\",\"default\":\"\"},{\"name\":\"notification_type\",\"kind\":\"Any\",\"default\":null},{\"name\":\"_destroyed\",\"kind\":\"Any\",\"default\":false}]},{\"type\":\"model\",\"name\":\"TemplateActions1\",\"properties\":[{\"name\":\"open_modal\",\"kind\":\"Any\",\"default\":0},{\"name\":\"close_modal\",\"kind\":\"Any\",\"default\":0}]},{\"type\":\"model\",\"name\":\"BootstrapTemplateActions1\",\"properties\":[{\"name\":\"open_modal\",\"kind\":\"Any\",\"default\":0},{\"name\":\"close_modal\",\"kind\":\"Any\",\"default\":0}]},{\"type\":\"model\",\"name\":\"TemplateEditor1\",\"properties\":[{\"name\":\"layout\",\"kind\":\"Any\",\"default\":[]}]},{\"type\":\"model\",\"name\":\"MaterialTemplateActions1\",\"properties\":[{\"name\":\"open_modal\",\"kind\":\"Any\",\"default\":0},{\"name\":\"close_modal\",\"kind\":\"Any\",\"default\":0}]},{\"type\":\"model\",\"name\":\"copy_to_clipboard1\",\"properties\":[{\"name\":\"fill\",\"kind\":\"Any\",\"default\":\"none\"},{\"name\":\"value\",\"kind\":\"Any\",\"default\":null}]}]}};\n",
       "  var render_items = [{\"docid\":\"91d6e580-aa7c-48ef-afc8-04e7c2cbbfd2\",\"roots\":{\"cb6fb2fc-6e62-4068-aa1b-ce33a8647e35\":\"dfaca64f-e808-4da7-85c2-987d596a8fd8\"},\"root_ids\":[\"cb6fb2fc-6e62-4068-aa1b-ce33a8647e35\"]}];\n",
       "  var docs = Object.values(docs_json)\n",
       "  if (!docs) {\n",
       "    return\n",
       "  }\n",
       "  const py_version = docs[0].version.replace('rc', '-rc.').replace('.dev', '-dev.')\n",
       "  function embed_document(root) {\n",
       "    var Bokeh = get_bokeh(root)\n",
       "    Bokeh.embed.embed_items_notebook(docs_json, render_items);\n",
       "    for (const render_item of render_items) {\n",
       "      for (const root_id of render_item.root_ids) {\n",
       "\tconst id_el = document.getElementById(root_id)\n",
       "\tif (id_el.children.length && (id_el.children[0].className === 'bk-root')) {\n",
       "\t  const root_el = id_el.children[0]\n",
       "\t  root_el.id = root_el.id + '-rendered'\n",
       "\t}\n",
       "      }\n",
       "    }\n",
       "  }\n",
       "  function get_bokeh(root) {\n",
       "    if (root.Bokeh === undefined) {\n",
       "      return null\n",
       "    } else if (root.Bokeh.version !== py_version) {\n",
       "      if (root.Bokeh.versions === undefined || !root.Bokeh.versions.has(py_version)) {\n",
       "\treturn null\n",
       "      }\n",
       "      return root.Bokeh.versions.get(py_version);\n",
       "    } else if (root.Bokeh.version === py_version) {\n",
       "      return root.Bokeh\n",
       "    }\n",
       "    return null\n",
       "  }\n",
       "  function is_loaded(root) {\n",
       "    var Bokeh = get_bokeh(root)\n",
       "    return (Bokeh != null && Bokeh.Panel !== undefined)\n",
       "  }\n",
       "  if (is_loaded(root)) {\n",
       "    embed_document(root);\n",
       "  } else {\n",
       "    var attempts = 0;\n",
       "    var timer = setInterval(function(root) {\n",
       "      if (is_loaded(root)) {\n",
       "        clearInterval(timer);\n",
       "        embed_document(root);\n",
       "      } else if (document.readyState == \"complete\") {\n",
       "        attempts++;\n",
       "        if (attempts > 200) {\n",
       "          clearInterval(timer);\n",
       "\t  var Bokeh = get_bokeh(root)\n",
       "\t  if (Bokeh == null || Bokeh.Panel == null) {\n",
       "            console.warn(\"Panel: ERROR: Unable to run Panel code because Bokeh or Panel library is missing\");\n",
       "\t  } else {\n",
       "\t    console.warn(\"Panel: WARNING: Attempting to render but not all required libraries could be resolved.\")\n",
       "\t    embed_document(root)\n",
       "\t  }\n",
       "        }\n",
       "      }\n",
       "    }, 25, root)\n",
       "  }\n",
       "})(window);</script>"
      ],
      "text/plain": [
       "GridBox(design=<class 'panel.theme.materi..., ncols=2)\n",
       "    [0] ButtonIcon(description='Favorite', design=<class 'panel.theme.materi..., size='8em')\n",
       "    [1] ButtonIcon(active_icon='check', description='Copy', design=<class 'panel.theme.materi..., icon='clipboard', size='8em')"
      ]
     },
     "execution_count": 9,
     "metadata": {
      "application/vnd.holoviews_exec.v0+json": {
       "id": "cb6fb2fc-6e62-4068-aa1b-ce33a8647e35"
      }
     },
     "output_type": "execute_result"
    }
   ],
   "source": [
    "pn.GridBox(\n",
    "    pn.widgets.ButtonIcon(icon=\"heart\", size=\"8em\", description=\"Favorite\"),\n",
    "    pn.widgets.ButtonIcon(icon=\"clipboard\", active_icon=\"check\", size=\"8em\", description=\"Copy\"),\n",
    "    ncols=2\n",
    ")"
   ]
  },
  {
   "cell_type": "markdown",
   "metadata": {},
   "source": [
    "## Roadmap\n",
    "\n",
    "The Panel 1.4.0 release was quite feature packed but we already have a number of major new features in the pipline.\n",
    "\n",
    "### ESM Components\n",
    "\n",
    "In Panel 1.5.0 we plan to finally provide a more robust replacement for `ReactiveHTML` based on ESM modules with a modern development experience including hotreloading, ability to import JS modules and React based components.\n",
    "\n",
    "### Session Handling & Scaling\n",
    "\n",
    "Recently we found various opportunities for optimizing and parallelizing session creation and session handling including moving the session creation to threads and opening up the ability to re-connect to a session if the websocket is closed."
   ]
  },
  {
   "cell_type": "markdown",
   "metadata": {},
   "source": [
    "## Changelog\n",
    "\n",
    "### Features\n",
    "\n",
    "- Add `EditableTemplate` to support dashboard builder UI in Jupyter ([#5802](https://github.com/holoviz/panel/pull/5802))\n",
    "- Add `ChatAreaInput` as default text input widget for `ChatInterface` ([#6379](https://github.com/holoviz/panel/pull/6379))\n",
    "- Add `NestedSelect` widget ([#5791](https://github.com/holoviz/panel/pull/5791), [#6011](https://github.com/holoviz/panel/pull/6011))\n",
    "- Add Panel tutorials ([#5525](https://github.com/holoviz/panel/pull/5525), [#6208](https://github.com/holoviz/panel/pull/6208), [#6212](https://github.com/holoviz/panel/pull/6212), [#6388](https://github.com/holoviz/panel/pull/6388), [#6425](https://github.com/holoviz/panel/pull/6425), [#6466](https://github.com/holoviz/panel/pull/6466), [#6491](https://github.com/holoviz/panel/pull/6491))\n",
    "- Add `DateRangePicker` widget ([#6027](https://github.com/holoviz/panel/pull/6027))\n",
    "- Add `Feed` layout and use it as layout for `ChatFeed` ([#6031](https://github.com/holoviz/panel/pull/6031), [#6296](https://github.com/holoviz/panel/pull/6296))\n",
    "- Add `WebP` pane ([#6035](https://github.com/holoviz/panel/pull/6035))\n",
    "- Add `ButtonIcon` ([#6138](https://github.com/holoviz/panel/pull/6138))\n",
    "- Add `Textual` pane ([#6181](https://github.com/holoviz/panel/pull/6181))\n",
    "\n",
    "### Enhancements\n",
    "\n",
    "- Improve `--autoreload` by using watchfiles and selectively reloading packages ([#5894](https://github.com/holoviz/panel/pull/5894), [#6459](https://github.com/holoviz/panel/pull/6459))\n",
    " Load loading indicator from file instead of inlining ([#6112](https://github.com/holoviz/panel/pull/6112))\n",
    "- Allow providing additional stylesheets in `card_params` ([#6242](https://github.com/holoviz/panel/pull/6242))\n",
    "- Add `scroll` options to permanently toggle on layouts ([#6266](https://github.com/holoviz/panel/pull/6266))\n",
    "- Allow choosing position of frozen columns on `Tabulator` ([#6309](https://github.com/holoviz/panel/pull/6309))\n",
    "- Add help message on `ChatFeed` ([#6311](https://github.com/holoviz/panel/pull/6311))\n",
    "- Ensure CSS can be applied to every aspect of `ChatMessage` ([#6346](https://github.com/holoviz/panel/pull/6346))\n",
    "- Add HoloViz logos as `ChatMessage` avatars ([#6348](https://github.com/holoviz/panel/pull/6348))\n",
    "- Add `gap` parameter to `FlexBox` ([#6354](https://github.com/holoviz/panel/pull/6354))\n",
    "- Set default `step` of `DatetimeRangeSlider` to 1 minute ([#6373](https://github.com/holoviz/panel/pull/6373))\n",
    "- Add support for passing objects reference to `FlexBox` ([#6387](https://github.com/holoviz/panel/pull/6387))\n",
    "- Allow editable sliders to be embedded ([#6391](https://github.com/holoviz/panel/pull/6391))\n",
    "- Add `message` into `css_classes` to `ChatMessage` markup ([#6407](https://github.com/holoviz/panel/pull/6407))\n",
    "- Allow appending objects to the `ChatMessage` header & footer ([#6410](https://github.com/holoviz/panel/pull/6410))\n",
    "- Add ability to declare icon label ([#6411](https://github.com/holoviz/panel/pull/6411))\n",
    "- Add title and settings and fix datetime to `Perspective` ([#6482](https://github.com/holoviz/panel/pull/6482))\n",
    "- Warn user if loading extension in VSCode or Colab without `jupyter_bokeh` ([#6485](https://github.com/holoviz/panel/pull/6485))\n",
    "- Throttle updates to Boolean indicators ([#6481](https://github.com/holoviz/panel/pull/6481))\n",
    "- Add `ParamRef` baseclass for `ParamFunction` and `ParamMethod` ([#6392](https://github.com/holoviz/panel/pull/6392))\n",
    "- Add ability to Skip `Param<Ref|Function|Method>` updates ([#6396](https://github.com/holoviz/panel/pull/6396))\n",
    "- Add `Param<Ref|Method|Function>` and `ReactiveExpr` to panes module ([#6432](https://github.com/holoviz/panel/pull/6432))\n",
    "- Set up `param.rx` display accessor on import ([#6470](https://github.com/holoviz/panel/pull/6470))\n",
    "- Allow using Carto tiles in `DeckGL` ([#6531](https://github.com/holoviz/panel/pull/6531))\n",
    "- Improve `VTKJS` binary serialization ([#6559](https://github.com/holoviz/panel/pull/6559))\n",
    "- Ensure component CSS is pre-loaded if possible, avoiding flicker on load ([#6563](https://github.com/holoviz/panel/pull/6563))\n",
    "\n",
    "### Styling\n",
    "\n",
    "- Ensure navbar toggle icon is correct color in `BootstrapTemplate` ([#6111](https://github.com/holoviz/panel/pull/6111))\n",
    "- Change `loading` background filters to work better in dark themes ([#6112](https://github.com/holoviz/panel/pull/6112))\n",
    "- Improve styling of `FileInput` widget ([#6479](https://github.com/holoviz/panel/pull/6479))\n",
    "- Improve Jupyter Preview error handling and error template ([#6496](https://github.com/holoviz/panel/pull/6496))\n",
    "- Add scale animation to icons on hover and click ([#6376](https://github.com/holoviz/panel/pull/6376))\n",
    "- Redesign index pages ([#6497](https://github.com/holoviz/panel/pull/6497))\n",
    "- Improve `Tabulator` editor text color in `Fast` design ([#6512](https://github.com/holoviz/panel/pull/6512))\n",
    "- Ensure `BootstrapTemplate` hamburger icon is white ([#6562](https://github.com/holoviz/panel/pull/6562))\n",
    "\n",
    "### Compatibility & Version Updates\n",
    "\n",
    "- Bump `Perspective` version to 2.9.0 ([#5722](https://github.com/holoviz/panel/pull/5722))\n",
    "- Upgrade to Bokeh 3.4.x ([#6072](https://github.com/holoviz/panel/pull/6072))\n",
    "- Upgrade `Vizzu` to 0.9.3 ([#6476](https://github.com/holoviz/panel/pull/6476))\n",
    "- Bump `JSONEditor` version to 10.0.1 ([#6477](https://github.com/holoviz/panel/pull/6477))\n",
    "- Upgrade to PyScript Next and Pyodide 0.25.0 in `panel convert` ([#6490](https://github.com/holoviz/panel/pull/6490))\n",
    "- Bump vtk.js version to 30.1.0 ([#6559](https://github.com/holoviz/panel/pull/6559))\n",
    "\n",
    "### Bug fixes\n",
    "\n",
    "- Add resize handler for `FloatPanel` ([#6201](https://github.com/holoviz/panel/pull/6201))\n",
    "- Fix serving of global template in notebook ([#6210](https://github.com/holoviz/panel/pull/6210))\n",
    "- Ensure `Tabulator` renders in collapsed `Card` ([#6223](https://github.com/holoviz/panel/pull/6223))\n",
    "- Fix issues with `VTK`, `VTKVolume` and `VTKJS` due to webgpu renderer ([#6244](https://github.com/holoviz/panel/issues/6244))\n",
    "- Ensure `HTML` and other markup panes can be emptied ([#6303](https://github.com/holoviz/panel/pull/6303))\n",
    "- Ensure collapsed `Card` does not cause stretching ([#6305](https://github.com/holoviz/panel/pull/6305))\n",
    "- Ensure notebook preview always uses server resources ([#6317](https://github.com/holoviz/panel/pull/6317))\n",
    "- Remove animation from loading spinner without spin ([#6324](https://github.com/holoviz/panel/pull/6324))\n",
    "- Ensure model is only added/removed from Document once ([#6342](https://github.com/holoviz/panel/pull/6342))\n",
    "- Ensure `loading_indicator` resets when configured with context manager ([#6343](https://github.com/holoviz/panel/pull/6343))\n",
    "- Fix modal overflow and resizing issues ([#6355](https://github.com/holoviz/panel/pull/6355))\n",
    "- Ensure that ripple matches notification size ([#6360](https://github.com/holoviz/panel/pull/6360))\n",
    "- Fully re-render `CodeEditor` on render calls ensuring it displays correctly ([#6361](https://github.com/holoviz/panel/pull/6361))\n",
    "- Ensure `FileDownload` button has correct height ([#6362](https://github.com/holoviz/panel/pull/6362))\n",
    "- Ensure `HTML` model is redrawn if `stylesheets` is emptied ([#6365](https://github.com/holoviz/panel/pull/6365))\n",
    "- Allow providing custom template ([#6383](https://github.com/holoviz/panel/pull/6383))\n",
    "- Ensure `Debugger` renders without error ([#6423](https://github.com/holoviz/panel/pull/6423))\n",
    "- Ensure pending writes are dispatched in order and only from correct thread ([#6443](https://github.com/holoviz/panel/pull/6443))\n",
    "- Ensure layout reuses model if available ([#6446](https://github.com/holoviz/panel/pull/6446))\n",
    "- Improved exception handler in unlocked message dispatch ([#6447](https://github.com/holoviz/panel/pull/6447))\n",
    "- Fix display of interactive `Matplotlib` ([#6450](https://github.com/holoviz/panel/pull/6450))\n",
    "- Ensure `Plotly` pane renders and hides correctly in `Card` ([#6468](https://github.com/holoviz/panel/pull/6468))\n",
    "- Fix issues rendering widget components with `Fast` design ([#6474](https://github.com/holoviz/panel/pull/6474))\n",
    "- Fix binary serialization from JS -> Pyodide ([#6490](https://github.com/holoviz/panel/pull/6490))\n",
    "- Avoid overeager garbage collection ([#6518](https://github.com/holoviz/panel/pull/6518))\n",
    "- Fix floating point error in `IntRangeSlider` ([#6516](https://github.com/holoviz/panel/pull/6516))\n",
    "- Load JS modules from relative path ([#6526](https://github.com/holoviz/panel/pull/6526))\n",
    "- Ensure no events are dispatched before the websocket is open ([#6528](https://github.com/holoviz/panel/pull/6528))\n",
    "- Ensure `Markdown` parsing does not choke on partial links ([#6535](https://github.com/holoviz/panel/pull/6535))\n",
    "- Fixes to ensure larger `PDF`s can be rendered ([#6538](https://github.com/holoviz/panel/pull/6538))\n",
    "- Ensure `IPywidget` comms are only opened once ([#6542](https://github.com/holoviz/panel/pull/6542))\n",
    "- Fixes for message handling in Jupyter Preview context ([#6547](https://github.com/holoviz/panel/pull/6547))\n",
    "- Fix unnecessary loading of `ReactiveHTML` resources ([#6552](https://github.com/holoviz/panel/pull/6552))\n",
    "- Ensure `Template.raw_css` has higher precedence than default template CSS ([#6554](https://github.com/holoviz/panel/pull/6554))\n",
    "- Avoid asyncio event loop startup issues in some contexts ([#6555](https://github.com/holoviz/panel/pull/6555))\n",
    "- Ensure column subset is retained on `Tabulator.style` ([#6560](https://github.com/holoviz/panel/pull/6560))\n",
    "- Ensure bokeh mathjax bundle when mathjax extension is loaded in notebook ([#6564](https://github.com/holoviz/panel/pull/6564))\n",
    "\n",
    "### Chat Components\n",
    "\n",
    "- Ensure `ChatInterface` respect supplied default user ([#6290](https://github.com/holoviz/panel/pull/6290))\n",
    "- Ensure `ChatMessage` internals correctly respect `Design` ([#6304](https://github.com/holoviz/panel/pull/6304))\n",
    "- Fix `ChatInterface` `stop` button for synchronous functions ([#6312](https://github.com/holoviz/panel/pull/6312))\n",
    "- Include `stylesheets` downstream, including layouts in ChatMessage ([#6405](https://github.com/holoviz/panel/pull/6405))\n",
    "- Ensure `ChatMessage` `header` updates dynamically  ([#6441](https://github.com/holoviz/panel/pull/6441))\n",
    "- Ensure streaming `ChatMessage` on `ChatInterface` and mention `serialize` ([#6452](https://github.com/holoviz/panel/pull/6452))\n",
    "- Ensure ChatInterface supports chat input without `value_input` parameter  ([#6505](https://github.com/holoviz/panel/pull/6505))\n",
    "- Ensure word breaks to avoid overflow in `ChatMessage` ([#6187](https://github.com/holoviz/panel/pull/6187), [#6509](https://github.com/holoviz/panel/pull/6509))\n",
    "- Ensure nested disabled state stays disabled on `ChatFeed` ([#6507](https://github.com/holoviz/panel/pull/6507))\n",
    "- Allow streaming `None` as the initial `ChatMessage` value ([#6522](https://github.com/holoviz/panel/pull/6522))\n",
    "\n",
    "### Documentation\n",
    "\n",
    "- Add Roadmap to documentation ([#5443](https://github.com/holoviz/panel/pull/5443))\n",
    "- Refactor `ReactiveHTML` docs ([#5448](https://github.com/holoviz/panel/pull/5448), [#6358](https://github.com/holoviz/panel/pull/6358))\n",
    "- Improve `HoloViews` reference guide ([#6065](https://github.com/holoviz/panel/pull/6065))\n",
    "- Improve the user experience for resetting Jupyterlite ([#6198](https://github.com/holoviz/panel/pull/6198))\n",
    "- Add explanation docs about APIs ([#6289](https://github.com/holoviz/panel/pull/6289), [#6469](https://github.com/holoviz/panel/pull/6469))\n",
    "- Add section headers to Chat reference documentation ([#6370](https://github.com/holoviz/panel/pull/6370))\n",
    "- Migrate gallery to new Anaconda DSP instance ([#6413](https://github.com/holoviz/panel/pull/6413))\n",
    "- Improve home page ([#6422](https://github.com/holoviz/panel/pull/6422))\n",
    "- Adding AWS deployment to documentation ([#6434](https://github.com/holoviz/panel/pull/6434))\n",
    "- Update Streamlit comparison ([#6467](https://github.com/holoviz/panel/pull/6467))\n",
    "- Add logging how-to guide ([#6511](https://github.com/holoviz/panel/pull/6511))\n",
    "- Document pygments dependency for code syntax highlighting ([#6519](https://github.com/holoviz/panel/pull/6519))\n",
    "- Add how-to guide on configuring PyCharm ([#6525](https://github.com/holoviz/panel/pull/6525))\n",
    "\n",
    "### Deprecations & Removals\n",
    "\n",
    "- Remove `Ace` alias for `CodeEditor`\n",
    "- Remove `ChatBox` which has been replaced by `panel.chat` components\n",
    "- Remove `HTML.style` which is now replaced with `HTML.styles`\n",
    "- Remove `Trend.title` which is now replaced by `Trend.name`\n",
    "- Remove `Viewable.app` which is now replaced with `pn.io.notebook.show_server`\n",
    "- Remove `Viewable.background` which is now replaced with `Viewable(styles={'background': ...})`\n",
    "- Remove `Viewable.pprint` which is now replaced with `print(Viewable(...))`\n"
   ]
  }
 ],
 "metadata": {
  "kernelspec": {
   "display_name": "Python 3 (ipykernel)",
   "language": "python",
   "name": "python3"
  },
  "language_info": {
   "codemirror_mode": {
    "name": "ipython",
    "version": 3
   },
   "file_extension": ".py",
   "mimetype": "text/x-python",
   "name": "python",
   "nbconvert_exporter": "python",
   "pygments_lexer": "ipython3",
   "version": "3.9.18"
  }
 },
 "nbformat": 4,
 "nbformat_minor": 4
}
