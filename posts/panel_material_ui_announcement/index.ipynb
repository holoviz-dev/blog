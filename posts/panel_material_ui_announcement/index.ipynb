{
 "cells": [
  {
   "cell_type": "markdown",
   "id": "10c11462-c5af-4c84-af69-8bb9b8e86924",
   "metadata": {},
   "source": [
    "---\n",
    "title: \"Panel Material UI Announcement\"\n",
    "date: \"2025-05-13\"\n",
    "description: \"Announcing the release of panel-material-ui, a new extension that wraps Material UI components in Panel.\"\n",
    "author: \"Philipp Rudiger\"\n",
    "categories: [announcement, panel]\n",
    "image: \"images/panel-material-ui-components.png\"\n",
    "---"
   ]
  },
  {
   "cell_type": "code",
   "execution_count": null,
   "id": "975a7ce3-27ee-48a1-846f-f7e0ca8f1ccd",
   "metadata": {},
   "outputs": [],
   "source": [
    "#| echo: false\n",
    "import hvplot.pandas\n",
    "import panel as pn\n",
    "import pandas as pd\n",
    "import panel_material_ui as pmui\n",
    "\n",
    "df = pd.read_csv('https://datasets.holoviz.org/penguins/v1/penguins.csv')\n",
    "\n",
    "pn.extension('tabulator', inline=False)"
   ]
  },
  {
   "cell_type": "markdown",
   "id": "36fbb256",
   "metadata": {},
   "source": [
    "Today we’re very excited to introduce **[`panel-material-ui`](https://panel-material-ui.holoviz.org)**, a Panel extension that provides **a set of modern components and a cohesive design system** built upon [Material UI](https://mui.com/). It is fully compatible with your existing Panel code.\n",
    "\n",
    "We will start using it in production now, which means you can expect this extension to mature rapidly. Our goal is to replace the existing Panel components with `panel-material-ui` components in a Panel 2.0 release."
   ]
  },
  {
   "cell_type": "code",
   "execution_count": null,
   "id": "a3c1be56",
   "metadata": {},
   "outputs": [],
   "source": [
    "#| echo: false\n",
    "from IPython.display import IFrame\n",
    "\n",
    "IFrame('https://panel-material-ui.holoviz.org/_static/demo.html', width=\"100%\", height=\"800px\")"
   ]
  },
  {
   "cell_type": "markdown",
   "id": "c97d1504-89d6-4c74-9ce7-7f755d6d94f4",
   "metadata": {},
   "source": [
    "Try it out today with:\n",
    "\n",
    "```bash\n",
    "pip install panel-material-ui\n",
    "```\n",
    "\n",
    "or:\n",
    "\n",
    "```bash\n",
    "conda install conda-forge::panel-material-ui\n",
    "```"
   ]
  },
  {
   "cell_type": "markdown",
   "id": "e31cace8-1d83-496a-b375-64bfbce5f364",
   "metadata": {},
   "source": [
    "## Why?\n",
    "\n",
    "We have been building [Panel](https://panel.holoviz.org) for almost 7 years now. Today, it powers dashboards, AI workflows, and data applications across research and industry, with over **1.2 million downloads per month**. At the same time one piece of feedback we've gotten over and over was that it was **too hard to style Panel components**.\n",
    "\n",
    "So we set out to build a **comprehensive, consistent, and API compatible set of components**, replacing the existing Panel implementations. We wanted to make sure we maintained compatibility with existing Panel components while exposing as many MUI components as possible.\n",
    "\n",
    "Why [MUI]((https://mui.com/)) in particular, you might ask? We wanted to build on a library that has:\n",
    "\n",
    "* **Maturity**: MUI is one of the most widely used React component libraries, with strong community support and robust documentation.\n",
    "* **Consistent Design**: It implements Google’s Material Design system, providing a polished and consistent user experience out of the box.\n",
    "* **Customizable and themeable**: MUI has a well-designed theming system that maps cleanly to how we wanted to style Panel apps.\n",
    "* **Strong accessibility support**: MUI handles many of the hard parts of accessibility for us, giving us a more solid foundation.\n",
    "* **Component breadth**: It includes a wide range of components — from simple buttons to complex layout and navigation elements — that we can gradually wrap and expose in Panel.\n",
    "\n",
    "But for our (and your) sanity we also wanted a library that would make it **easy to create new components**. The tight React implementation just made it a joy to build, particularly with AI assistance. This also means creating custom components building on `panel-material-ui` is a breeze."
   ]
  },
  {
   "cell_type": "markdown",
   "id": "721fcbb6-587e-4db1-94c4-24923cbcebc7",
   "metadata": {},
   "source": [
    "## How?\n",
    "\n",
    "With the addition of [ESM components](https://panel.holoviz.org/how_to/custom_components/index.html#esm-components), it has finally become straightforward to build custom Panel components. Building on the [React integration](https://panel.holoviz.org/reference/custom_components/ReactComponent.html), I quickly discovered that mapping parameters in Python to React state was a simple problem where LLMs could provide significant assistance. Using a simple prompt, I was able to bootstrap a comprehensive set of components and their respective React implementations. That said, I've always been skeptical of fully auto-generated component wrappers. While promising in theory, the UX of a purely automated wrapper library inevitably suffers, and the initial AI-generated component set was no exception.\n",
    "\n",
    "Once the basic structure was in place, we methodically reviewed, cleaned up, and documented each component in detail. At this point, I'd like to extend special thanks to [Thuy Do](https://github.com/thuydotm) and [Marc Skov Madsen](https://github.com/MarcSkovMadsen) for their invaluable contributions in writing tests, creating documentation, and providing feedback throughout the process."
   ]
  },
  {
   "cell_type": "markdown",
   "id": "2e4eb67e-35d6-4873-8771-fb93af2dadaf",
   "metadata": {},
   "source": [
    "## What can it do?\n",
    "\n",
    "Okay, so what can it actually do? Yes, we've added 70+ components, and they're all consistently styled, but what else is possible now that wasn't before?"
   ]
  },
  {
   "cell_type": "markdown",
   "id": "04e4782f-81f2-46a2-9aa5-25f96e6adf12",
   "metadata": {},
   "source": [
    "### Compatibility\n",
    "\n",
    "Above, we mentioned that `panel-material-ui` has full compatibility with Panel, but what does that actually mean? The goal from the very beginning was to provide a set of components that could be drop-in replacements for existing Panel components, this means that you should be able to change the imports and with a few minor exceptions the `panel-material-ui` component should behave just like the original Panel one. The idea being that the transition to panel-material-ui should be as easy as possible and that when we eventually replace the original Panel components as part of the Panel 2.0 release, there will not be a major transition either. Compatibility also means you can mix-and-match regular `panel` and `panel-material-ui` components as you see fit."
   ]
  },
  {
   "cell_type": "code",
   "execution_count": null,
   "id": "fd21a219",
   "metadata": {},
   "outputs": [],
   "source": [
    "pn.Row(\n",
    "    pn.widgets.IntSlider(name='Panel Slider', value=0, start=0, end=100, step=1),\n",
    "    pmui.widgets.IntSlider(name='PMUI Slider', value=0, start=0, end=100, step=1),\n",
    ")"
   ]
  },
  {
   "cell_type": "markdown",
   "id": "f7358c0c-f3d1-4957-8450-42298639b364",
   "metadata": {},
   "source": [
    "### Theming & Styling\n",
    "\n",
    "In the past Panel had introduced a so called `Design`. We build on that here but for the most part only use that system to ensure that the theme defined in `panel-material-ui` flows down to standard Panel components. Let's briefly define our technology:\n",
    "\n",
    "- **Design**: The overall set of CSS stylesheets, component defaults that align an application with a particular design system.\n",
    "- **Theme**: A theme in Panel defines the configuration of default color settings in both light (default) and dark mode.\n",
    "- **Styling**: Applying one-off modications to a specific components.\n",
    "\n",
    "In `panel-material-ui` the main entrypoint for theming that you need to care about is the [`theme_config` parameter](https://panel-material-ui.holoviz.org/customization/customize.html#theming), present on all Material components. It makes it easy to configure the default colors, typography and more, either globally or differentially for dark and light themes. Thanks to inheritance the `theme_config` can be applied on a parent component and will flow down to all its children:"
   ]
  },
  {
   "cell_type": "code",
   "execution_count": null,
   "id": "880d7bec-22ea-4a77-ad51-63938b3206e3",
   "metadata": {},
   "outputs": [],
   "source": [
    "from panel_material_ui import Card, Button, FloatSlider\n",
    "\n",
    "Card(\n",
    "    FloatSlider(label=\"Child Slider\", color=\"primary\"),\n",
    "    Button(label=\"Child Button\", color=\"primary\"),\n",
    "    title=\"Parent Card\",\n",
    "    theme_config={\n",
    "        \"palette\": {\n",
    "            \"primary\": {\"main\": \"#d219c9\"},\n",
    "        },\n",
    "        \"typography\": {\n",
    "            \"fontFamily\": \"monospace\"\n",
    "        }\n",
    "    },\n",
    "    margin=10\n",
    ")"
   ]
  },
  {
   "cell_type": "markdown",
   "id": "228c8e5d-6b98-44ce-b1ef-3d9b48185f91",
   "metadata": {},
   "source": [
    "This approach allows controlling the theme across an entire application or, thanks to inheritance, overriding the theme for some part of an application, e.g. to apply custom styles in the header or sidebar.\n",
    "\n",
    "For one-off customizations the [`sx` parameter](https://panel-material-ui.holoviz.org/customization/customize.html#the-sx-parameter) provides fine-grained control over every aspect of an component:"
   ]
  },
  {
   "cell_type": "code",
   "execution_count": null,
   "id": "4a9b8fe3-983c-40ce-87fa-88c7c4c97495",
   "metadata": {},
   "outputs": [],
   "source": [
    "FloatSlider(\n",
    "    label=\"My Styled Slider\",\n",
    "    margin=20,\n",
    "    sx={\n",
    "        \".MuiFormLabel-root\": {\"fontFamily\": \"monospace\"},\n",
    "        \".MuiSlider-thumb\": {\n",
    "            \"borderRadius\": 0  # square\n",
    "        },\n",
    "        \".MuiSlider-thumb:hover\": {\n",
    "            \"background-color\": \"deeppink\"\n",
    "        }\n",
    "    }\n",
    ")"
   ]
  },
  {
   "cell_type": "markdown",
   "id": "30787358-5620-4bff-bdfe-123f985dbd49",
   "metadata": {},
   "source": [
    "### Dark Mode\n",
    "\n",
    "In Panel theming happened on the backend, i.e. if you toggled between the default (light) and the dark theme the application would have to re-run in order to ensure the updated theming would be propagated. In `panel-material-ui` theming happens client-side. By using the `ThemeToggle` or [`Page`](https://panel-material-ui.holoviz.org/reference/page/Page.html) components in your app you enter managed theming mode where the theme is controlled globally and styles are updated dynamically."
   ]
  },
  {
   "cell_type": "code",
   "execution_count": null,
   "id": "0900c782-9182-4cfb-905e-e9e5fd0b914f",
   "metadata": {},
   "outputs": [],
   "source": [
    "toggle = pmui.ThemeToggle(styles={'margin-left': 'auto'})\n",
    "plot = df.hvplot.scatter(\n",
    "    'bill_length_mm', 'bill_depth_mm', c='species', responsive=True, min_height=300\n",
    ")\n",
    "table = pn.widgets.Tabulator(df.iloc[:, :5], page_size=5, sizing_mode='stretch_width')\n",
    "\n",
    "pmui.Paper(toggle, plot, table, styles={\"overflow\": \"hidden\"}).preview(height=700, max_width=1200, sizing_mode=\"stretch_width\")"
   ]
  },
  {
   "cell_type": "markdown",
   "id": "2bf92ffc-ccfa-401a-9b1f-3cff8e9c2734",
   "metadata": {},
   "source": [
    "### Menus\n",
    "\n",
    "We created a new class of `Menu` widgets, including `Breadcrumbs`, `List`, `MenuButton` and `SpeedDial` components, which make it easier to add clean navigation interfaces to Panel."
   ]
  },
  {
   "cell_type": "code",
   "execution_count": null,
   "id": "0debcd07-f2fd-455e-866a-2026e67bb31c",
   "metadata": {},
   "outputs": [],
   "source": [
    "#| echo: false\n",
    "breadcrumbs = pmui.Breadcrumbs(items=[\n",
    "    {'label': 'Documentation', 'icon': 'article'},\n",
    "    {'label': 'Reference Gallery', 'icon': 'category'},\n",
    "    {'label': 'Menus', 'icon': 'menu'},\n",
    "    {'label': 'Breadcrumbs', 'icon': 'grain'},\n",
    "], active=3)\n",
    "\n",
    "list_menu = pmui.List(\n",
    "    items=[\n",
    "        {\n",
    "            'label': 'Home',\n",
    "            'icon': 'home',\n",
    "            'secondary': 'Overview page',\n",
    "            'items': [\n",
    "                {'label': 'Welcome', 'icon': 'handshake'},\n",
    "                {'label': 'Getting Started', 'icon': 'rocket'}\n",
    "            ]\n",
    "        },\n",
    "        {\n",
    "            'label': 'Gallery',\n",
    "            'icon': 'image',\n",
    "            'secondary': 'Visual overview',\n",
    "            'selectable': False,\n",
    "            'items': [\n",
    "                {'label': 'Charts', 'icon': 'stacked_line_chart'},\n",
    "                {'label': 'Maps', 'icon': 'map'},\n",
    "                {'label': 'Animations', 'icon': 'animation'}\n",
    "            ]\n",
    "        },\n",
    "        {\n",
    "            'label': 'API',\n",
    "            'icon': 'code',\n",
    "            'secondary': 'API Reference',\n",
    "            'items': [\n",
    "                {'label': 'Endpoints', 'icon': 'terminal'},\n",
    "                {'label': 'Schemas', 'icon': 'schema'}\n",
    "            ]\n",
    "        },\n",
    "        {\n",
    "            'label': 'About',\n",
    "            'icon': 'info',\n",
    "            'items': [\n",
    "                {'label': 'Team', 'icon': 'groups'},\n",
    "                {'label': 'Contact', 'icon': 'mail'}\n",
    "            ]\n",
    "        },\n",
    "    ],\n",
    "    dense=True,\n",
    ")\n",
    "\n",
    "menu_button = pmui.MenuButton(items=[\n",
    "    {'label': 'Open', 'icon': 'description'},\n",
    "    {'label': 'Save', 'icon': 'save'},\n",
    "    {'label': 'Exit', 'icon': 'close'},\n",
    "], label='File', icon='storage')\n",
    "\n",
    "speed_dial = pmui.SpeedDial(items=[\n",
    "    {'label': 'Camera', 'icon': 'camera'},\n",
    "    {'label': 'Photos', 'icon': 'photo'},\n",
    "    {'label': 'Documents', 'icon': 'article'},\n",
    "], active=2, margin=(50, 20))\n",
    "\n",
    "\n",
    "pmui.Column(\n",
    "    pmui.Paper(\n",
    "        '## Breadcrumbs',\n",
    "        breadcrumbs,\n",
    "        margin=5,\n",
    "        sx={'p': '0 10px 10px 10px'}\n",
    "    ),\n",
    "    pmui.FlexBox(\n",
    "    \n",
    "        pmui.Paper(\n",
    "            '## List',\n",
    "            list_menu,\n",
    "            margin=5,\n",
    "            sx={'p': '0 10px 10px 10px'}\n",
    "        ),    \n",
    "        pmui.Paper(\n",
    "            '## MenuButton',\n",
    "            menu_button,\n",
    "            margin=5,\n",
    "            sx={'p': '0 10px 10px 10px'}\n",
    "        ),\n",
    "        pmui.Paper(\n",
    "            '## SpeedDial',\n",
    "            speed_dial,\n",
    "            margin=5,\n",
    "            sx={'p': '0 10px 10px 10px'}\n",
    "        )\n",
    "    )\n",
    ")"
   ]
  },
  {
   "cell_type": "markdown",
   "id": "55bbdf69-2eb0-4253-bb46-31f3423165c5",
   "metadata": {},
   "source": [
    "### Responsiveness\n",
    "\n",
    "While Panel could be configured to provide a good mobile experience, it was previously quite cumbersome. In `panel-material-ui` we are paying attention to the mobile experience: the [`Page`](https://panel-material-ui.holoviz.org/reference/page/Page.html) automatically adapts to smaller screen by switching the sidebar, the [`Grid`](https://panel-material-ui.holoviz.org/reference/layouts/Grid.html) component allows configuring the layout per breakpoint, and the [`BreakpointSwitcher`](https://panel-material-ui.holoviz.org/reference/page/BreakpointSwitcher.html) allows dynamically switching between different components depending on the breakpoints.\n",
    "\n",
    "Try resizing the output:"
   ]
  },
  {
   "cell_type": "code",
   "execution_count": null,
   "id": "67f99788-a9a3-48c9-8f31-61d5c14becc5",
   "metadata": {},
   "outputs": [],
   "source": [
    "from panel_material_ui import Grid\n",
    "\n",
    "item = lambda content: pmui.Paper(\n",
    "    content, elevation=5, height=100, sizing_mode=\"stretch_width\"\n",
    ")\n",
    "\n",
    "small = pmui.Select(options=pmui.COLORS)\n",
    "large = pmui.RadioButtonGroup(options=pmui.COLORS)\n",
    "\n",
    "switcher = pmui.BreakpointSwitcher(\n",
    "    media_query='(min-width: 800px)',\n",
    "    small=small,\n",
    "    large=large,\n",
    ")\n",
    "\n",
    "grid = Grid(\n",
    "    Grid(item('Foo'), size={\"sm\": 8, \"xs\": 12}),\n",
    "    Grid(item('Bar'), size={\"sm\": 4, \"xs\": 12}),\n",
    "    Grid(item('Baz'), size={\"sm\": 4, \"xs\": 12}),\n",
    "    Grid(item('Qux'), size={\"sm\": 8, \"xs\": 12}),\n",
    "    container=True, margin=10, spacing=2\n",
    ")\n",
    "\n",
    "pmui.Column(switcher, grid).preview(\n",
    "    styles={'resize': 'horizontal', 'overflow': 'hidden'},\n",
    "    sizing_mode='stretch_width', max_width=850, height=400\n",
    ")"
   ]
  },
  {
   "cell_type": "markdown",
   "id": "b4f306bc-cca6-49f7-a1d3-e9e571f4ed7e",
   "metadata": {},
   "source": [
    "Note how the switcher toggles between large and small implementations and the grid adjusts to the configured breakpoints."
   ]
  },
  {
   "cell_type": "markdown",
   "id": "b74f3a71-51f1-484f-9f0d-f75ff2390add",
   "metadata": {},
   "source": [
    "## What's next?\n",
    "\n",
    "With this being the first public release, our work of course isn't done. Creating, polishing documenting and testing 70+ components is a pretty monumental effort, even with AI assistance. There will be issues. But we are starting to use the library in production immediately and we expect to fix issues as soon as we uncover them. Thanks to the simplicity of the approach, resolving issues will be much simpler than the complex build chain required to develop the original components in Bokeh and Panel.\n",
    "\n",
    "As we incubate these components in the `panel-material-ui` library we are aiming to reach stability and maturity in the coming months and eventually aim to replace the existing components in Panel with this more modern implementation as part of the Panel 2.0 release by the end of the year.\n",
    "\n",
    "For now we would love for you to try it out, hear your feedback and see what you build with it."
   ]
  }
 ],
 "metadata": {
  "kernelspec": {
   "display_name": "Python 3 (ipykernel)",
   "language": "python",
   "name": "python3"
  },
  "language_info": {
   "codemirror_mode": {
    "name": "ipython",
    "version": 3
   },
   "file_extension": ".py",
   "mimetype": "text/x-python",
   "name": "python",
   "nbconvert_exporter": "python",
   "pygments_lexer": "ipython3",
   "version": "3.12.8"
  }
 },
 "nbformat": 4,
 "nbformat_minor": 5
}
