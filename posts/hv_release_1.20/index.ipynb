{
 "cells": [
  {
   "cell_type": "markdown",
   "id": "adbf2f86-a9be-45ee-8ec0-91352f51d16e",
   "metadata": {},
   "source": [
    "---\n",
    "title: HoloViews 1.20 - A year in review\n",
    "date: 2024-12-11\n",
    "description: Release announcement for HoloViews 1.20\n",
    "author:\n",
    "  - name: Simon Hansen\n",
    "    url: https://github.com/hoxbro\n",
    "categories: [holoviews, release]\n",
    "# image: \"images/collage.png\"\n",
    "---\n",
    "\n",
    "In the blog post, we will demonstrate the new features added in HoloViews over the past year, culminating with the latest 1.20 release. The 1.20 release polishes and improves the new features added in 1.18 and 1.19.\n",
    "\n",
    "Below are _some_ of the highlights of the year, but not the only ones! We are grateful to all of our contributors to HoloViews over the years. \n"
   ]
  },
  {
   "cell_type": "markdown",
   "id": "89c1401c-840e-46f4-a9a7-f9918d98ac49",
   "metadata": {},
   "source": [
    "# What is HoloViews?\n",
    "\n",
    "HoloViews is a Python library for building *declarative visualizations* of complex datasets. It simplifies the process of creating visualizations by allowing users to describe what they want to visualize, rather than how to render it. HoloViews integrates seamlessly with popular libraries such as Matplotlib, Bokeh, and Plotly for rendering.\n",
    "\n",
    "## Key Features:\n",
    "\n",
    "- **Declarative Syntax:** You describe the data and its relationships rather than writing detailed plotting instructions.\n",
    "- **Works with Data Structures:** HoloViews supports Pandas DataFrames, NumPy arrays, Xarray, and other data containers.\n",
    "- **Dynamic and Interactive Visualizations:** It supports interactive plotting using tools like Bokeh or Plotly.\n",
    "- **Composable:** Visualizations can be overlaid, combined, or linked together easily.\n",
    "- **Integration:** Plays well with Jupyter notebooks and other Python tools for data science.\n",
    "\n"
   ]
  },
  {
   "cell_type": "markdown",
   "id": "76e5c9b6-2703-4f7e-a243-178debac87b0",
   "metadata": {},
   "source": [
    "### [ImageStack](https://holoviews.org/reference/elements/bokeh/ImageStack.html)\n",
    "\n",
    "The new plot type `ImageStack` allows 3D datasets (x, y, stack-dimension) to be plotted easily. An advantage of this is it makes it possible to mix the colors of the different stacks on the front end.\n",
    "\n",
    "When this is used with the powerful [`rasterize`](https://holoviews.org/user_guide/Large_Data.html) operation with [Datashader's](https://datashader.org/) `by` operation. \n"
   ]
  },
  {
   "cell_type": "code",
   "execution_count": null,
   "id": "55df4555-d3ba-4489-89cd-a1420e1d35fc",
   "metadata": {},
   "outputs": [],
   "source": [
    "import datashader as ds\n",
    "import holoviews as hv\n",
    "import pandas as pd\n",
    "from holoviews.operation.datashader import dynspread, rasterize\n",
    "\n",
    "hv.extension(\"bokeh\")\n",
    "\n",
    "df = pd.read_parquet(\"census_2020_sample.parq\")\n",
    "image_stack = dynspread(rasterize(hv.Points(df), aggregator=ds.by(\"race\")))\n",
    "\n",
    "# Styling\n",
    "image_stack.opts(xaxis=False, yaxis=False, height=500, width=500, cmap=\"fire\", bgcolor=\"black\")\n",
    "\n",
    "image_stack"
   ]
  },
  {
   "cell_type": "markdown",
   "id": "31cf53a7-2f5e-44b0-a009-aee8a83035bd",
   "metadata": {},
   "source": [
    "### [Subcoordinate-y](https://holoviews.org/user_guide/Customizing_Plots.html#subcoordinate-y-axis)\n",
    "\n",
    "As part of the CZI grant, subcoordinate-y was developed; this is useful when working with [Electroencephalography](https://en.wikipedia.org/wiki/Electroencephalography) (EEG) a more advanced example can be found [here](https://holoviews.org/gallery/demos/bokeh/multichannel_timeseries_viewer.html). \n",
    "\n",
    "Note that by defining different groups for the curves, zoom will detect the closest group and only zoom in on that group."
   ]
  },
  {
   "cell_type": "code",
   "execution_count": null,
   "id": "b279426b-19f4-4d86-9554-a785df9cbbde",
   "metadata": {},
   "outputs": [],
   "source": [
    "import holoviews as hv\n",
    "import numpy as np\n",
    "\n",
    "hv.extension(\"bokeh\")\n",
    "\n",
    "rng = np.random.default_rng(seed=1)\n",
    "\n",
    "x = np.linspace(0, 10, 100)\n",
    "\n",
    "\n",
    "def create_curve(number, group):\n",
    "    curve = hv.Curve((x, rng.normal(size=100)), label=f\"Line {number}\", group=group)\n",
    "    # Set the subcoodinate_y options!\n",
    "    curve.opts(subcoordinate_y=True)\n",
    "    return curve\n",
    "\n",
    "\n",
    "blue_curves = [create_curve(number=i, group=\"blue\").opts(color=\"#47acde\") for i in range(3)]\n",
    "red_curves = [create_curve(number=i, group=\"red\").opts(color=\"#fc5d41\") for i in range(3, 6)]\n",
    "\n",
    "overlay = hv.Overlay(blue_curves + red_curves)\n",
    "\n",
    "# Set styles\n",
    "overlay.opts(show_legend=False, height=500, width=500)"
   ]
  },
  {
   "cell_type": "markdown",
   "id": "faa0086c-feb6-4ba3-bf74-841ef5dd4188",
   "metadata": {},
   "source": [
    "### [Pop-up](https://holoviews.org/user_guide/Custom_Interactivity.html#pop-up-panes)\n",
    "\n",
    "The pop-up is a feature that will make it easier to interact with your data. \n",
    "\n",
    "The example below shows a simple example generating descriptive statistics, but you can also embed a HoloViews plot inside the pop-up."
   ]
  },
  {
   "cell_type": "code",
   "execution_count": null,
   "id": "dc521a8e-b747-42d1-a01f-9e109c623891",
   "metadata": {},
   "outputs": [],
   "source": [
    "import holoviews as hv\n",
    "import numpy as np\n",
    "\n",
    "hv.extension(\"bokeh\")\n",
    "\n",
    "rng = np.random.default_rng(seed=1)\n",
    "points = hv.Points(rng.normal(size=(1000, 2)))\n",
    "\n",
    "\n",
    "def describe(index):\n",
    "    if index:\n",
    "        return points.iloc[index].dframe().describe()\n",
    "    else:\n",
    "        return None\n",
    "\n",
    "\n",
    "hv.streams.Selection1D(source=points, popup=describe)\n",
    "\n",
    "# Set tools and styling respectively\n",
    "points.opts(tools=[\"box_select\", \"lasso_select\"], active_tools=[\"box_select\"])\n",
    "points.opts(height=500, width=500, size=6, color=\"black\", fill_color=None)"
   ]
  },
  {
   "cell_type": "markdown",
   "id": "52e73df0-9f48-4ccc-9d6e-9f5d957198b6",
   "metadata": {},
   "source": [
    "### [Scalebar](https://holoviews.org/reference/features/bokeh/Scalebar.html)\n",
    "\n",
    "The scalebar feature adds a scale bar on the element to help gauge the size of features on a plot. \n",
    "\n",
    "This can be used with the `subcoordinate_y` functionality. See a more advanced example here. [TODO]\n"
   ]
  },
  {
   "cell_type": "code",
   "execution_count": null,
   "id": "25d638a5-f357-41b6-a50b-27bdded49de4",
   "metadata": {},
   "outputs": [],
   "source": [
    "import holoviews as hv\n",
    "\n",
    "hv.extension(\"bokeh\")\n",
    "\n",
    "nebula = hv.RGB.load_image(\"images/nebula.jpg\", kdims=[\"x_large\", \"y_large\"])\n",
    "pollen = hv.RGB.load_image(\"images/pollen.jpg\", kdims=[\"x_tiny\", \"y_tiny\"])\n",
    "\n",
    "nebula.opts(xaxis=False, yaxis=False, scalebar=True, scalebar_unit=(\"Em\", \"m\"))  # Em = Exameter\n",
    "pollen.opts(xaxis=False, yaxis=False, scalebar=True, scalebar_unit=(\"µm\", \"m\"))  # µm = micrometer\n",
    "\n",
    "nebula + pollen"
   ]
  },
  {
   "cell_type": "markdown",
   "id": "df233f50-702b-4e5c-94fa-69da93559a79",
   "metadata": {},
   "source": [
    "### Improvement to wide data and shared data\n",
    "A major focus of this year has been to improve the time it takes to plot large datasets, \n",
    "both by updating the data pipeline and reducing the amount of data sent to the browser.\n",
    "\n",
    "This does not have any visual example, but it will positively affect all users."
   ]
  },
  {
   "cell_type": "markdown",
   "id": "a1bc2cd5-dce6-4be1-a9a0-396373c2577c",
   "metadata": {},
   "source": [
    "### Multi-axis tap stream\n",
    "\n",
    "HoloViews 1.17 added support for [twin axes](https://holoviews.org/user_guide/Customizing_Plots.html#twin-axes); with HoloViews 1.20, this can now be used with the powerful streams API to report back the information of both twin axes.\n",
    "\n",
    "Below is an example combining the stream with a [Panel](https://panel.holoviz.org/) pane to report back the coordinates."
   ]
  },
  {
   "cell_type": "code",
   "execution_count": null,
   "id": "1894c40e-5440-40f4-8fe9-6327ac97a9a5",
   "metadata": {},
   "outputs": [],
   "source": [
    "import holoviews as hv\n",
    "import numpy as np\n",
    "import panel as pn\n",
    "\n",
    "hv.extension(\"bokeh\")\n",
    "\n",
    "rng = np.random.default_rng(seed=1)\n",
    "x = np.linspace(0, 10, 100)\n",
    "r = rng.normal(0, 0.1, 100)\n",
    "y1, y2 = np.sin(x) + r, np.cos(x) + r + 100\n",
    "\n",
    "curve1 = hv.Curve((x, y1), kdims=\"x\", vdims=\"y1\")\n",
    "curve2 = hv.Curve((x, y2), kdims=\"x\", vdims=\"y2\")\n",
    "overlay = (curve1 * curve2).opts(multi_y=True, width=600)\n",
    "stream = hv.streams.MultiAxisTap(source=overlay)\n",
    "\n",
    "\n",
    "def click_info(ys):\n",
    "    if ys is None:\n",
    "        return \"You haven't clicked on anything!\"\n",
    "    else:\n",
    "        return f\"Coordinate for y1 is {ys['y1']:0.2f} and y2 is {ys['y2']:0.2f}.\"\n",
    "\n",
    "\n",
    "pn.Column(pn.bind(click_info, stream.param.ys), overlay)"
   ]
  }
 ],
 "metadata": {
  "kernelspec": {
   "display_name": "Python 3 (ipykernel)",
   "language": "python",
   "name": "python3"
  },
  "language_info": {
   "codemirror_mode": {
    "name": "ipython",
    "version": 3
   },
   "file_extension": ".py",
   "mimetype": "text/x-python",
   "name": "python",
   "nbconvert_exporter": "python",
   "pygments_lexer": "ipython3",
   "version": "3.12.8"
  }
 },
 "nbformat": 4,
 "nbformat_minor": 5
}
