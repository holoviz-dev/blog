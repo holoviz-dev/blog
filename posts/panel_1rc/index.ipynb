{
 "cells": [
  {
   "cell_type": "markdown",
   "id": "026483c9-38dd-4809-8357-febe66a02eaf",
   "metadata": {},
   "source": [
    "---\n",
    "title: \"Panel 1.0 RC\"\n",
    "date: \"2023-04-28\"\n",
    "description: \"Announcing the availability of a Panel 1.0 release candidate\"\n",
    "author: \"Philipp Rudiger\"\n",
    "categories: [announcement, panel]\n",
    "image: \"images/panel1rc_collage.png\"\n",
    "aliases:\n",
    "  - ../../panel_1rc.html\n",
    "---"
   ]
  },
  {
   "cell_type": "markdown",
   "id": "49b55107-f77a-4ef9-bcdc-ea874027f32e",
   "metadata": {},
   "source": [
    "<img src=\"./images/panel1rc_collage.png\" width=\"100%\"></img>\n",
    "\n",
    "We are thrilled to announce the availability of the Panel 1.0 release candidate for general testing! We want to extend our thanks for your patience as we've been working tirelessly to adapt to major changes in Bokeh 3.x, improving the API and polishing our user experience. This significant undertaking has paved the way for a new, performant layout engine and greater customizability by exposing CSS stylesheets APIs directly in Python. We believe this release represents a major step forward in customizability, performance, and usability. \n",
    "\n",
    "We kindly ask for your help in testing the Panel 1.0 release candidate. The bottom up rewrite of the layout engine and component rendering may cause some disruption in the short term so we wanted to get these changes in your hands to gather feedback before the full release. To get the RC release today use:\n",
    "\n",
    "```bash\n",
    "pip install panel==1.0.0rc1\n",
    "# OR\n",
    "conda install -c pyviz/label/dev panel=1.0.0rc1\n",
    "```\n",
    "\n",
    "If you encounter problems please report them [on our issue tracker](https://github.com/holoviz/panel/issues) or join the discussion [on our Discourse](https://discourse.holoviz.org/c/panel/5) and [Discord servers](https://discord.gg/muhupDZM).\n",
    "\n",
    "To help you with the transition, we have prepared a [comprehensive migration guide](https://pyviz-dev.github.io/panel/upgrade.html), which will provide you with a detailed walkthrough of the key updates, the rationale behind them, and the critical considerations to keep in mind when adapting your applications to this new version. Additionally please refer to [the development documentation](https://pyviz-dev.github.io/panel/index.html), which includes [detailed how-to guides](https://pyviz-dev.github.io/panel/how_to/index.html) walking you through your learning journey.  \n",
    "\n",
    "To get you excited about the new release a host of new features in the Panel 1.0 release candidate:\n",
    "\n",
    "- [Overhauled documentation](https://pyviz-dev.github.io/panel/index.html) based on the Diataxis framework, featuring a [how-to guide](https://pyviz-dev.github.io/panel/how_to/index.html) for easier navigation\n",
    "- Runnable documentation directly in the docs, via JupyterLite, and an improved app gallery\n",
    "- Per-component theming and styling using Bootstrap and Material Design systems\n",
    "- The ability to bind parameters and reactive functions directly to component parameters\n",
    "- The ability to reuse sessions for fast time to initial render performance.\n",
    "- Enhanced [`Markdown`](https://pyviz-dev.github.io/panel/reference/panes/Markdown.html) rendering with `markdown-it-py`\n",
    "- A [`Vizzu` pane](https://pyviz-dev.github.io/panel/reference/panes/Vizzu.html) for plots, featuring beautiful animated transitions\n",
    "- A [`FloatPanel` layout](https://pyviz-dev.github.io/panel/reference/layouts/FloatPanel.html) offering a free-floating, draggable dock panel\n",
    "- A [`Swipe` layout](https://pyviz-dev.github.io/panel/reference/layouts/Swipe.html) for before-and-after comparisons of any component(s)\n",
    "- A [`Switch` toggle widget](https://pyviz-dev.github.io/panel/reference/widgets/Switch.html) for added interactivity\n",
    "- [`BasicAuth`](https://pyviz-dev.github.io/panel/how_to/authentication/basic.html) for straightforward password-based authentication\n",
    "- Much, much more.\n",
    "\n",
    "There are also still a few items left items we hope to wrap up before the final release:\n",
    "\n",
    "- We are still working on fully supporting `ipywidgets` rendering\n",
    "- Adding a number of missing how-to guides to improve your learning journey\n",
    "- Final theming/styling tweaks to ensure your applications look modern and polished\n",
    "- General bug fixes as reported by you\n",
    "\n",
    "Your invaluable feedback will contribute to the most robust and powerful release of Panel yet. Thank you once again for your continued support, and we look forward to seeing the incredible applications you create with Panel 1.0!\n",
    "\n",
    "Warm regards,\n",
    "\n",
    "The Panel Team\n"
   ]
  }
 ],
 "metadata": {
  "kernelspec": {
   "display_name": "Python 3 (ipykernel)",
   "language": "python",
   "name": "python3"
  },
  "language_info": {
   "codemirror_mode": {
    "name": "ipython",
    "version": 3
   },
   "file_extension": ".py",
   "mimetype": "text/x-python",
   "name": "python",
   "nbconvert_exporter": "python",
   "pygments_lexer": "ipython3",
   "version": "3.10.12"
  },
  "widgets": {
   "application/vnd.jupyter.widget-state+json": {
    "state": {},
    "version_major": 2,
    "version_minor": 0
   }
  }
 },
 "nbformat": 4,
 "nbformat_minor": 5
}
