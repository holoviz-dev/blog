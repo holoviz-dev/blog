{
 "cells": [
  {
   "cell_type": "markdown",
   "metadata": {},
   "source": [
    "---\n",
    "title: \"HoloViews Streams for Exploring Multidimensional Data\"\n",
    "date: \"2024-03-20\"\n",
    "description: \"Explores a 4D dataset (time, level, lat, lon) dataset using HoloViews and Panel.\"\n",
    "author: \"Andrew Huang\"\n",
    "categories: [holoviews, streams]\n",
    "image: \"images/template.gif\"\n",
    "aliases: []\n",
    "---"
   ]
  },
  {
   "cell_type": "markdown",
   "metadata": {},
   "source": [
    "Follow along to build an app that uses a 4D dataset (level, time, lat, lon) and explore it by\n",
    "\n",
    "- slicing it in time and level\n",
    "- plotting the data on a map\n",
    "- plotting the data as a cross section"
   ]
  },
  {
   "cell_type": "markdown",
   "metadata": {},
   "source": [
    "## Import the necessary libraries\n",
    "\n",
    "Most of the time, using Python is just knowing what's out there and importing it!"
   ]
  },
  {
   "cell_type": "code",
   "execution_count": null,
   "metadata": {},
   "outputs": [],
   "source": [
    "import param\n",
    "import numpy as np\n",
    "import xarray as xr\n",
    "import panel as pn\n",
    "import hvplot.xarray\n",
    "import geoviews as gv\n",
    "import holoviews as hv\n",
    "from geoviews.streams import PolyDraw\n",
    "from metpy.interpolate import cross_section\n",
    "import cartopy.crs as ccrs\n",
    "\n",
    "pn.extension()\n",
    "gv.extension(\"bokeh\")"
   ]
  },
  {
   "cell_type": "markdown",
   "metadata": {},
   "source": [
    "## Basics"
   ]
  },
  {
   "cell_type": "markdown",
   "metadata": {},
   "source": [
    "### Getting something working\n",
    "\n",
    "Below I show three ways to [download a piece of the NCEP Reanalysis](https://downloads.psl.noaa.gov/Datasets/ncep.reanalysis) dataset from NOAA.\n",
    "\n",
    "It's one of my favorite datasets for testing and writing examples because it's so straightforward to use:\n",
    "- no API key required, which means no need to sign up, verify email, etc.\n",
    "- can be small or large, if 4X daily, concatenated across times, variables, etc\n",
    "- is multi-dimensional (time, level, lat, lon)\n",
    "\n",
    "Below are three variations of downloading a dataset. Note, `1` only works in notebooks; `2` and `3` work in both notebooks and scripts.\n",
    "\n",
    "Since I usually work in a Jupyter notebook, I like to use `1` due to its simplicity--just a `!` + `wget` + `copied url` and an optional `--no-clobber`, `-nc` flag."
   ]
  },
  {
   "cell_type": "code",
   "execution_count": null,
   "metadata": {},
   "outputs": [],
   "source": [
    "# 1.\n",
    "!wget -nc https://downloads.psl.noaa.gov/Datasets/ncep.reanalysis/Dailies/pressure/air.2024.nc\n",
    "\n",
    "# 2.\n",
    "# import subprocess\n",
    "# subprocess.run(\"wget https://downloads.psl.noaa.gov/Datasets/ncep.reanalysis/Dailies/pressure/air.2024.nc\", shell=True)\n",
    "\n",
    "# 3.\n",
    "# import requests\n",
    "# with requests.get(\"https://downloads.psl.noaa.gov/Datasets/ncep.reanalysis/Dailies/pressure/air.2024.nc\") as response:\n",
    "#     response.raise_for_status()\n",
    "#     with open(\"air.2024.nc\", \"wb\") as f:\n",
    "#         f.write(response.content)"
   ]
  },
  {
   "cell_type": "markdown",
   "metadata": {},
   "source": [
    "The hardest part for any projects is getting started (something about static friction > kinetic friction).\n",
    "\n",
    "However, once you get started, things get easier, so what I usually do is take baby steps and get something shown up front immediately.\n",
    "\n",
    "Fortunately, XArray + hvPlot makes it possible!"
   ]
  },
  {
   "cell_type": "code",
   "execution_count": null,
   "metadata": {},
   "outputs": [],
   "source": [
    "ds = xr.open_dataset(\"air.2024.nc\", drop_variables=[\"time_bnds\"])\n",
    "\n",
    "ds"
   ]
  },
  {
   "cell_type": "code",
   "execution_count": null,
   "metadata": {},
   "outputs": [],
   "source": [
    "base_map = ds.hvplot(\"lon\", \"lat\")\n",
    "base_map"
   ]
  },
  {
   "cell_type": "markdown",
   "metadata": {},
   "source": [
    "### Customizing"
   ]
  },
  {
   "cell_type": "markdown",
   "metadata": {},
   "source": [
    "Add keywords such as `coastline`, `cmap`, and `framewise=False` (for consistent colorbar) to the call for a much more polished plot!\n",
    "\n",
    "For better compatibility, I convert longitudes from 0:360 to -180:180 and sort--many packages just work better that way."
   ]
  },
  {
   "cell_type": "code",
   "execution_count": null,
   "metadata": {},
   "outputs": [],
   "source": [
    "# for interactivity purposes on the blog, limit the number of times and levels\n",
    "ds_sel = ds.isel(time=slice(0, 3), level=slice(0, 8))\n",
    "ds_sel[\"lon\"] = (ds_sel[\"lon\"] + 180) % 360 - 180\n",
    "ds_sel = ds_sel.sortby(\"lon\")\n",
    "\n",
    "map_plot = ds_sel.hvplot(\n",
    "    \"lon\",\n",
    "    \"lat\",\n",
    "    coastline=True,\n",
    "    cmap=\"RdYlBu_r\",\n",
    "    clabel=\"Air Temperature [K]\",\n",
    "    framewise=False,\n",
    "    dynamic=False,\n",
    ")\n",
    "map_plot"
   ]
  },
  {
   "cell_type": "markdown",
   "metadata": {},
   "source": [
    "### Fixed latitude cross section"
   ]
  },
  {
   "cell_type": "markdown",
   "metadata": {},
   "source": [
    "We can easily show a static, vertical cross section of the dataset too!"
   ]
  },
  {
   "cell_type": "code",
   "execution_count": null,
   "metadata": {},
   "outputs": [],
   "source": [
    "ds_cs = ds_sel.sel(lat=50)  # cross section across 50°N\n",
    "\n",
    "# cs -> cross section\n",
    "cs_plot = ds_cs.hvplot(\n",
    "    \"lon\",\n",
    "    \"level\",\n",
    "    cmap=\"RdYlBu_r\",\n",
    "    clabel=\"Air Temperature [K]\",\n",
    "    flip_yaxis=True,\n",
    "    framewise=False,\n",
    "    dynamic=False,\n",
    ")\n",
    "\n",
    "cs_plot"
   ]
  },
  {
   "cell_type": "markdown",
   "metadata": {},
   "source": [
    "### Diagonal cross section"
   ]
  },
  {
   "cell_type": "markdown",
   "metadata": {},
   "source": [
    "This is only a cross section across a fixed latitude; what if we wanted a cross section across a diagonal?\n",
    "\n",
    "We can use MetPy's `cross_section` function to interpolate the data along any line!\n",
    "\n",
    "It's crucial to note that the `start` and `end` keywords follow `latitude-longitude` (y, x) pair, NOT (x, y)!"
   ]
  },
  {
   "cell_type": "code",
   "execution_count": null,
   "metadata": {},
   "outputs": [],
   "source": [
    "ds_sel = ds_sel.metpy.parse_cf()  # so it contains proper metadata for metpy to recognize\n",
    "\n",
    "ds_cs = cross_section(ds_sel.isel(time=0), start=(50, -130), end=(50, -50))\n",
    "ds_cs"
   ]
  },
  {
   "cell_type": "code",
   "execution_count": null,
   "metadata": {},
   "outputs": [],
   "source": [
    "ds_cs.hvplot(\n",
    "    \"index\",\n",
    "    \"level\",\n",
    "    cmap=\"RdYlBu_r\",\n",
    "    clabel=\"Air Temperature [K]\",\n",
    "    flip_yaxis=True,\n",
    "    framewise=False,\n",
    "    dynamic=False,\n",
    ")"
   ]
  },
  {
   "cell_type": "markdown",
   "metadata": {},
   "source": [
    "In the previous plot, the coordinate information on the x-axis went missing. We can restore it by doing a little preprocessing."
   ]
  },
  {
   "cell_type": "code",
   "execution_count": null,
   "metadata": {},
   "outputs": [],
   "source": [
    "xticks = [\n",
    "    (i, f\"({abs(lon):.0f}°W, {lat:.0f}°N)\")\n",
    "    for i, (lat, lon) in enumerate(zip(ds_cs[\"lat\"], ds_cs[\"lon\"]))\n",
    "]\n",
    "\n",
    "cs_plot = ds_cs.hvplot(\n",
    "    \"index\",\n",
    "    \"level\",\n",
    "    xticks=xticks[::15],\n",
    "    xlabel=\"Coordinates\",\n",
    "    cmap=\"RdYlBu_r\",\n",
    "    clabel=\"Air Temperature [K]\",\n",
    "    flip_yaxis=True,\n",
    "    framewise=False,\n",
    "    dynamic=False,\n",
    ")\n",
    "cs_plot"
   ]
  },
  {
   "cell_type": "markdown",
   "metadata": {},
   "source": [
    "### Joined together"
   ]
  },
  {
   "cell_type": "markdown",
   "metadata": {},
   "source": [
    "Finally, we can lay both plots by \"adding\" them."
   ]
  },
  {
   "cell_type": "code",
   "execution_count": null,
   "metadata": {},
   "outputs": [],
   "source": [
    "(map_plot + cs_plot).cols(1)"
   ]
  },
  {
   "cell_type": "markdown",
   "metadata": {},
   "source": [
    "## Checkpoint 1\n",
    "\n",
    "Here's a cleaned up, copy/pastable version of the code thus far!\n",
    "\n",
    "```python\n",
    "import subprocess\n",
    "from pathlib import Path\n",
    "\n",
    "import param\n",
    "import numpy as np\n",
    "import xarray as xr\n",
    "import panel as pn\n",
    "import hvplot.xarray\n",
    "import geoviews as gv\n",
    "import holoviews as hv\n",
    "from geoviews.streams import PolyDraw\n",
    "from metpy.interpolate import cross_section\n",
    "import cartopy.crs as ccrs\n",
    "\n",
    "pn.extension()\n",
    "gv.extension(\"bokeh\")\n",
    "\n",
    "if not Path(\"air.2024.nc\").exists():\n",
    "    subprocess.run(\"wget https://downloads.psl.noaa.gov/Datasets/ncep.reanalysis/Dailies/pressure/air.2024.nc\", shell=True)\n",
    "\n",
    "# process data\n",
    "ds = xr.open_dataset(\"air.2024.nc\", drop_variables=[\"time_bnds\"])\n",
    "ds_sel = ds.isel(time=slice(0, 3), level=slice(0, 10)).metpy.parse_cf()\n",
    "ds_sel[\"lon\"] = (ds_sel[\"lon\"] + 180) % 360 - 180\n",
    "ds_sel = ds_sel.sortby(\"lon\")\n",
    "ds_cs = cross_section(ds_sel.isel(time=0), start=(50, -130), end=(50, -50))\n",
    "\n",
    "# visualize data\n",
    "map_plot = ds_sel.hvplot(\n",
    "    \"lon\",\n",
    "    \"lat\",\n",
    "    coastline=True,\n",
    "    cmap=\"RdYlBu_r\",\n",
    "    clabel=\"Air Temperature [K]\",\n",
    "    framewise=False,\n",
    "    dynamic=False,\n",
    ")\n",
    "\n",
    "xticks = [\n",
    "    (i, f\"({abs(lon):.0f}°W, {lat:.0f}°N)\")\n",
    "    for i, (lat, lon) in enumerate(zip(ds_cs[\"lat\"], ds_cs[\"lon\"]))\n",
    "]\n",
    "cs_plot = ds_cs.hvplot(\n",
    "    \"index\",\n",
    "    \"level\",\n",
    "    xticks=xticks[::15],\n",
    "    xlabel=\"Coordinates\",\n",
    "    cmap=\"RdYlBu_r\",\n",
    "    clabel=\"Air Temperature [K]\",\n",
    "    flip_yaxis=True,\n",
    "    framewise=False,\n",
    "    dynamic=False,\n",
    ")\n",
    "\n",
    "(map_plot + cs_plot).cols(1)\n",
    "```"
   ]
  },
  {
   "cell_type": "markdown",
   "metadata": {},
   "source": [
    "## Working with streams\n",
    "\n",
    "Now that we have a foundation, we can attach a stream to the plo to allow users to interact with the plot.\n",
    "\n",
    "To see what streams are available, I check out the [HoloViews Reference Gallery](https://holoviews.org/reference/index.html#streams).\n",
    "\n",
    "Since I want to draw a line across the map to eventually show a cross section, I chose `PolyDraw`.\n"
   ]
  },
  {
   "cell_type": "markdown",
   "metadata": {},
   "source": [
    "<img src=\"https://assets.holoviews.org/gifs/examples/streams/bokeh/poly_draw.gif\" width=300px>"
   ]
  },
  {
   "cell_type": "markdown",
   "metadata": {},
   "source": [
    "### Minimal example"
   ]
  },
  {
   "cell_type": "markdown",
   "metadata": {},
   "source": [
    "To start using:\n",
    "1. click on the PolygonDraw tool in the toolbar\n",
    "2. double tap on the plot to start drawing a polygon\n",
    "3. single tap on each vertex of the polygon\n",
    "4. double tap on the last vertex to finish drawing"
   ]
  },
  {
   "cell_type": "code",
   "execution_count": null,
   "metadata": {},
   "outputs": [],
   "source": [
    "cs_path = gv.Path(([-80, -50, -30], [28, 48, 18]), crs=ccrs.PlateCarree())\n",
    "stream = PolyDraw(source=cs_path, num_objects=1)\n",
    "\n",
    "cs_path"
   ]
  },
  {
   "cell_type": "markdown",
   "metadata": {},
   "source": [
    "We can access the data from the drawn path using the stream.data attribute."
   ]
  },
  {
   "cell_type": "code",
   "execution_count": null,
   "metadata": {},
   "outputs": [],
   "source": [
    "stream.data"
   ]
  },
  {
   "cell_type": "markdown",
   "metadata": {},
   "source": [
    "Let's make something happen when we draw a path on the map by using a `DynamicMap`.\n",
    "\n",
    "The `DynamicMap` will mirror the vertexes of the drawn data."
   ]
  },
  {
   "cell_type": "code",
   "execution_count": null,
   "metadata": {},
   "outputs": [],
   "source": [
    "import geoviews as gv\n",
    "\n",
    "def copy_and_shift_up(data):\n",
    "    # error handling; return empty points if there's no data or there are no valid edges\n",
    "    if not data or not data[\"xs\"] or data[\"xs\"][0][0] == data[\"xs\"][0][1]:\n",
    "        return gv.Points({\"Longitude\": [], \"Latitude\": []})\n",
    "\n",
    "    xs = data[\"xs\"][0]  # 0 to select first edge\n",
    "    ys = data[\"ys\"][0]\n",
    "    return gv.Points({\"Longitude\": xs, \"Latitude\": ys}).opts(color=\"red\")\n",
    "\n",
    "\n",
    "cs_path = gv.Path(([-80, -50, -30], [28, 48, 18]), crs=ccrs.PlateCarree()).opts(active_tools=[\"poly_draw\"])\n",
    "stream = PolyDraw(source=cs_path, num_objects=1)\n",
    "\n",
    "cs_path_shifted = gv.DynamicMap(copy_and_shift_up, streams=[stream])\n",
    "cs_path + cs_path_shifted"
   ]
  },
  {
   "cell_type": "markdown",
   "metadata": {},
   "source": [
    "<img src=\"images/poly_draw_mirror.gif\" width=500px>"
   ]
  },
  {
   "cell_type": "markdown",
   "metadata": {},
   "source": [
    "We can see that the right plot reacts to changes to the drawn path on the left plot.\n",
    "\n",
    "### Interactive cross section\n",
    "\n",
    "Now, let's take a step back to get back to the original goal, which is we want to create a cross section plot based on the path drawn on the map.\n",
    "\n",
    "We can do this by:\n",
    "\n",
    "0. Linking the cross section path (`cs_path`) to the map by overlaying and laying out the map alongside the cross section plot.\n",
    "0. Wrapping the cross section computation and plot inside a `DynamicMap` so that changes to the `cs_path` data changes triggers an update to the cross section.\n",
    "\n",
    "Since the data returned from `cs_path` ranges from -180 to 180, we'll need to match that in our dataaset too."
   ]
  },
  {
   "cell_type": "code",
   "execution_count": null,
   "metadata": {},
   "outputs": [],
   "source": [
    "def create_cross_section(data):\n",
    "    if not data or not data[\"xs\"] or data[\"xs\"][0][0] == data[\"xs\"][0][1]:\n",
    "        return hv.Image([]).opts(width=730, colorbar=True)\n",
    "\n",
    "    xs = data[\"xs\"][0]\n",
    "    ys = data[\"ys\"][0]\n",
    "    ds_cs = cross_section(ds_sel.isel(time=0), start=(ys[0], xs[0]), end=(ys[1], xs[1]))\n",
    "\n",
    "    xticks = [\n",
    "        (i, f\"({abs(lon):.0f}°W, {lat:.0f}°N)\")\n",
    "        for i, (lat, lon) in enumerate(zip(ds_cs[\"lat\"], ds_cs[\"lon\"]))\n",
    "    ]\n",
    "    cs_plot = ds_cs.hvplot(\n",
    "        \"index\",\n",
    "        \"level\",\n",
    "        xticks=xticks[::15],\n",
    "        xlabel=\"Coordinates\",\n",
    "        cmap=\"RdYlBu_r\",\n",
    "        flip_yaxis=True,\n",
    "        dynamic=False,\n",
    "    )\n",
    "    return cs_plot\n",
    "\n",
    "# create stream\n",
    "cs_path = gv.Path([], crs=ccrs.PlateCarree()).opts(color=\"red\", line_width=2)\n",
    "stream = PolyDraw(source=cs_path, num_objects=1)\n",
    "\n",
    "# attach stream\n",
    "cs_plot = gv.DynamicMap(create_cross_section, streams=[stream])\n",
    "\n",
    "# layout\n",
    "map_overlay = (map_plot * cs_path).opts(active_tools=[\"poly_draw\"])\n",
    "(map_overlay + cs_plot).cols(1)"
   ]
  },
  {
   "cell_type": "markdown",
   "metadata": {},
   "source": [
    "![cross_section](images/cross_section.gif)"
   ]
  },
  {
   "cell_type": "markdown",
   "metadata": {},
   "source": [
    "### Fixing issues"
   ]
  },
  {
   "cell_type": "markdown",
   "metadata": {},
   "source": [
    "Outstanding! Now we have a cross section that updates based on the drawn path on the map. This is a great way to explore the data and understand the atmospheric conditions across different latitudes and longitudes!\n",
    "\n",
    "But! There are also outstanding issues, namely:\n",
    "\n",
    "0. The cross section computation only takes into consideration one edge / segment drawn.\n",
    "1. The time is not synced to the cross section plot.\n",
    "\n",
    "Let's fix the first issue, with a simple for loop!"
   ]
  },
  {
   "cell_type": "code",
   "execution_count": null,
   "metadata": {},
   "outputs": [],
   "source": [
    "def create_cross_section(data):\n",
    "    if not data or not data[\"xs\"] or data[\"xs\"][0][0] == data[\"xs\"][0][1]:\n",
    "        return hv.Image([]).opts(width=730, clabel=\"Air Temperature [K]\", colorbar=True)\n",
    "\n",
    "    xs = data[\"xs\"][0]\n",
    "    ys = data[\"ys\"][0]\n",
    "\n",
    "    ds_cs_list = []\n",
    "    for i in range(len(xs) - 1):  # create cross section for each segment\n",
    "        ds_cs_list.append(\n",
    "            cross_section(\n",
    "                ds_sel.isel(time=0),\n",
    "                start=(ys[0 + i], xs[0 + i]),\n",
    "                end=(ys[1 + i], xs[1 + i]),\n",
    "            )\n",
    "        )\n",
    "    ds_cs = xr.concat(ds_cs_list, dim=\"index\")\n",
    "    ds_cs[\"index\"] = np.arange(len(ds_cs[\"index\"]))\n",
    "\n",
    "    xticks = [\n",
    "        (i, f\"({abs(lon):.0f}°W, {lat:.0f}°N)\")\n",
    "        for i, (lat, lon) in enumerate(zip(ds_cs[\"lat\"], ds_cs[\"lon\"]))\n",
    "    ]\n",
    "    cs_plot = ds_cs.hvplot(\n",
    "        \"index\",\n",
    "        \"level\",\n",
    "        xticks=xticks[::15],\n",
    "        xlabel=\"Coordinates\",\n",
    "        cmap=\"RdYlBu_r\",\n",
    "        clabel=\"Air Temperature [K]\",\n",
    "        flip_yaxis=True,\n",
    "        dynamic=False,\n",
    "    )\n",
    "    return cs_plot\n",
    "\n",
    "\n",
    "# attach stream\n",
    "cs_plot = gv.DynamicMap(create_cross_section, streams=[stream])\n",
    "\n",
    "# layout\n",
    "map_overlay = (map_plot * cs_path).opts(active_tools=[\"poly_draw\"])\n",
    "(map_overlay + cs_plot).cols(1)"
   ]
  },
  {
   "cell_type": "markdown",
   "metadata": {},
   "source": [
    "### Using Panel"
   ]
  },
  {
   "cell_type": "markdown",
   "metadata": {},
   "source": [
    "For the second issue, we'll need to convert the HoloMap overlay into a `pn.pane.HoloViews` object.\n",
    "\n",
    "We can then easily extract the widget from the `map_plot` and use it with the `cs_plot`!"
   ]
  },
  {
   "cell_type": "code",
   "execution_count": null,
   "metadata": {},
   "outputs": [],
   "source": [
    "map_pane = pn.pane.HoloViews(map_overlay)"
   ]
  },
  {
   "cell_type": "markdown",
   "metadata": {},
   "source": [
    "Call widget box to get the time slider."
   ]
  },
  {
   "cell_type": "code",
   "execution_count": null,
   "metadata": {},
   "outputs": [],
   "source": [
    "time_slider = map_pane.widget_box[0]\n",
    "time_slider"
   ]
  },
  {
   "cell_type": "markdown",
   "metadata": {},
   "source": [
    "We change: \n",
    "\n",
    "- our callback slightly to include the time slider's param value (very important to use `.param.value` instead of `.value` or else it won't update!)\n",
    "- use `sel(time=value)` instead of `isel(time=0)`."
   ]
  },
  {
   "cell_type": "code",
   "execution_count": null,
   "metadata": {},
   "outputs": [],
   "source": [
    "def create_cross_section(data, value):  # new kwarg\n",
    "    if not data or not data[\"xs\"] or data[\"xs\"][0][0] == data[\"xs\"][0][1]:\n",
    "        return hv.Image([]).opts(width=730, clabel=\"Air Temperature [K]\", colorbar=True)\n",
    "\n",
    "    xs = data[\"xs\"][0]\n",
    "    ys = data[\"ys\"][0]\n",
    "\n",
    "    ds_cs_list = []\n",
    "    for i in range(len(xs) - 1):\n",
    "        ds_cs_list.append(\n",
    "            cross_section(\n",
    "                ds_sel.sel(time=value),\n",
    "                start=(ys[0 + i], xs[0 + i]),\n",
    "                end=(ys[1 + i], xs[1 + i]),\n",
    "            )\n",
    "        )\n",
    "    ds_cs = xr.concat(ds_cs_list, dim=\"index\")\n",
    "    ds_cs[\"index\"] = np.arange(len(ds_cs[\"index\"]))\n",
    "\n",
    "    xticks = [\n",
    "        (i, f\"({abs(lon):.0f}°W, {lat:.0f}°N)\")\n",
    "        for i, (lat, lon) in enumerate(zip(ds_cs[\"lat\"], ds_cs[\"lon\"]))\n",
    "    ]\n",
    "    cs_plot = ds_cs.hvplot(\n",
    "        \"index\",\n",
    "        \"level\",\n",
    "        xticks=xticks[::15],\n",
    "        xlabel=\"Coordinates\",\n",
    "        cmap=\"RdYlBu_r\",\n",
    "        clabel=\"Air Temperature [K]\",\n",
    "        flip_yaxis=True,\n",
    "        dynamic=False,\n",
    "    )\n",
    "    return cs_plot\n",
    "\n",
    "cs_plot = gv.DynamicMap(create_cross_section, streams=[stream, time_slider.param.value])  # new stream"
   ]
  },
  {
   "cell_type": "markdown",
   "metadata": {},
   "source": [
    "Now, let's put everything together!\n",
    "\n",
    "We need to use `pn.Column` instead of adding here because `map_overlay` is no longer a HoloViews object."
   ]
  },
  {
   "cell_type": "code",
   "execution_count": null,
   "metadata": {},
   "outputs": [],
   "source": [
    "pn.Row(pn.Column(map_pane, cs_plot), map_pane.widget_box)"
   ]
  },
  {
   "cell_type": "markdown",
   "metadata": {},
   "source": [
    "## Checkpoint 2\n",
    "\n",
    "Here's the copy pastable code for the second checkpoint:\n",
    "\n",
    "```python\n",
    "import subprocess\n",
    "from pathlib import Path\n",
    "\n",
    "import param\n",
    "import numpy as np\n",
    "import xarray as xr\n",
    "import panel as pn\n",
    "import hvplot.xarray\n",
    "import geoviews as gv\n",
    "import holoviews as hv\n",
    "from geoviews.streams import PolyDraw\n",
    "from metpy.interpolate import cross_section\n",
    "import cartopy.crs as ccrs\n",
    "\n",
    "pn.extension()\n",
    "gv.extension(\"bokeh\")\n",
    "\n",
    "def create_cross_section(data, value):\n",
    "    if not data or not data[\"xs\"] or data[\"xs\"][0][0] == data[\"xs\"][0][1]:\n",
    "        return hv.Image([]).opts(width=730, clabel=\"Air Temperature [K]\", colorbar=True)\n",
    "\n",
    "    xs = data[\"xs\"][0]\n",
    "    ys = data[\"ys\"][0]\n",
    "\n",
    "    ds_cs_list = []\n",
    "    for i in range(len(xs) - 1):\n",
    "        ds_cs_list.append(\n",
    "            cross_section(\n",
    "                ds_sel,\n",
    "                start=(ys[0 + i], xs[0 + i]),\n",
    "                end=(ys[1 + i], xs[1 + i]),\n",
    "            )\n",
    "        )\n",
    "    ds_cs = xr.concat(ds_cs_list, dim=\"index\")\n",
    "    ds_cs[\"index\"] = np.arange(len(ds_cs[\"index\"]))\n",
    "\n",
    "    xticks = [\n",
    "        (i, f\"({abs(lon):.0f}°W, {lat:.0f}°N)\")\n",
    "        for i, (lat, lon) in enumerate(zip(ds_cs[\"lat\"], ds_cs[\"lon\"]))\n",
    "    ]\n",
    "    cs_plot = ds_cs.hvplot(\n",
    "        \"index\",\n",
    "        \"level\",\n",
    "        xticks=xticks[::15],\n",
    "        xlabel=\"Coordinates\",\n",
    "        cmap=\"RdYlBu_r\",\n",
    "        clabel=\"Air Temperature [K]\",\n",
    "        flip_yaxis=True,\n",
    "        dynamic=False,\n",
    "    )\n",
    "    return cs_plot\n",
    "\n",
    "if not Path(\"air.2024.nc\").exists():\n",
    "    subprocess.run(\"wget https://downloads.psl.noaa.gov/Datasets/ncep.reanalysis/Dailies/pressure/air.2024.nc\", shell=True)\n",
    "\n",
    "# process data\n",
    "ds = xr.open_dataset(\"air.2024.nc\", drop_variables=[\"time_bnds\"])\n",
    "ds_sel = ds.isel(time=slice(0, 3), level=slice(0, 10)).metpy.parse_cf()\n",
    "ds_sel[\"lon\"] = (ds_sel[\"lon\"] + 180) % 360 - 180\n",
    "ds_sel = ds_sel.sortby(\"lon\")\n",
    "\n",
    "# create base map\n",
    "map_plot = ds_sel.hvplot(\n",
    "    \"lon\",\n",
    "    \"lat\",\n",
    "    coastline=True,\n",
    "    cmap=\"RdYlBu_r\",\n",
    "    clabel=\"Air Temperature [K]\",\n",
    "    framewise=False,\n",
    "    dynamic=False,\n",
    ")\n",
    "\n",
    "# create stream\n",
    "cs_path = gv.Path([], crs=ccrs.PlateCarree()).opts(color=\"red\", line_width=2)\n",
    "stream = PolyDraw(source=cs_path, num_objects=1)\n",
    "\n",
    "# overlay\n",
    "map_overlay = (map_plot * cs_path).opts(active_tools=[\"poly_draw\"])\n",
    "map_pane = pn.pane.HoloViews(map_overlay)\n",
    "\n",
    "# attach stream\n",
    "time_slider = map_pane.widget_box[0]\n",
    "cs_plot = gv.DynamicMap(create_cross_section, streams=[stream, time_slider.param.value])\n",
    "\n",
    "pn.Row(pn.Column(map_pane, cs_plot), map_pane.widget_box)\n",
    "```\n"
   ]
  },
  {
   "cell_type": "markdown",
   "metadata": {},
   "source": [
    "## Encapsulating into `param` class\n",
    "\n",
    "Now, as you may notice, things are getting a tad complex and out of hand.\n",
    "\n",
    "For the finale, I'll demonstrate how to convert this into an extensible `pn.viewable.Viewer` class.\n",
    "\n",
    "The main things I changed was:\n",
    "\n",
    "1. hvPlot -> HoloViews\n",
    "2. Creating a class to watch time and label\n",
    "3. Manually creating `DynamicMap`s for each plot and writing their own custom callbacks\n",
    "4. Move streams to `@param.depends`"
   ]
  },
  {
   "cell_type": "code",
   "execution_count": null,
   "metadata": {},
   "outputs": [],
   "source": [
    "import param\n",
    "import numpy as np\n",
    "import xarray as xr\n",
    "import panel as pn\n",
    "import hvplot.xarray\n",
    "import geoviews as gv\n",
    "import holoviews as hv\n",
    "from geoviews.streams import PolyDraw\n",
    "from metpy.interpolate import cross_section\n",
    "import cartopy.crs as ccrs\n",
    "\n",
    "pn.extension()\n",
    "gv.extension(\"bokeh\")\n",
    "\n",
    "\n",
    "class DataExplorer(pn.viewable.Viewer):\n",
    "\n",
    "    ds = param.ClassSelector(class_=xr.Dataset)\n",
    "\n",
    "    time = param.Selector()\n",
    "\n",
    "    level = param.Selector()\n",
    "\n",
    "    def __init__(self, ds: xr.Dataset, **params):\n",
    "        super().__init__(**params)\n",
    "        self.ds = ds\n",
    "\n",
    "        # populate selectors\n",
    "        self.param[\"time\"].objects = list(\n",
    "            ds[\"time\"].dt.strftime(\"%Y-%m-%d %H:%M\").values\n",
    "        )\n",
    "        self.param[\"level\"].objects = list(ds[\"level\"].values)\n",
    "\n",
    "        self.time = self.param[\"time\"].objects[0]\n",
    "        self.level = self.param[\"level\"].objects[0]\n",
    "\n",
    "    @param.depends(\"time\", \"level\")\n",
    "    def _update_map(self):\n",
    "        ds_sel = self.ds.sel(time=self.time, level=self.level)\n",
    "        return gv.Image(\n",
    "            ds_sel,\n",
    "            kdims=[\"lon\", \"lat\"],\n",
    "            vdims=[\"air\"],\n",
    "        ).opts(\n",
    "            cmap=\"RdYlBu_r\",\n",
    "            clabel=\"Air Temperature [K]\",\n",
    "            responsive=True,\n",
    "            xaxis=None,\n",
    "            yaxis=None,\n",
    "        )\n",
    "\n",
    "    @param.depends(\"_stream.data\", \"time\")\n",
    "    def _update_cross_section(self):\n",
    "        data = self._stream.data\n",
    "        if not data or not data[\"xs\"]:\n",
    "            data[\"xs\"] = [[-80, -80]]\n",
    "            data[\"ys\"] = [[18, 28]]\n",
    "\n",
    "        ds_sel = self.ds.sel(time=self.time)\n",
    "        ds_sel = ds_sel.metpy.parse_cf()\n",
    "\n",
    "        xs = data[\"xs\"][0]\n",
    "        ys = data[\"ys\"][0]\n",
    "\n",
    "        ds_cs_list = []\n",
    "        for i in range(len(xs) - 1):\n",
    "            ds_cs_list.append(\n",
    "                cross_section(\n",
    "                    ds_sel,\n",
    "                    start=(ys[0 + i], xs[0 + i]),\n",
    "                    end=(ys[1 + i], xs[1 + i]),\n",
    "                )\n",
    "            )\n",
    "        ds_cs = xr.concat(ds_cs_list, dim=\"index\")\n",
    "        ds_cs[\"index\"] = np.arange(len(ds_cs[\"index\"]))\n",
    "\n",
    "        xticks = [\n",
    "            (i, f\"({lon:.0f}°E, {lat:.0f}°N)\")\n",
    "            for i, (lat, lon) in enumerate(zip(ds_cs[\"lat\"], ds_cs[\"lon\"]))\n",
    "        ]\n",
    "        x_indices = np.linspace(0, len(xticks) - 1, 10).astype(int)\n",
    "        xticks = [xticks[i] for i in x_indices]\n",
    "        cs_plot = hv.Image(ds_cs, kdims=[\"index\", \"level\"], vdims=[\"air\"]).opts(\n",
    "            xticks=xticks,\n",
    "            xlabel=\"Coordinates\",\n",
    "            cmap=\"RdYlBu_r\",\n",
    "            clabel=\"Air Temperature [K]\",\n",
    "            invert_yaxis=True,\n",
    "            responsive=True,\n",
    "            xrotation=45,\n",
    "        )\n",
    "        return cs_plot\n",
    "\n",
    "    def __panel__(self):\n",
    "        # create widgets\n",
    "        time_slider = pn.widgets.DiscreteSlider.from_param(self.param[\"time\"])\n",
    "        level_slider = pn.widgets.DiscreteSlider.from_param(self.param[\"level\"])\n",
    "\n",
    "        # create plots\n",
    "        self._cs_path = gv.Path([], crs=ccrs.PlateCarree()).opts(\n",
    "            color=\"red\", line_width=2\n",
    "        )\n",
    "        self._stream = PolyDraw(source=self._cs_path, num_objects=1)\n",
    "\n",
    "        map_plot = gv.DynamicMap(self._update_map)\n",
    "        coastline = gv.feature.coastline()\n",
    "        map_overlay = (map_plot * self._cs_path * coastline).opts(\n",
    "            active_tools=[\"poly_draw\"]\n",
    "        )\n",
    "\n",
    "        self._cs_plot = gv.DynamicMap(self._update_cross_section).opts(framewise=False)\n",
    "\n",
    "        sidebar = pn.Column(time_slider, level_slider)\n",
    "        main = pn.Row(map_overlay, self._cs_plot, sizing_mode=\"stretch_both\")\n",
    "        return pn.template.FastListTemplate(\n",
    "            sidebar=[sidebar],\n",
    "            main=[main],\n",
    "        ).show()\n",
    "\n",
    "\n",
    "ds = xr.open_dataset(\"air.2024.nc\", drop_variables=[\"time_bnds\"])\n",
    "DataExplorer(ds)"
   ]
  },
  {
   "cell_type": "markdown",
   "metadata": {},
   "source": [
    "![template](images/template.gif)"
   ]
  }
 ],
 "metadata": {
  "kernelspec": {
   "display_name": "holoviews",
   "language": "python",
   "name": "python3"
  },
  "language_info": {
   "codemirror_mode": {
    "name": "ipython",
    "version": 3
   },
   "file_extension": ".py",
   "mimetype": "text/x-python",
   "name": "python",
   "nbconvert_exporter": "python",
   "pygments_lexer": "ipython3",
   "version": "3.10.13"
  }
 },
 "nbformat": 4,
 "nbformat_minor": 2
}
