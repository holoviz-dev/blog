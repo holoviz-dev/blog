{
 "cells": [
  {
   "cell_type": "markdown",
   "id": "1669e852-3e4c-4819-a9ee-bfedd2ab62ed",
   "metadata": {},
   "source": [
    "---\n",
    "title: \"Template\"\n",
    "date: \"2023-11-12\"\n",
    "description: \"Template description\"\n",
    "author:\n",
    "  - Maxime Liquet\n",
    "  - Sophia Yang\n",
    "categories: [showcase, panel]\n",
    "image: \"images/collage.png\"\n",
    "---"
   ]
  },
  {
   "cell_type": "markdown",
   "id": "eb68fb53-5c93-449a-bf16-edced92ff738",
   "metadata": {},
   "source": [
    "Example template"
   ]
  },
  {
   "cell_type": "code",
   "execution_count": 1,
   "id": "ffdb50e6-c0c3-46e7-8086-0e0ca134562b",
   "metadata": {},
   "outputs": [
    {
     "name": "stdout",
     "output_type": "stream",
     "text": [
      "template\n"
     ]
    }
   ],
   "source": [
    "print('template')"
   ]
  },
  {
   "cell_type": "markdown",
   "id": "3e839bd5",
   "metadata": {},
   "source": [
    "Example image\n",
    "\n",
    "![](./images/collage.png)"
   ]
  }
 ],
 "metadata": {
  "kernelspec": {
   "display_name": "Python 3 (ipykernel)",
   "language": "python",
   "name": "python3"
  },
  "language_info": {
   "codemirror_mode": {
    "name": "ipython",
    "version": 3
   },
   "file_extension": ".py",
   "mimetype": "text/x-python",
   "name": "python",
   "nbconvert_exporter": "python",
   "pygments_lexer": "ipython3",
   "version": "3.10.12"
  }
 },
 "nbformat": 4,
 "nbformat_minor": 5
}
